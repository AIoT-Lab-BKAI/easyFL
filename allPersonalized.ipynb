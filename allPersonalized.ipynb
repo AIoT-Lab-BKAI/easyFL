{
 "cells": [
  {
   "cell_type": "code",
   "execution_count": 1,
   "metadata": {},
   "outputs": [],
   "source": [
    "from torch.utils.data import DataLoader\n",
    "from benchmark.toolkits import CustomDataset\n",
    "from benchmark.cifar10.model.mlp import Model\n",
    "import torch, json, os, numpy as np, copy\n",
    "from torchvision import datasets, transforms"
   ]
  },
  {
   "attachments": {},
   "cell_type": "markdown",
   "metadata": {},
   "source": [
    "### MNIST data"
   ]
  },
  {
   "cell_type": "code",
   "execution_count": 2,
   "metadata": {},
   "outputs": [],
   "source": [
    "training_data = datasets.MNIST(\n",
    "    root=\"./benchmark/mnist/data\",\n",
    "    train=True,\n",
    "    download=False,\n",
    "    transform=transforms.Compose([transforms.ToTensor(), transforms.Normalize((0.1307,), (0.3081,))]),\n",
    ")\n",
    "testing_data = datasets.MNIST(\n",
    "    root=\"./benchmark/mnist/data\",\n",
    "    train=False,\n",
    "    download=False,\n",
    "    transform=transforms.Compose([transforms.ToTensor(), transforms.Normalize((0.1307,), (0.3081,))]),\n",
    ")"
   ]
  },
  {
   "attachments": {},
   "cell_type": "markdown",
   "metadata": {},
   "source": [
    "### CIFAR10 data"
   ]
  },
  {
   "cell_type": "code",
   "execution_count": 2,
   "metadata": {},
   "outputs": [],
   "source": [
    "training_data = datasets.CIFAR10(\n",
    "    \"./benchmark/cifar10/data\", \n",
    "    train=True, \n",
    "    download=False, \n",
    "    transform=transforms.Compose([transforms.ToTensor(), transforms.Normalize((0.4914, 0.4822, 0.4465), (0.2023, 0.1994, 0.2010))])\n",
    ")\n",
    "testing_data = datasets.CIFAR10(\n",
    "    \"./benchmark/cifar10/data\",  \n",
    "    train=False, \n",
    "    download=False, \n",
    "    transform=transforms.Compose([transforms.ToTensor(), transforms.Normalize((0.4914, 0.4822, 0.4465), (0.2023, 0.1994, 0.2010))])\n",
    ")"
   ]
  },
  {
   "attachments": {},
   "cell_type": "markdown",
   "metadata": {},
   "source": [
    "### Training"
   ]
  },
  {
   "cell_type": "code",
   "execution_count": 3,
   "metadata": {},
   "outputs": [],
   "source": [
    "def train(dataloader, model, loss_fn, optimizer, device):   \n",
    "    model.train()\n",
    "    losses = []\n",
    "        \n",
    "    for batch, (X, y) in enumerate(dataloader):\n",
    "        X, y = X.to(device), y.to(device)\n",
    "\n",
    "        pred = model(X)\n",
    "        loss = loss_fn(pred, y)\n",
    "        \n",
    "        optimizer.zero_grad()\n",
    "        loss.backward()\n",
    "        optimizer.step()\n",
    "\n",
    "        losses.append(loss.item())\n",
    "        \n",
    "    return losses\n",
    "\n",
    "\n",
    "def test(model, testing_data, device=\"cuda\"):\n",
    "    test_loader = DataLoader(testing_data, batch_size=32, shuffle=True, drop_last=False)\n",
    "    model = model.to(device)\n",
    "\n",
    "    loss_fn = torch.nn.CrossEntropyLoss()\n",
    "\n",
    "    size = len(test_loader.dataset)\n",
    "    num_batches = len(test_loader)\n",
    "    model.eval()\n",
    "    test_loss, correct = 0, 0\n",
    "\n",
    "    with torch.no_grad():\n",
    "        for X, y in test_loader:\n",
    "            X, y = X.to(device), y.to(device)\n",
    "            pred = model(X)\n",
    "            test_loss += loss_fn(pred, y).item()\n",
    "            correct += (pred.argmax(1) == y).type(torch.float).sum().item()\n",
    "\n",
    "    test_loss /= num_batches\n",
    "    correct /= size\n",
    "    return correct"
   ]
  },
  {
   "cell_type": "code",
   "execution_count": 4,
   "metadata": {},
   "outputs": [],
   "source": [
    "def read_data(folder_path):\n",
    "    training_jsons = json.load(open(f\"{folder_path}/train.json\", 'r'))\n",
    "    testing_jsons = json.load(open(f\"{folder_path}/test.json\", 'r'))\n",
    "    \n",
    "    training_set = []\n",
    "    testing_set = []\n",
    "    \n",
    "    num_client = 0\n",
    "    for client_id in training_jsons.keys():\n",
    "        num_client += 1\n",
    "        training_set.append(CustomDataset(training_data, training_jsons[client_id]))\n",
    "        testing_set.append(CustomDataset(testing_data, testing_jsons[client_id]))\n",
    "        \n",
    "    singleset_json = []\n",
    "    for client_id in training_jsons.keys():\n",
    "        singleset_json += training_jsons[client_id]\n",
    "    singleset = CustomDataset(training_data, singleset_json)\n",
    "        \n",
    "    return num_client, training_set, testing_set, singleset"
   ]
  },
  {
   "cell_type": "code",
   "execution_count": 5,
   "metadata": {},
   "outputs": [],
   "source": [
    "alpha = 1\n",
    "nclient = 100\n",
    "folder = f\"./dataset_idx/cifar10/dirichlet/dir_{alpha}_sparse/{nclient}client\"\n",
    "\n",
    "num_client, training_set, testing_set, singleset = read_data(folder)"
   ]
  },
  {
   "cell_type": "code",
   "execution_count": 6,
   "metadata": {},
   "outputs": [
    {
     "name": "stdout",
     "output_type": "stream",
     "text": [
      "    Client 0 training... Done! Aver. round loss: 0.362, acc 0.400\n",
      "    Client 1 training... Done! Aver. round loss: 0.375, acc 0.379\n",
      "    Client 2 training... Done! Aver. round loss: 0.219, acc 0.783\n",
      "    Client 3 training... Done! Aver. round loss: 0.327, acc 0.531\n",
      "    Client 4 training... Done! Aver. round loss: 0.320, acc 0.400\n",
      "    Client 5 training... Done! Aver. round loss: 0.358, acc 0.433\n",
      "    Client 6 training... Done! Aver. round loss: 0.263, acc 0.600\n",
      "    Client 7 training... Done! Aver. round loss: 0.484, acc 0.312\n",
      "    Client 8 training... Done! Aver. round loss: 0.365, acc 0.533\n",
      "    Client 9 training... Done! Aver. round loss: 0.295, acc 0.692\n",
      "    Client 10 training... Done! Aver. round loss: 0.194, acc 0.800\n",
      "    Client 11 training... Done! Aver. round loss: 0.202, acc 0.852\n",
      "    Client 12 training... Done! Aver. round loss: 0.248, acc 0.793\n",
      "    Client 13 training... Done! Aver. round loss: 0.545, acc 0.314\n",
      "    Client 14 training... Done! Aver. round loss: 0.183, acc 0.714\n",
      "    Client 15 training... Done! Aver. round loss: 0.105, acc 1.000\n",
      "    Client 16 training... Done! Aver. round loss: 0.437, acc 0.600\n",
      "    Client 17 training... Done! Aver. round loss: 0.474, acc 0.409\n",
      "    Client 18 training... Done! Aver. round loss: 0.311, acc 0.500\n",
      "    Client 19 training... Done! Aver. round loss: 0.231, acc 0.667\n",
      "    Client 20 training... Done! Aver. round loss: 0.367, acc 0.455\n",
      "    Client 21 training... Done! Aver. round loss: 0.380, acc 0.438\n",
      "    Client 22 training... Done! Aver. round loss: 0.122, acc 0.839\n",
      "    Client 23 training... Done! Aver. round loss: 0.242, acc 0.667\n",
      "    Client 24 training... Done! Aver. round loss: 0.568, acc 0.375\n",
      "    Client 25 training... Done! Aver. round loss: 0.365, acc 0.514\n",
      "    Client 26 training... Done! Aver. round loss: 0.280, acc 0.621\n",
      "    Client 27 training... Done! Aver. round loss: 0.379, acc 0.371\n",
      "    Client 28 training... Done! Aver. round loss: 0.224, acc 0.634\n",
      "    Client 29 training... Done! Aver. round loss: 0.226, acc 0.630\n",
      "    Client 30 training... Done! Aver. round loss: 0.332, acc 0.667\n",
      "    Client 31 training... Done! Aver. round loss: 0.371, acc 0.467\n",
      "    Client 32 training... Done! Aver. round loss: 0.316, acc 0.636\n",
      "    Client 33 training... Done! Aver. round loss: 0.202, acc 0.897\n",
      "    Client 34 training... Done! Aver. round loss: 0.099, acc 1.000\n",
      "    Client 35 training... Done! Aver. round loss: 0.390, acc 0.476\n",
      "    Client 36 training... Done! Aver. round loss: 0.165, acc 0.706\n",
      "    Client 37 training... Done! Aver. round loss: 0.321, acc 0.365\n",
      "    Client 38 training... Done! Aver. round loss: 0.202, acc 1.000\n",
      "    Client 39 training... Done! Aver. round loss: 0.244, acc 0.576\n",
      "    Client 40 training... Done! Aver. round loss: 0.300, acc 0.643\n",
      "    Client 41 training... Done! Aver. round loss: 0.284, acc 0.650\n",
      "    Client 42 training... Done! Aver. round loss: 0.164, acc 0.893\n",
      "    Client 43 training... Done! Aver. round loss: 0.485, acc 0.400\n",
      "    Client 44 training... Done! Aver. round loss: 0.270, acc 0.552\n",
      "    Client 45 training... Done! Aver. round loss: 0.354, acc 0.267\n",
      "    Client 46 training... Done! Aver. round loss: 0.399, acc 0.350\n",
      "    Client 47 training... Done! Aver. round loss: 0.320, acc 0.409\n",
      "    Client 48 training... Done! Aver. round loss: 0.439, acc 0.250\n",
      "    Client 49 training... Done! Aver. round loss: 0.273, acc 0.767\n",
      "    Client 50 training... Done! Aver. round loss: 0.161, acc 1.000\n",
      "    Client 51 training... Done! Aver. round loss: 0.468, acc 0.438\n",
      "    Client 52 training... Done! Aver. round loss: 0.125, acc 0.844\n",
      "    Client 53 training... Done! Aver. round loss: 0.370, acc 0.351\n",
      "    Client 54 training... Done! Aver. round loss: 0.367, acc 0.400\n",
      "    Client 55 training... Done! Aver. round loss: 0.233, acc 0.444\n",
      "    Client 56 training... Done! Aver. round loss: 0.234, acc 0.528\n",
      "    Client 57 training... Done! Aver. round loss: 0.312, acc 0.390\n",
      "    Client 58 training... Done! Aver. round loss: 0.231, acc 0.857\n",
      "    Client 59 training... Done! Aver. round loss: 0.286, acc 0.630\n",
      "    Client 60 training... Done! Aver. round loss: 0.322, acc 0.769\n",
      "    Client 61 training... Done! Aver. round loss: 0.265, acc 0.621\n",
      "    Client 62 training... Done! Aver. round loss: 0.155, acc 0.867\n",
      "    Client 63 training... Done! Aver. round loss: 0.462, acc 0.240\n",
      "    Client 64 training... Done! Aver. round loss: 0.485, acc 0.320\n",
      "    Client 65 training... Done! Aver. round loss: 0.230, acc 0.571\n",
      "    Client 66 training... Done! Aver. round loss: 0.278, acc 0.625\n",
      "    Client 67 training... Done! Aver. round loss: 0.493, acc 0.400\n",
      "    Client 68 training... Done! Aver. round loss: 0.340, acc 0.410\n",
      "    Client 69 training... Done! Aver. round loss: 0.258, acc 0.750\n",
      "    Client 70 training... Done! Aver. round loss: 0.359, acc 0.419\n",
      "    Client 71 training... Done! Aver. round loss: 0.412, acc 0.458\n",
      "    Client 72 training... Done! Aver. round loss: 0.343, acc 0.600\n",
      "    Client 73 training... Done! Aver. round loss: 0.381, acc 0.357\n",
      "    Client 74 training... Done! Aver. round loss: 0.315, acc 1.000\n",
      "    Client 75 training... Done! Aver. round loss: 0.254, acc 0.812\n",
      "    Client 76 training... Done! Aver. round loss: 0.417, acc 0.364\n",
      "    Client 77 training... Done! Aver. round loss: 0.219, acc 0.783\n",
      "    Client 78 training... Done! Aver. round loss: 0.179, acc 0.810\n",
      "    Client 79 training... Done! Aver. round loss: 0.457, acc 0.286\n",
      "    Client 80 training... Done! Aver. round loss: 0.464, acc 0.300\n",
      "    Client 81 training... Done! Aver. round loss: 0.324, acc 0.450\n",
      "    Client 82 training... Done! Aver. round loss: 0.400, acc 0.419\n",
      "    Client 83 training... Done! Aver. round loss: 0.341, acc 0.304\n",
      "    Client 84 training... Done! Aver. round loss: 0.402, acc 0.818\n",
      "    Client 85 training... Done! Aver. round loss: 0.245, acc 0.640\n",
      "    Client 86 training... Done! Aver. round loss: 0.312, acc 0.516\n",
      "    Client 87 training... Done! Aver. round loss: 0.473, acc 0.600\n",
      "    Client 88 training... Done! Aver. round loss: 0.285, acc 0.524\n",
      "    Client 89 training... Done! Aver. round loss: 0.321, acc 0.733\n",
      "    Client 90 training... Done! Aver. round loss: 0.272, acc 0.553\n",
      "    Client 91 training... Done! Aver. round loss: 0.277, acc 0.421\n",
      "    Client 92 training... Done! Aver. round loss: 0.492, acc 0.333\n",
      "    Client 93 training... Done! Aver. round loss: 0.387, acc 0.406\n",
      "    Client 94 training... Done! Aver. round loss: 0.215, acc 0.512\n",
      "    Client 95 training... Done! Aver. round loss: 0.463, acc 0.500\n",
      "    Client 96 training... Done! Aver. round loss: 0.384, acc 0.333\n",
      "    Client 97 training... Done! Aver. round loss: 0.310, acc 0.684\n",
      "    Client 98 training... Done! Aver. round loss: 0.337, acc 0.517\n",
      "    Client 99 training... Done! Aver. round loss: 0.438, acc 0.286\n"
     ]
    }
   ],
   "source": [
    "device = 'cuda:1'\n",
    "batch_size = 4\n",
    "epochs = 200\n",
    "accs = []\n",
    "\n",
    "for client_id in range(num_client):\n",
    "    print(\"    Client {} training... \".format(client_id), end=\"\")\n",
    "    # Training process\n",
    "    my_training_dataset = training_set[client_id]\n",
    "    my_testing_dataset = testing_set[client_id]\n",
    "    \n",
    "    local_model = Model().to(device)\n",
    "    \n",
    "    train_dataloader = DataLoader(my_training_dataset, batch_size=batch_size, shuffle=True, drop_last=False)\n",
    "    loss_fn = torch.nn.CrossEntropyLoss()\n",
    "    optimizer = torch.optim.SGD(local_model.parameters(), lr=1e-3)\n",
    "    \n",
    "    epoch_loss = []\n",
    "    for t in range(epochs):\n",
    "        epoch_loss.append(np.mean(train(train_dataloader, local_model, loss_fn, optimizer, device)))\n",
    "        \n",
    "    # Testing the local_model to its own data\n",
    "    acc = test(local_model, my_testing_dataset, device=device)\n",
    "    print(f\"Done! Aver. round loss: {np.mean(epoch_loss):>.3f}, acc {acc:>.3f}\")\n",
    "    accs.append(acc)"
   ]
  },
  {
   "cell_type": "code",
   "execution_count": 7,
   "metadata": {},
   "outputs": [
    {
     "data": {
      "text/plain": [
       "(0.5642012837604456, 0.19845116245385142)"
      ]
     },
     "execution_count": 7,
     "metadata": {},
     "output_type": "execute_result"
    }
   ],
   "source": [
    "np.mean(accs), np.std(accs)"
   ]
  }
 ],
 "metadata": {
  "kernelspec": {
   "display_name": "longnd",
   "language": "python",
   "name": "python3"
  },
  "language_info": {
   "codemirror_mode": {
    "name": "ipython",
    "version": 3
   },
   "file_extension": ".py",
   "mimetype": "text/x-python",
   "name": "python",
   "nbconvert_exporter": "python",
   "pygments_lexer": "ipython3",
   "version": "3.8.12 | packaged by conda-forge | (default, Oct 12 2021, 21:57:06) \n[GCC 9.4.0]"
  },
  "orig_nbformat": 4,
  "vscode": {
   "interpreter": {
    "hash": "9f784b053654bb8129a3cb1aa1762d7834caeb9ba8691a85058f59d7796858ce"
   }
  }
 },
 "nbformat": 4,
 "nbformat_minor": 2
}
