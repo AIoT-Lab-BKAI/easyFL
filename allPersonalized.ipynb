{
 "cells": [
  {
   "cell_type": "code",
   "execution_count": 1,
   "metadata": {},
   "outputs": [],
   "source": [
    "from torch.utils.data import DataLoader\n",
    "from benchmark.toolkits import CustomDataset\n",
    "from benchmark.mnist.model.mlp import Model\n",
    "import torch, json, os, numpy as np, copy\n",
    "from torchvision import datasets, transforms"
   ]
  },
  {
   "attachments": {},
   "cell_type": "markdown",
   "metadata": {},
   "source": [
    "### MNIST data"
   ]
  },
  {
   "cell_type": "code",
   "execution_count": 2,
   "metadata": {},
   "outputs": [],
   "source": [
    "training_data = datasets.MNIST(\n",
    "    root=\"./benchmark/mnist/data\",\n",
    "    train=True,\n",
    "    download=False,\n",
    "    transform=transforms.Compose([transforms.ToTensor(), transforms.Normalize((0.1307,), (0.3081,))]),\n",
    ")\n",
    "testing_data = datasets.MNIST(\n",
    "    root=\"./benchmark/mnist/data\",\n",
    "    train=False,\n",
    "    download=False,\n",
    "    transform=transforms.Compose([transforms.ToTensor(), transforms.Normalize((0.1307,), (0.3081,))]),\n",
    ")"
   ]
  },
  {
   "attachments": {},
   "cell_type": "markdown",
   "metadata": {},
   "source": [
    "### CIFAR10 data"
   ]
  },
  {
   "cell_type": "code",
   "execution_count": null,
   "metadata": {},
   "outputs": [],
   "source": [
    "training_data = datasets.CIFAR10(\n",
    "    \"./benchmark/cifar10/data\", \n",
    "    train=True, \n",
    "    download=False, \n",
    "    transform=transforms.Compose([transforms.ToTensor(), transforms.Normalize((0.4914, 0.4822, 0.4465), (0.2023, 0.1994, 0.2010))])\n",
    ")\n",
    "testing_data = datasets.CIFAR10(\n",
    "    \"./benchmark/cifar10/data\",  \n",
    "    train=False, \n",
    "    download=False, \n",
    "    transform=transforms.Compose([transforms.ToTensor(), transforms.Normalize((0.4914, 0.4822, 0.4465), (0.2023, 0.1994, 0.2010))])\n",
    ")"
   ]
  },
  {
   "attachments": {},
   "cell_type": "markdown",
   "metadata": {},
   "source": [
    "### Training"
   ]
  },
  {
   "cell_type": "code",
   "execution_count": 3,
   "metadata": {},
   "outputs": [],
   "source": [
    "def train(dataloader, model, loss_fn, optimizer, device):   \n",
    "    model.train()\n",
    "    losses = []\n",
    "        \n",
    "    for batch, (X, y) in enumerate(dataloader):\n",
    "        X, y = X.to(device), y.to(device)\n",
    "\n",
    "        pred = model(X)\n",
    "        loss = loss_fn(pred, y)\n",
    "        \n",
    "        optimizer.zero_grad()\n",
    "        loss.backward()\n",
    "        optimizer.step()\n",
    "\n",
    "        losses.append(loss.item())\n",
    "        \n",
    "    return losses\n",
    "\n",
    "\n",
    "def test(model, testing_data, device=\"cuda\"):\n",
    "    test_loader = DataLoader(testing_data, batch_size=32, shuffle=True, drop_last=False)\n",
    "    model = model.to(device)\n",
    "\n",
    "    loss_fn = torch.nn.CrossEntropyLoss()\n",
    "\n",
    "    size = len(test_loader.dataset)\n",
    "    num_batches = len(test_loader)\n",
    "    model.eval()\n",
    "    test_loss, correct = 0, 0\n",
    "\n",
    "    with torch.no_grad():\n",
    "        for X, y in test_loader:\n",
    "            X, y = X.to(device), y.to(device)\n",
    "            pred = model(X)\n",
    "            test_loss += loss_fn(pred, y).item()\n",
    "            correct += (pred.argmax(1) == y).type(torch.float).sum().item()\n",
    "\n",
    "    test_loss /= num_batches\n",
    "    correct /= size\n",
    "    return correct"
   ]
  },
  {
   "cell_type": "code",
   "execution_count": 64,
   "metadata": {},
   "outputs": [],
   "source": [
    "def read_data(folder_path):\n",
    "    training_jsons = json.load(open(f\"{folder_path}/mnist_sparse.json\", 'r'))\n",
    "    testing_jsons = json.load(open(f\"{folder_path}/mnist_sparse_test.json\", 'r'))\n",
    "    \n",
    "    training_set = []\n",
    "    testing_set = []\n",
    "    \n",
    "    num_client = 0\n",
    "    for client_id in training_jsons.keys():\n",
    "        num_client += 1\n",
    "        training_set.append(CustomDataset(training_data, training_jsons[client_id]))\n",
    "        testing_set.append(CustomDataset(testing_data, testing_jsons[client_id]))\n",
    "        \n",
    "    singleset_json = []\n",
    "    for client_id in training_jsons.keys():\n",
    "        singleset_json += training_jsons[client_id]\n",
    "    singleset = CustomDataset(training_data, singleset_json)\n",
    "        \n",
    "    return num_client, training_set, testing_set, singleset"
   ]
  },
  {
   "cell_type": "code",
   "execution_count": 67,
   "metadata": {},
   "outputs": [],
   "source": [
    "alpha = 1\n",
    "nclient = 50\n",
    "folder = f\"./dataset_idx/mnist/dirichlet/dir({alpha})_sparse/{nclient}client\"\n",
    "\n",
    "num_client, training_set, testing_set, singleset = read_data(folder)"
   ]
  },
  {
   "cell_type": "code",
   "execution_count": 68,
   "metadata": {},
   "outputs": [
    {
     "name": "stdout",
     "output_type": "stream",
     "text": [
      "    Client 0 training... Done! Aver. round loss: 0.500, acc 0.615\n",
      "    Client 1 training... Done! Aver. round loss: 0.384, acc 0.667\n",
      "    Client 2 training... Done! Aver. round loss: 0.252, acc 0.722\n",
      "    Client 3 training... Done! Aver. round loss: 0.524, acc 0.537\n",
      "    Client 4 training... Done! Aver. round loss: 0.520, acc 0.710\n",
      "    Client 5 training... Done! Aver. round loss: 0.272, acc 0.931\n",
      "    Client 6 training... Done! Aver. round loss: 0.231, acc 1.000\n",
      "    Client 7 training... Done! Aver. round loss: 0.523, acc 0.615\n",
      "    Client 8 training... Done! Aver. round loss: 0.594, acc 0.594\n",
      "    Client 9 training... Done! Aver. round loss: 0.604, acc 0.870\n",
      "    Client 10 training... Done! Aver. round loss: 0.401, acc 0.800\n",
      "    Client 11 training... Done! Aver. round loss: 0.282, acc 0.649\n",
      "    Client 12 training... Done! Aver. round loss: 0.366, acc 0.933\n",
      "    Client 13 training... Done! Aver. round loss: 0.774, acc 0.581\n",
      "    Client 14 training... Done! Aver. round loss: 0.509, acc 0.594\n",
      "    Client 15 training... Done! Aver. round loss: 0.762, acc 0.450\n",
      "    Client 16 training... Done! Aver. round loss: 0.422, acc 0.677\n",
      "    Client 17 training... Done! Aver. round loss: 0.753, acc 0.688\n",
      "    Client 18 training... Done! Aver. round loss: 0.432, acc 0.750\n",
      "    Client 19 training... Done! Aver. round loss: 0.207, acc 1.000\n",
      "    Client 20 training... Done! Aver. round loss: 0.435, acc 0.677\n",
      "    Client 21 training... Done! Aver. round loss: 0.428, acc 0.840\n",
      "    Client 22 training... Done! Aver. round loss: 0.392, acc 0.620\n",
      "    Client 23 training... Done! Aver. round loss: 0.694, acc 0.429\n",
      "    Client 24 training... Done! Aver. round loss: 0.399, acc 0.704\n",
      "    Client 25 training... Done! Aver. round loss: 0.384, acc 0.778\n",
      "    Client 26 training... Done! Aver. round loss: 0.346, acc 0.893\n",
      "    Client 27 training... Done! Aver. round loss: 0.527, acc 0.545\n",
      "    Client 28 training... Done! Aver. round loss: 0.179, acc 0.824\n",
      "    Client 29 training... Done! Aver. round loss: 0.149, acc 0.862\n",
      "    Client 30 training... Done! Aver. round loss: 0.683, acc 0.455\n",
      "    Client 31 training... Done! Aver. round loss: 0.405, acc 0.583\n",
      "    Client 32 training... Done! Aver. round loss: 0.281, acc 0.947\n",
      "    Client 33 training... Done! Aver. round loss: 0.354, acc 0.625\n",
      "    Client 34 training... Done! Aver. round loss: 0.448, acc 0.744\n",
      "    Client 35 training... Done! Aver. round loss: 0.148, acc 1.000\n",
      "    Client 36 training... Done! Aver. round loss: 1.043, acc 0.600\n",
      "    Client 37 training... Done! Aver. round loss: 0.999, acc 0.233\n",
      "    Client 38 training... Done! Aver. round loss: 0.321, acc 0.870\n",
      "    Client 39 training... Done! Aver. round loss: 0.537, acc 0.520\n",
      "    Client 40 training... Done! Aver. round loss: 0.336, acc 0.824\n",
      "    Client 41 training... Done! Aver. round loss: 0.450, acc 0.781\n",
      "    Client 42 training... Done! Aver. round loss: 0.689, acc 0.517\n",
      "    Client 43 training... Done! Aver. round loss: 0.104, acc 1.000\n",
      "    Client 44 training... Done! Aver. round loss: 0.440, acc 0.773\n",
      "    Client 45 training... Done! Aver. round loss: 0.356, acc 0.818\n",
      "    Client 46 training... Done! Aver. round loss: 0.502, acc 0.769\n",
      "    Client 47 training... Done! Aver. round loss: 0.401, acc 0.857\n",
      "    Client 48 training... Done! Aver. round loss: 0.161, acc 0.821\n",
      "    Client 49 training... Done! Aver. round loss: 0.291, acc 0.676\n"
     ]
    }
   ],
   "source": [
    "device = 'cuda:1'\n",
    "batch_size = 4\n",
    "epochs = 200\n",
    "accs = []\n",
    "\n",
    "for client_id in range(num_client):\n",
    "    print(\"    Client {} training... \".format(client_id), end=\"\")\n",
    "    # Training process\n",
    "    my_training_dataset = training_set[client_id]\n",
    "    my_testing_dataset = testing_set[client_id]\n",
    "    \n",
    "    local_model = Model().to(device)\n",
    "    \n",
    "    train_dataloader = DataLoader(my_training_dataset, batch_size=batch_size, shuffle=True, drop_last=False)\n",
    "    loss_fn = torch.nn.CrossEntropyLoss()\n",
    "    optimizer = torch.optim.SGD(local_model.parameters(), lr=1e-3)\n",
    "    \n",
    "    epoch_loss = []\n",
    "    for t in range(epochs):\n",
    "        epoch_loss.append(np.mean(train(train_dataloader, local_model, loss_fn, optimizer, device)))\n",
    "        \n",
    "    # Testing the local_model to its own data\n",
    "    acc = test(local_model, my_testing_dataset, device=device)\n",
    "    print(f\"Done! Aver. round loss: {np.mean(epoch_loss):>.3f}, acc {acc:>.3f}\")\n",
    "    accs.append(acc)"
   ]
  },
  {
   "cell_type": "code",
   "execution_count": 69,
   "metadata": {},
   "outputs": [
    {
     "data": {
      "text/plain": [
       "(0.7193218538464126, 0.16706008004143919)"
      ]
     },
     "execution_count": 69,
     "metadata": {},
     "output_type": "execute_result"
    }
   ],
   "source": [
    "np.mean(accs), np.std(accs)"
   ]
  }
 ],
 "metadata": {
  "kernelspec": {
   "display_name": "longnd",
   "language": "python",
   "name": "python3"
  },
  "language_info": {
   "codemirror_mode": {
    "name": "ipython",
    "version": 3
   },
   "file_extension": ".py",
   "mimetype": "text/x-python",
   "name": "python",
   "nbconvert_exporter": "python",
   "pygments_lexer": "ipython3",
   "version": "3.8.12"
  },
  "orig_nbformat": 4,
  "vscode": {
   "interpreter": {
    "hash": "9f784b053654bb8129a3cb1aa1762d7834caeb9ba8691a85058f59d7796858ce"
   }
  }
 },
 "nbformat": 4,
 "nbformat_minor": 2
}
