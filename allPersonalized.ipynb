{
 "cells": [
  {
   "cell_type": "code",
   "execution_count": 9,
   "metadata": {},
   "outputs": [],
   "source": [
    "from torch.utils.data import DataLoader\n",
    "from benchmark.toolkits import CustomDataset\n",
    "from benchmark.cifar10.model.mlp import Model\n",
    "import torch, json, os, numpy as np, copy\n",
    "from torchvision import datasets, transforms"
   ]
  },
  {
   "attachments": {},
   "cell_type": "markdown",
   "metadata": {},
   "source": [
    "### MNIST data"
   ]
  },
  {
   "cell_type": "code",
   "execution_count": 2,
   "metadata": {},
   "outputs": [],
   "source": [
    "training_data = datasets.MNIST(\n",
    "    root=\"./benchmark/mnist/data\",\n",
    "    train=True,\n",
    "    download=False,\n",
    "    transform=transforms.Compose([transforms.ToTensor(), transforms.Normalize((0.1307,), (0.3081,))]),\n",
    ")\n",
    "testing_data = datasets.MNIST(\n",
    "    root=\"./benchmark/mnist/data\",\n",
    "    train=False,\n",
    "    download=False,\n",
    "    transform=transforms.Compose([transforms.ToTensor(), transforms.Normalize((0.1307,), (0.3081,))]),\n",
    ")"
   ]
  },
  {
   "attachments": {},
   "cell_type": "markdown",
   "metadata": {},
   "source": [
    "### CIFAR10 data"
   ]
  },
  {
   "cell_type": "code",
   "execution_count": 2,
   "metadata": {},
   "outputs": [],
   "source": [
    "training_data = datasets.CIFAR10(\n",
    "    \"./benchmark/cifar10/data\", \n",
    "    train=True, \n",
    "    download=False, \n",
    "    transform=transforms.Compose([transforms.ToTensor(), transforms.Normalize((0.4914, 0.4822, 0.4465), (0.2023, 0.1994, 0.2010))])\n",
    ")\n",
    "testing_data = datasets.CIFAR10(\n",
    "    \"./benchmark/cifar10/data\",  \n",
    "    train=False, \n",
    "    download=False, \n",
    "    transform=transforms.Compose([transforms.ToTensor(), transforms.Normalize((0.4914, 0.4822, 0.4465), (0.2023, 0.1994, 0.2010))])\n",
    ")"
   ]
  },
  {
   "attachments": {},
   "cell_type": "markdown",
   "metadata": {},
   "source": [
    "### Training"
   ]
  },
  {
   "cell_type": "code",
   "execution_count": 3,
   "metadata": {},
   "outputs": [],
   "source": [
    "def train(dataloader, model, loss_fn, optimizer, device):   \n",
    "    model.train()\n",
    "    losses = []\n",
    "        \n",
    "    for batch, (X, y) in enumerate(dataloader):\n",
    "        X, y = X.to(device), y.to(device)\n",
    "\n",
    "        pred = model(X)\n",
    "        loss = loss_fn(pred, y)\n",
    "        \n",
    "        optimizer.zero_grad()\n",
    "        loss.backward()\n",
    "        optimizer.step()\n",
    "\n",
    "        losses.append(loss.item())\n",
    "        \n",
    "    return losses\n",
    "\n",
    "\n",
    "def test(model, testing_data, device=\"cuda\"):\n",
    "    test_loader = DataLoader(testing_data, batch_size=32, shuffle=True, drop_last=False)\n",
    "    model = model.to(device)\n",
    "\n",
    "    loss_fn = torch.nn.CrossEntropyLoss()\n",
    "\n",
    "    size = len(test_loader.dataset)\n",
    "    num_batches = len(test_loader)\n",
    "    model.eval()\n",
    "    test_loss, correct = 0, 0\n",
    "\n",
    "    with torch.no_grad():\n",
    "        for X, y in test_loader:\n",
    "            X, y = X.to(device), y.to(device)\n",
    "            pred = model(X)\n",
    "            test_loss += loss_fn(pred, y).item()\n",
    "            correct += (pred.argmax(1) == y).type(torch.float).sum().item()\n",
    "\n",
    "    test_loss /= num_batches\n",
    "    correct /= size\n",
    "    return correct"
   ]
  },
  {
   "cell_type": "code",
   "execution_count": 4,
   "metadata": {},
   "outputs": [],
   "source": [
    "def read_data(folder_path):\n",
    "    training_jsons = json.load(open(f\"{folder_path}/cifar10_sparse.json\", 'r'))\n",
    "    testing_jsons = json.load(open(f\"{folder_path}/cifar10_sparse_test.json\", 'r'))\n",
    "    \n",
    "    training_set = []\n",
    "    testing_set = []\n",
    "    \n",
    "    num_client = 0\n",
    "    for client_id in training_jsons.keys():\n",
    "        num_client += 1\n",
    "        training_set.append(CustomDataset(training_data, training_jsons[client_id]))\n",
    "        testing_set.append(CustomDataset(testing_data, testing_jsons[client_id]))\n",
    "        \n",
    "    singleset_json = []\n",
    "    for client_id in training_jsons.keys():\n",
    "        singleset_json += training_jsons[client_id]\n",
    "    singleset = CustomDataset(training_data, singleset_json)\n",
    "        \n",
    "    return num_client, training_set, testing_set, singleset"
   ]
  },
  {
   "cell_type": "code",
   "execution_count": 7,
   "metadata": {},
   "outputs": [],
   "source": [
    "alpha = 1\n",
    "nclient = 100\n",
    "folder = f\"./dataset_idx/cifar10/dirichlet/dir_{alpha}_sparse/{nclient}client\"\n",
    "\n",
    "num_client, training_set, testing_set, singleset = read_data(folder)"
   ]
  },
  {
   "cell_type": "code",
   "execution_count": 10,
   "metadata": {},
   "outputs": [
    {
     "name": "stdout",
     "output_type": "stream",
     "text": [
      "    Client 0 training... Done! Aver. round loss: 0.182, acc 0.500\n",
      "    Client 1 training... Done! Aver. round loss: 0.104, acc 0.806\n",
      "    Client 2 training... Done! Aver. round loss: 0.160, acc 0.682\n",
      "    Client 3 training... Done! Aver. round loss: 0.162, acc 0.545\n",
      "    Client 4 training... Done! Aver. round loss: 0.183, acc 0.528\n",
      "    Client 5 training... Done! Aver. round loss: 0.120, acc 0.950\n",
      "    Client 6 training... Done! Aver. round loss: 0.167, acc 0.375\n",
      "    Client 7 training... Done! Aver. round loss: 0.140, acc 0.797\n",
      "    Client 8 training... Done! Aver. round loss: 0.214, acc 0.600\n",
      "    Client 9 training... Done! Aver. round loss: 0.148, acc 1.000\n",
      "    Client 10 training... Done! Aver. round loss: 0.144, acc 0.712\n",
      "    Client 11 training... Done! Aver. round loss: 0.188, acc 0.607\n",
      "    Client 12 training... Done! Aver. round loss: 0.070, acc 0.985\n",
      "    Client 13 training... Done! Aver. round loss: 0.130, acc 0.850\n",
      "    Client 14 training... Done! Aver. round loss: 0.089, acc 0.812\n",
      "    Client 15 training... Done! Aver. round loss: 0.161, acc 0.617\n",
      "    Client 16 training... Done! Aver. round loss: 0.222, acc 0.486\n",
      "    Client 17 training... Done! Aver. round loss: 0.385, acc 0.375\n",
      "    Client 18 training... Done! Aver. round loss: 0.146, acc 0.792\n",
      "    Client 19 training... Done! Aver. round loss: 0.155, acc 0.659\n",
      "    Client 20 training... Done! Aver. round loss: 0.177, acc 0.643\n",
      "    Client 21 training... Done! Aver. round loss: 0.221, acc 0.450\n",
      "    Client 22 training... Done! Aver. round loss: 0.156, acc 0.816\n",
      "    Client 23 training... Done! Aver. round loss: 0.122, acc 0.661\n",
      "    Client 24 training... Done! Aver. round loss: 0.265, acc 0.844\n",
      "    Client 25 training... Done! Aver. round loss: 0.165, acc 0.825\n",
      "    Client 26 training... Done! Aver. round loss: 0.143, acc 0.300\n",
      "    Client 27 training... Done! Aver. round loss: 0.119, acc 0.583\n",
      "    Client 28 training... Done! Aver. round loss: 0.142, acc 0.955\n",
      "    Client 29 training... Done! Aver. round loss: 0.133, acc 0.500\n",
      "    Client 30 training... Done! Aver. round loss: 0.143, acc 0.519\n",
      "    Client 31 training... Done! Aver. round loss: 0.190, acc 0.679\n",
      "    Client 32 training... Done! Aver. round loss: 0.102, acc 0.794\n",
      "    Client 33 training... Done! Aver. round loss: 0.235, acc 0.833\n",
      "    Client 34 training... Done! Aver. round loss: 0.123, acc 0.827\n",
      "    Client 35 training... Done! Aver. round loss: 0.104, acc 0.917\n",
      "    Client 36 training... Done! Aver. round loss: 0.086, acc 0.925\n",
      "    Client 37 training... Done! Aver. round loss: 0.109, acc 0.792\n",
      "    Client 38 training... Done! Aver. round loss: 0.181, acc 0.500\n",
      "    Client 39 training... Done! Aver. round loss: 0.154, acc 0.650\n",
      "    Client 40 training... Done! Aver. round loss: 0.231, acc 0.672\n",
      "    Client 41 training... Done! Aver. round loss: 0.092, acc 0.725\n",
      "    Client 42 training... Done! Aver. round loss: 0.100, acc 0.794\n",
      "    Client 43 training... Done! Aver. round loss: 0.197, acc 0.583\n",
      "    Client 44 training... Done! Aver. round loss: 0.127, acc 0.708\n",
      "    Client 45 training... Done! Aver. round loss: 0.111, acc 1.000\n",
      "    Client 46 training... Done! Aver. round loss: 0.138, acc 0.625\n",
      "    Client 47 training... Done! Aver. round loss: 0.124, acc 0.706\n",
      "    Client 48 training... Done! Aver. round loss: 0.095, acc 0.904\n",
      "    Client 49 training... Done! Aver. round loss: 0.193, acc 0.536\n",
      "    Client 50 training... Done! Aver. round loss: 0.161, acc 0.675\n",
      "    Client 51 training... Done! Aver. round loss: 0.132, acc 0.792\n",
      "    Client 52 training... Done! Aver. round loss: 0.179, acc 0.467\n",
      "    Client 53 training... Done! Aver. round loss: 0.147, acc 0.625\n",
      "    Client 54 training... Done! Aver. round loss: 0.126, acc 0.850\n",
      "    Client 55 training... Done! Aver. round loss: 0.059, acc 0.750\n",
      "    Client 56 training... Done! Aver. round loss: 0.178, acc 0.425\n",
      "    Client 57 training... Done! Aver. round loss: 0.177, acc 0.812\n",
      "    Client 58 training... Done! Aver. round loss: 0.133, acc 0.550\n",
      "    Client 59 training... Done! Aver. round loss: 0.150, acc 0.625\n",
      "    Client 60 training... Done! Aver. round loss: 0.128, acc 0.659\n",
      "    Client 61 training... Done! Aver. round loss: 0.166, acc 0.500\n",
      "    Client 62 training... Done! Aver. round loss: 0.131, acc 0.982\n",
      "    Client 63 training... Done! Aver. round loss: 0.266, acc 0.453\n",
      "    Client 64 training... Done! Aver. round loss: 0.180, acc 0.250\n",
      "    Client 65 training... Done! Aver. round loss: 0.207, acc 0.429\n",
      "    Client 66 training... Done! Aver. round loss: 0.232, acc 0.844\n",
      "    Client 67 training... Done! Aver. round loss: 0.152, acc 0.700\n",
      "    Client 68 training... Done! Aver. round loss: 0.181, acc 0.559\n",
      "    Client 69 training... Done! Aver. round loss: 0.133, acc 1.000\n",
      "    Client 70 training... Done! Aver. round loss: 0.171, acc 0.795\n",
      "    Client 71 training... Done! Aver. round loss: 0.189, acc 0.750\n",
      "    Client 72 training... Done! Aver. round loss: 0.116, acc 0.931\n",
      "    Client 73 training... Done! Aver. round loss: 0.243, acc 0.559\n",
      "    Client 74 training... Done! Aver. round loss: 0.267, acc 0.591\n",
      "    Client 75 training... Done! Aver. round loss: 0.165, acc 0.600\n",
      "    Client 76 training... Done! Aver. round loss: 0.196, acc 0.722\n",
      "    Client 77 training... Done! Aver. round loss: 0.172, acc 0.929\n",
      "    Client 78 training... Done! Aver. round loss: 0.112, acc 0.847\n",
      "    Client 79 training... Done! Aver. round loss: 0.114, acc 0.800\n",
      "    Client 80 training... Done! Aver. round loss: 0.059, acc 0.932\n",
      "    Client 81 training... Done! Aver. round loss: 0.114, acc 0.829\n",
      "    Client 82 training... Done! Aver. round loss: 0.212, acc 0.542\n",
      "    Client 83 training... Done! Aver. round loss: 0.209, acc 0.500\n",
      "    Client 84 training... Done! Aver. round loss: 0.118, acc 0.825\n",
      "    Client 85 training... Done! Aver. round loss: 0.198, acc 0.679\n",
      "    Client 86 training... Done! Aver. round loss: 0.115, acc 1.000\n",
      "    Client 87 training... Done! Aver. round loss: 0.128, acc 0.562\n",
      "    Client 88 training... Done! Aver. round loss: 0.114, acc 0.692\n",
      "    Client 89 training... Done! Aver. round loss: 0.137, acc 0.421\n",
      "    Client 90 training... Done! Aver. round loss: 0.090, acc 0.700\n",
      "    Client 91 training... Done! Aver. round loss: 0.110, acc 0.875\n",
      "    Client 92 training... Done! Aver. round loss: 0.201, acc 0.583\n",
      "    Client 93 training... Done! Aver. round loss: 0.127, acc 0.538\n",
      "    Client 94 training... Done! Aver. round loss: 0.174, acc 0.632\n",
      "    Client 95 training... Done! Aver. round loss: 0.127, acc 0.950\n",
      "    Client 96 training... Done! Aver. round loss: 0.147, acc 0.250\n",
      "    Client 97 training... Done! Aver. round loss: 0.100, acc 0.861\n",
      "    Client 98 training... Done! Aver. round loss: 0.193, acc 0.333\n",
      "    Client 99 training... Done! Aver. round loss: 0.176, acc 0.773\n"
     ]
    }
   ],
   "source": [
    "device = 'cuda:1'\n",
    "batch_size = 4\n",
    "epochs = 200\n",
    "accs = []\n",
    "\n",
    "for client_id in range(num_client):\n",
    "    print(\"    Client {} training... \".format(client_id), end=\"\")\n",
    "    # Training process\n",
    "    my_training_dataset = training_set[client_id]\n",
    "    my_testing_dataset = testing_set[client_id]\n",
    "    \n",
    "    local_model = Model().to(device)\n",
    "    \n",
    "    train_dataloader = DataLoader(my_training_dataset, batch_size=batch_size, shuffle=True, drop_last=False)\n",
    "    loss_fn = torch.nn.CrossEntropyLoss()\n",
    "    optimizer = torch.optim.SGD(local_model.parameters(), lr=1e-3)\n",
    "    \n",
    "    epoch_loss = []\n",
    "    for t in range(epochs):\n",
    "        epoch_loss.append(np.mean(train(train_dataloader, local_model, loss_fn, optimizer, device)))\n",
    "        \n",
    "    # Testing the local_model to its own data\n",
    "    acc = test(local_model, my_testing_dataset, device=device)\n",
    "    print(f\"Done! Aver. round loss: {np.mean(epoch_loss):>.3f}, acc {acc:>.3f}\")\n",
    "    accs.append(acc)"
   ]
  },
  {
   "cell_type": "code",
   "execution_count": 11,
   "metadata": {},
   "outputs": [
    {
     "data": {
      "text/plain": [
       "(0.6889037238668623, 0.1818306580866311)"
      ]
     },
     "execution_count": 11,
     "metadata": {},
     "output_type": "execute_result"
    }
   ],
   "source": [
    "np.mean(accs), np.std(accs)"
   ]
  }
 ],
 "metadata": {
  "kernelspec": {
   "display_name": "pytorch",
   "language": "python",
   "name": "python3"
  },
  "language_info": {
   "codemirror_mode": {
    "name": "ipython",
    "version": 3
   },
   "file_extension": ".py",
   "mimetype": "text/x-python",
   "name": "python",
   "nbconvert_exporter": "python",
   "pygments_lexer": "ipython3",
   "version": "3.10.6 (main, Oct  7 2022, 20:19:58) [GCC 11.2.0]"
  },
  "orig_nbformat": 4,
  "vscode": {
   "interpreter": {
    "hash": "4dbc9917bcaa9a9fa434c727723b90f93ecc3435121eacd019fcd02c268a833c"
   }
  }
 },
 "nbformat": 4,
 "nbformat_minor": 2
}
