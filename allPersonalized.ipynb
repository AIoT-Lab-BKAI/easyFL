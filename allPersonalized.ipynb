{
 "cells": [
  {
   "cell_type": "code",
   "execution_count": 1,
   "metadata": {},
   "outputs": [],
   "source": [
    "from torch.utils.data import DataLoader\n",
    "from benchmark.toolkits import CustomDataset\n",
    "from benchmark.mnist.model.mlp import Model\n",
    "import torch, json, os, numpy as np, copy\n",
    "from torchvision import datasets, transforms"
   ]
  },
  {
   "attachments": {},
   "cell_type": "markdown",
   "metadata": {},
   "source": [
    "### MNIST data"
   ]
  },
  {
   "cell_type": "code",
   "execution_count": 2,
   "metadata": {},
   "outputs": [],
   "source": [
    "training_data = datasets.MNIST(\n",
    "    root=\"./benchmark/mnist/data\",\n",
    "    train=True,\n",
    "    download=False,\n",
    "    transform=transforms.Compose([transforms.ToTensor(), transforms.Normalize((0.1307,), (0.3081,))]),\n",
    ")\n",
    "testing_data = datasets.MNIST(\n",
    "    root=\"./benchmark/mnist/data\",\n",
    "    train=False,\n",
    "    download=False,\n",
    "    transform=transforms.Compose([transforms.ToTensor(), transforms.Normalize((0.1307,), (0.3081,))]),\n",
    ")"
   ]
  },
  {
   "attachments": {},
   "cell_type": "markdown",
   "metadata": {},
   "source": [
    "### CIFAR10 data"
   ]
  },
  {
   "cell_type": "code",
   "execution_count": null,
   "metadata": {},
   "outputs": [],
   "source": [
    "training_data = datasets.CIFAR10(\n",
    "    \"./benchmark/cifar10/data\", \n",
    "    train=True, \n",
    "    download=False, \n",
    "    transform=transforms.Compose([transforms.ToTensor(), transforms.Normalize((0.4914, 0.4822, 0.4465), (0.2023, 0.1994, 0.2010))])\n",
    ")\n",
    "testing_data = datasets.CIFAR10(\n",
    "    \"./benchmark/cifar10/data\",  \n",
    "    train=False, \n",
    "    download=False, \n",
    "    transform=transforms.Compose([transforms.ToTensor(), transforms.Normalize((0.4914, 0.4822, 0.4465), (0.2023, 0.1994, 0.2010))])\n",
    ")"
   ]
  },
  {
   "attachments": {},
   "cell_type": "markdown",
   "metadata": {},
   "source": [
    "### Training"
   ]
  },
  {
   "cell_type": "code",
   "execution_count": 3,
   "metadata": {},
   "outputs": [],
   "source": [
    "def train(dataloader, model, loss_fn, optimizer, device):   \n",
    "    model.train()\n",
    "    losses = []\n",
    "        \n",
    "    for batch, (X, y) in enumerate(dataloader):\n",
    "        X, y = X.to(device), y.to(device)\n",
    "\n",
    "        pred = model(X)\n",
    "        loss = loss_fn(pred, y)\n",
    "        \n",
    "        optimizer.zero_grad()\n",
    "        loss.backward()\n",
    "        optimizer.step()\n",
    "\n",
    "        losses.append(loss.item())\n",
    "        \n",
    "    return losses\n",
    "\n",
    "\n",
    "def test(model, testing_data, device=\"cuda\"):\n",
    "    test_loader = DataLoader(testing_data, batch_size=32, shuffle=True, drop_last=False)\n",
    "    model = model.to(device)\n",
    "\n",
    "    loss_fn = torch.nn.CrossEntropyLoss()\n",
    "\n",
    "    size = len(test_loader.dataset)\n",
    "    num_batches = len(test_loader)\n",
    "    model.eval()\n",
    "    test_loss, correct = 0, 0\n",
    "\n",
    "    with torch.no_grad():\n",
    "        for X, y in test_loader:\n",
    "            X, y = X.to(device), y.to(device)\n",
    "            pred = model(X)\n",
    "            test_loss += loss_fn(pred, y).item()\n",
    "            correct += (pred.argmax(1) == y).type(torch.float).sum().item()\n",
    "\n",
    "    test_loss /= num_batches\n",
    "    correct /= size\n",
    "    return correct"
   ]
  },
  {
   "cell_type": "code",
   "execution_count": 33,
   "metadata": {},
   "outputs": [],
   "source": [
    "alpha = 0.1\n",
    "nclient = 100\n",
    "folder = f\"./dataset_idx/mnist/dirichlet/dir({alpha})_sparse/{nclient}client\"\n",
    "\n",
    "def read_data(folder_path):\n",
    "    training_jsons = json.load(open(f\"{folder_path}/mnist_sparse.json\", 'r'))\n",
    "    testing_jsons = json.load(open(f\"{folder_path}/mnist_sparse_test.json\", 'r'))\n",
    "    \n",
    "    training_set = []\n",
    "    testing_set = []\n",
    "    \n",
    "    num_client = 0\n",
    "    for client_id in training_jsons.keys():\n",
    "        num_client += 1\n",
    "        training_set.append(CustomDataset(training_data, training_jsons[client_id]))\n",
    "        testing_set.append(CustomDataset(testing_data, testing_jsons[client_id]))\n",
    "        \n",
    "    singleset_json = []\n",
    "    for client_id in training_jsons.keys():\n",
    "        singleset_json += training_jsons[client_id]\n",
    "    singleset = CustomDataset(training_data, singleset_json)\n",
    "        \n",
    "    return num_client, training_set, testing_set, singleset"
   ]
  },
  {
   "cell_type": "code",
   "execution_count": 34,
   "metadata": {},
   "outputs": [],
   "source": [
    "num_client, training_set, testing_set, singleset = read_data(folder)"
   ]
  },
  {
   "cell_type": "code",
   "execution_count": 35,
   "metadata": {},
   "outputs": [
    {
     "name": "stdout",
     "output_type": "stream",
     "text": [
      "    Client 0 training... Done! Aver. round loss: 0.093, acc 0.392\n",
      "    Client 1 training... Done! Aver. round loss: 0.139, acc 0.250\n",
      "    Client 2 training... Done! Aver. round loss: 0.223, acc 0.331\n",
      "    Client 3 training... Done! Aver. round loss: 0.141, acc 0.250\n",
      "    Client 4 training... Done! Aver. round loss: 0.109, acc 0.328\n",
      "    Client 5 training... Done! Aver. round loss: 0.113, acc 0.357\n",
      "    Client 6 training... Done! Aver. round loss: 0.097, acc 0.343\n",
      "    Client 7 training... Done! Aver. round loss: 0.329, acc 0.143\n",
      "    Client 8 training... Done! Aver. round loss: 0.202, acc 0.354\n",
      "    Client 9 training... Done! Aver. round loss: 0.197, acc 0.224\n",
      "    Client 10 training... Done! Aver. round loss: 0.122, acc 0.338\n",
      "    Client 11 training... Done! Aver. round loss: 0.108, acc 0.313\n",
      "    Client 12 training... Done! Aver. round loss: 0.291, acc 0.151\n",
      "    Client 13 training... Done! Aver. round loss: 0.107, acc 0.323\n",
      "    Client 14 training... Done! Aver. round loss: 0.136, acc 0.268\n",
      "    Client 15 training... Done! Aver. round loss: 0.155, acc 0.256\n",
      "    Client 16 training... Done! Aver. round loss: 0.144, acc 0.286\n",
      "    Client 17 training... Done! Aver. round loss: 0.128, acc 0.244\n",
      "    Client 18 training... Done! Aver. round loss: 0.145, acc 0.256\n",
      "    Client 19 training... Done! Aver. round loss: 0.175, acc 0.224\n",
      "    Client 20 training... Done! Aver. round loss: 0.111, acc 0.333\n",
      "    Client 21 training... Done! Aver. round loss: 0.279, acc 0.291\n",
      "    Client 22 training... Done! Aver. round loss: 0.228, acc 0.346\n",
      "    Client 23 training... Done! Aver. round loss: 0.104, acc 0.357\n",
      "    Client 24 training... Done! Aver. round loss: 0.322, acc 0.143\n",
      "    Client 25 training... Done! Aver. round loss: 0.268, acc 0.143\n",
      "    Client 26 training... Done! Aver. round loss: 0.096, acc 0.313\n",
      "    Client 27 training... Done! Aver. round loss: 0.098, acc 0.313\n",
      "    Client 28 training... Done! Aver. round loss: 0.077, acc 0.392\n",
      "    Client 29 training... Done! Aver. round loss: 0.202, acc 0.237\n",
      "    Client 30 training... Done! Aver. round loss: 0.253, acc 0.151\n",
      "    Client 31 training... Done! Aver. round loss: 0.078, acc 0.333\n",
      "    Client 32 training... Done! Aver. round loss: 0.432, acc 0.295\n",
      "    Client 33 training... Done! Aver. round loss: 0.172, acc 0.211\n",
      "    Client 34 training... Done! Aver. round loss: 0.128, acc 0.274\n",
      "    Client 35 training... Done! Aver. round loss: 0.131, acc 0.313\n",
      "    Client 36 training... Done! Aver. round loss: 0.261, acc 0.246\n",
      "    Client 37 training... Done! Aver. round loss: 0.227, acc 0.174\n",
      "    Client 38 training... Done! Aver. round loss: 0.307, acc 0.204\n",
      "    Client 39 training... Done! Aver. round loss: 0.116, acc 0.291\n",
      "    Client 40 training... Done! Aver. round loss: 0.254, acc 0.159\n",
      "    Client 41 training... Done! Aver. round loss: 0.283, acc 0.143\n",
      "    Client 42 training... Done! Aver. round loss: 0.078, acc 0.400\n",
      "    Client 43 training... Done! Aver. round loss: 0.165, acc 0.302\n",
      "    Client 44 training... Done! Aver. round loss: 0.101, acc 0.371\n",
      "    Client 45 training... Done! Aver. round loss: 0.114, acc 0.362\n",
      "    Client 46 training... Done! Aver. round loss: 0.117, acc 0.308\n",
      "    Client 47 training... Done! Aver. round loss: 0.095, acc 0.379\n",
      "    Client 48 training... Done! Aver. round loss: 0.215, acc 0.182\n",
      "    Client 49 training... Done! Aver. round loss: 0.311, acc 0.339\n",
      "    Client 50 training... Done! Aver. round loss: 0.207, acc 0.302\n",
      "    Client 51 training... Done! Aver. round loss: 0.236, acc 0.333\n",
      "    Client 52 training... Done! Aver. round loss: 0.129, acc 0.274\n",
      "    Client 53 training... Done! Aver. round loss: 0.207, acc 0.182\n",
      "    Client 54 training... Done! Aver. round loss: 0.138, acc 0.286\n",
      "    Client 55 training... Done! Aver. round loss: 0.222, acc 0.189\n",
      "    Client 56 training... Done! Aver. round loss: 0.208, acc 0.174\n",
      "    Client 57 training... Done! Aver. round loss: 0.147, acc 0.353\n",
      "    Client 58 training... Done! Aver. round loss: 0.094, acc 0.297\n",
      "    Client 59 training... Done! Aver. round loss: 0.440, acc 0.307\n",
      "    Client 60 training... Done! Aver. round loss: 0.123, acc 0.426\n",
      "    Client 61 training... Done! Aver. round loss: 0.187, acc 0.182\n",
      "    Client 62 training... Done! Aver. round loss: 0.095, acc 0.348\n",
      "    Client 63 training... Done! Aver. round loss: 0.143, acc 0.224\n",
      "    Client 64 training... Done! Aver. round loss: 0.196, acc 0.204\n",
      "    Client 65 training... Done! Aver. round loss: 0.093, acc 0.379\n",
      "    Client 66 training... Done! Aver. round loss: 0.238, acc 0.204\n",
      "    Client 67 training... Done! Aver. round loss: 0.103, acc 0.343\n",
      "    Client 68 training... Done! Aver. round loss: 0.258, acc 0.339\n",
      "    Client 69 training... Done! Aver. round loss: 0.337, acc 0.224\n",
      "    Client 70 training... Done! Aver. round loss: 0.172, acc 0.414\n",
      "    Client 71 training... Done! Aver. round loss: 0.112, acc 0.302\n",
      "    Client 72 training... Done! Aver. round loss: 0.105, acc 0.328\n",
      "    Client 73 training... Done! Aver. round loss: 0.112, acc 0.318\n",
      "    Client 74 training... Done! Aver. round loss: 0.108, acc 0.348\n",
      "    Client 75 training... Done! Aver. round loss: 0.085, acc 0.333\n",
      "    Client 76 training... Done! Aver. round loss: 0.197, acc 0.167\n",
      "    Client 77 training... Done! Aver. round loss: 0.243, acc 0.309\n",
      "    Client 78 training... Done! Aver. round loss: 0.399, acc 0.419\n",
      "    Client 79 training... Done! Aver. round loss: 0.153, acc 0.291\n",
      "    Client 80 training... Done! Aver. round loss: 0.098, acc 0.384\n",
      "    Client 81 training... Done! Aver. round loss: 0.076, acc 0.400\n",
      "    Client 82 training... Done! Aver. round loss: 0.144, acc 0.291\n",
      "    Client 83 training... Done! Aver. round loss: 0.101, acc 0.338\n",
      "    Client 84 training... Done! Aver. round loss: 0.185, acc 0.373\n",
      "    Client 85 training... Done! Aver. round loss: 0.291, acc 0.325\n",
      "    Client 86 training... Done! Aver. round loss: 0.090, acc 0.357\n",
      "    Client 87 training... Done! Aver. round loss: 0.239, acc 0.304\n",
      "    Client 88 training... Done! Aver. round loss: 0.248, acc 0.286\n",
      "    Client 89 training... Done! Aver. round loss: 0.112, acc 0.328\n",
      "    Client 90 training... Done! Aver. round loss: 0.186, acc 0.204\n",
      "    Client 91 training... Done! Aver. round loss: 0.105, acc 0.338\n",
      "    Client 92 training... Done! Aver. round loss: 0.086, acc 0.396\n",
      "    Client 93 training... Done! Aver. round loss: 0.296, acc 0.400\n",
      "    Client 94 training... Done! Aver. round loss: 0.189, acc 0.217\n",
      "    Client 95 training... Done! Aver. round loss: 0.136, acc 0.286\n",
      "    Client 96 training... Done! Aver. round loss: 0.164, acc 0.224\n",
      "    Client 97 training... Done! Aver. round loss: 0.390, acc 0.255\n",
      "    Client 98 training... Done! Aver. round loss: 0.121, acc 0.262\n",
      "    Client 99 training... Done! Aver. round loss: 0.221, acc 0.159\n"
     ]
    }
   ],
   "source": [
    "device = 'cuda:1'\n",
    "global_model = Model().to(device)\n",
    "batch_size = 4\n",
    "epochs = 500\n",
    "accs = []\n",
    "\n",
    "for client_id in range(num_client):\n",
    "    print(\"    Client {} training... \".format(client_id), end=\"\")\n",
    "    # Training process\n",
    "    my_training_dataset = training_set[client_id]\n",
    "    my_testing_dataset = testing_set[client_id]\n",
    "    \n",
    "    local_model = copy.deepcopy(global_model).to(device)\n",
    "    \n",
    "    train_dataloader = DataLoader(my_training_dataset, batch_size=batch_size, shuffle=True, drop_last=False)\n",
    "    loss_fn = torch.nn.CrossEntropyLoss()\n",
    "    optimizer = torch.optim.SGD(local_model.parameters(), lr=1e-3)\n",
    "    \n",
    "    epoch_loss = []\n",
    "    for t in range(epochs):\n",
    "        epoch_loss.append(np.mean(train(train_dataloader, local_model, loss_fn, optimizer, device)))\n",
    "        \n",
    "    # Testing the local_model to its own data\n",
    "    acc = test(local_model, my_testing_dataset, device=device)\n",
    "    print(f\"Done! Aver. round loss: {np.mean(epoch_loss):>.3f}, acc {acc:>.3f}\")\n",
    "    accs.append(acc)"
   ]
  },
  {
   "cell_type": "code",
   "execution_count": 36,
   "metadata": {},
   "outputs": [
    {
     "data": {
      "text/plain": [
       "(0.2886185161511579, 0.07459735865549506)"
      ]
     },
     "execution_count": 36,
     "metadata": {},
     "output_type": "execute_result"
    }
   ],
   "source": [
    "np.mean(accs), np.std(accs)"
   ]
  }
 ],
 "metadata": {
  "kernelspec": {
   "display_name": "longnd",
   "language": "python",
   "name": "python3"
  },
  "language_info": {
   "codemirror_mode": {
    "name": "ipython",
    "version": 3
   },
   "file_extension": ".py",
   "mimetype": "text/x-python",
   "name": "python",
   "nbconvert_exporter": "python",
   "pygments_lexer": "ipython3",
   "version": "3.8.12"
  },
  "orig_nbformat": 4,
  "vscode": {
   "interpreter": {
    "hash": "9f784b053654bb8129a3cb1aa1762d7834caeb9ba8691a85058f59d7796858ce"
   }
  }
 },
 "nbformat": 4,
 "nbformat_minor": 2
}
