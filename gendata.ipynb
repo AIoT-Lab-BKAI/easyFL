{
 "cells": [
  {
   "cell_type": "code",
   "execution_count": 1,
   "metadata": {},
   "outputs": [],
   "source": [
    "from pathlib import Path\n",
    "import torch\n",
    "from torch.utils.data import DataLoader, Dataset, random_split\n",
    "from torchvision import datasets, transforms\n",
    "import json\n",
    "import numpy as np\n",
    "import os\n",
    "\n",
    "class NumpyEncoder(json.JSONEncoder):\n",
    "    \"\"\" Special json encoder for numpy types \"\"\"\n",
    "    def default(self, obj):\n",
    "        if isinstance(obj, np.integer):\n",
    "            return int(obj)\n",
    "        elif isinstance(obj, np.floating):\n",
    "            return float(obj)\n",
    "        elif isinstance(obj, np.ndarray):\n",
    "            return obj.tolist()\n",
    "        return json.JSONEncoder.default(self, obj)"
   ]
  },
  {
   "attachments": {},
   "cell_type": "markdown",
   "metadata": {},
   "source": [
    "## Dataset"
   ]
  },
  {
   "attachments": {},
   "cell_type": "markdown",
   "metadata": {},
   "source": [
    "### MNIST"
   ]
  },
  {
   "cell_type": "code",
   "execution_count": 5,
   "metadata": {},
   "outputs": [],
   "source": [
    "training_data = datasets.MNIST(\n",
    "    root=\"./benchmark/mnist/data/\",\n",
    "    train=True,\n",
    "    download=False,\n",
    "    transform=transforms.Compose([transforms.ToTensor(), transforms.Normalize((0.1307,), (0.3081,))]),\n",
    ")\n",
    "\n",
    "testing_data = datasets.MNIST(\n",
    "    root=\"./benchmark/mnist/data/\",\n",
    "    train=False,\n",
    "    download=False,\n",
    "    transform=transforms.Compose([transforms.ToTensor(), transforms.Normalize((0.1307,), (0.3081,))]),\n",
    ")\n",
    "\n",
    "dataset=\"mnist\""
   ]
  },
  {
   "attachments": {},
   "cell_type": "markdown",
   "metadata": {},
   "source": [
    "### EMNIST"
   ]
  },
  {
   "cell_type": "code",
   "execution_count": null,
   "metadata": {},
   "outputs": [],
   "source": [
    "training_data = datasets.EMNIST(\n",
    "    root=\"./benchmark/emnist/data/\",\n",
    "    split=\"letters\",\n",
    "    train=True,\n",
    "    download=False,\n",
    "    transform=transforms.Compose([transforms.ToTensor(), transforms.Normalize((0.1307,), (0.3081,))]),\n",
    ")\n",
    "\n",
    "testing_data = datasets.EMNIST(\n",
    "    root=\"./benchmark/emnist/data/\",\n",
    "    split=\"letters\",\n",
    "    train=False,\n",
    "    download=False,\n",
    "    transform=transforms.Compose([transforms.ToTensor(), transforms.Normalize((0.1307,), (0.3081,))]),\n",
    ")\n",
    "\n",
    "dataset=\"emnist\""
   ]
  },
  {
   "attachments": {},
   "cell_type": "markdown",
   "metadata": {},
   "source": [
    "### CIFAR10"
   ]
  },
  {
   "cell_type": "code",
   "execution_count": 2,
   "metadata": {},
   "outputs": [],
   "source": [
    "training_data = datasets.CIFAR10(\n",
    "    root=\"../PersonalizedFL/myPFL/benchmark/cifar10/data/\",\n",
    "    train=True,\n",
    "    download=False,\n",
    "    transform=transforms.Compose([transforms.ToTensor(), transforms.Normalize((0.4914, 0.4822, 0.4465), (0.2023, 0.1994, 0.2010))]),\n",
    ")\n",
    "\n",
    "testing_data = datasets.CIFAR10(\n",
    "    root=\"../PersonalizedFL/myPFL/benchmark/cifar10/data/\",\n",
    "    train=False,\n",
    "    download=False,\n",
    "    transform=transforms.Compose([transforms.ToTensor(), transforms.Normalize((0.4914, 0.4822, 0.4465), (0.2023, 0.1994, 0.2010))]),\n",
    ")\n",
    "\n",
    "dataset=\"cifar10\""
   ]
  },
  {
   "attachments": {},
   "cell_type": "markdown",
   "metadata": {},
   "source": [
    "### Fashion MNIST"
   ]
  },
  {
   "cell_type": "code",
   "execution_count": null,
   "metadata": {},
   "outputs": [],
   "source": [
    "training_data = datasets.FashionMNIST(\n",
    "    root=\"./benchmark/fmnist/data\", \n",
    "    train=True, \n",
    "    download=True, \n",
    "    transform=transforms.Compose([transforms.ToTensor(), transforms.Normalize((0.1307,), (0.3081,))])\n",
    ")\n",
    "\n",
    "testing_data = datasets.FashionMNIST(\n",
    "    root=\"./benchmark/fmnist/data\", \n",
    "    train=False, \n",
    "    download=True, \n",
    "    transform=transforms.Compose([transforms.ToTensor(), transforms.Normalize((0.1307,), (0.3081,))])\n",
    ")"
   ]
  },
  {
   "attachments": {},
   "cell_type": "markdown",
   "metadata": {},
   "source": [
    "### CIFAR100"
   ]
  },
  {
   "cell_type": "code",
   "execution_count": 2,
   "metadata": {},
   "outputs": [],
   "source": [
    "training_data = datasets.CIFAR100(\n",
    "    root=\"../PersonalizedFL/myPFL/benchmark/cifar100/data/\",\n",
    "    train=True,\n",
    "    download=False,\n",
    "    transform=transforms.Compose([transforms.ToTensor(), transforms.Normalize((0.4914, 0.4822, 0.4465), (0.2023, 0.1994, 0.2010))]),\n",
    ")\n",
    "\n",
    "testing_data = datasets.CIFAR100(\n",
    "    root=\"../PersonalizedFL/myPFL/benchmark/cifar100/data/\",\n",
    "    train=False,\n",
    "    download=False,\n",
    "    transform=transforms.Compose([transforms.ToTensor(), transforms.Normalize((0.4914, 0.4822, 0.4465), (0.2023, 0.1994, 0.2010))]),\n",
    ")\n",
    "\n",
    "dataset=\"cifar100\""
   ]
  },
  {
   "attachments": {},
   "cell_type": "markdown",
   "metadata": {},
   "source": [
    "### ImageNet"
   ]
  },
  {
   "cell_type": "code",
   "execution_count": null,
   "metadata": {},
   "outputs": [],
   "source": [
    "training_data = datasets.ImageNet(\n",
    "    root=\"./benchmark/cifar100/data/\",\n",
    "    train=True,\n",
    "    download=False,\n",
    "    transform=transforms.Compose([transforms.ToTensor(), transforms.Normalize((0.4914, 0.4822, 0.4465), (0.2023, 0.1994, 0.2010))]),\n",
    ")\n",
    "\n",
    "testing_data = datasets.ImageNet(\n",
    "    root=\"./benchmark/cifar100/data/\",\n",
    "    train=False,\n",
    "    download=True,\n",
    "    transform=transforms.Compose([transforms.ToTensor(), transforms.Normalize((0.4914, 0.4822, 0.4465), (0.2023, 0.1994, 0.2010))]),\n",
    ")"
   ]
  },
  {
   "attachments": {},
   "cell_type": "markdown",
   "metadata": {},
   "source": [
    "### TINY-ImageNet"
   ]
  },
  {
   "cell_type": "code",
   "execution_count": 2,
   "metadata": {},
   "outputs": [],
   "source": [
    "data_folder = \"../datasets/data/tiny-imagenet-200/train\"\n",
    "\n",
    "transform = transforms.Compose([transforms.Resize((224, 224)), transforms.ToTensor(), transforms.Normalize(mean=[0.5, 0.5, 0.5], std=[0.5, 0.5, 0.5])])\n",
    "total_data = datasets.ImageFolder(data_folder, transform=transform)\n",
    "training_data, testing_data = random_split(total_data, [80000, 20000], generator=torch.Generator().manual_seed(200200))"
   ]
  },
  {
   "attachments": {},
   "cell_type": "markdown",
   "metadata": {},
   "source": [
    "### Medical-Mnist"
   ]
  },
  {
   "cell_type": "code",
   "execution_count": 2,
   "metadata": {},
   "outputs": [],
   "source": [
    "from torchvision import datasets, transforms\n",
    "import torchvision\n",
    "from torch.utils.data import random_split\n",
    "import os\n",
    "import torch\n",
    "\n",
    "\n",
    "transform=transforms.Compose([\n",
    "    transforms.RandomRotation(10),      # rotate +/- 10 degrees\n",
    "    transforms.RandomHorizontalFlip(),  # reverse 50% of images\n",
    "    transforms.Resize(224),             # resize shortest side to 224 pixels\n",
    "    transforms.CenterCrop(224),         # crop longest side to 224 pixels at center\n",
    "    transforms.ToTensor(),\n",
    "    transforms.Normalize([0.485, 0.456, 0.406],\n",
    "                        [0.229, 0.224, 0.225])\n",
    "])\n",
    "\n",
    "data_folder=\"../datasets/data/medical-mnist\"\n",
    "dataset=datasets.ImageFolder(root=data_folder,transform=transform)\n",
    "training_data, testing_data = random_split(dataset, [40000, len(dataset) - 40000], generator=torch.Generator().manual_seed(200200))"
   ]
  },
  {
   "attachments": {},
   "cell_type": "markdown",
   "metadata": {},
   "source": [
    "### Brain-mri"
   ]
  },
  {
   "cell_type": "code",
   "execution_count": 2,
   "metadata": {},
   "outputs": [],
   "source": [
    "from torchvision import datasets, transforms\n",
    "import torchvision\n",
    "from torch.utils.data import random_split\n",
    "import os, torch"
   ]
  },
  {
   "cell_type": "code",
   "execution_count": 3,
   "metadata": {},
   "outputs": [],
   "source": [
    "data_folder=\"../datasets/data/brain-tumor-mri-dataset\"\n",
    "transform= transforms.Compose([\n",
    "    transforms.Resize(size= (128,128)),\n",
    "    transforms.ToTensor(),\n",
    "])\n",
    "training_data = datasets.ImageFolder(root=os.path.join(data_folder, \"Training\"), transform=transform, target_transform = None)\n",
    "testing_data = datasets.ImageFolder(root=os.path.join(data_folder, \"Testing\"), transform=transform)"
   ]
  },
  {
   "attachments": {},
   "cell_type": "markdown",
   "metadata": {},
   "source": [
    "## Division algorithm"
   ]
  },
  {
   "attachments": {},
   "cell_type": "markdown",
   "metadata": {},
   "source": [
    "### Pathological heterogeneity"
   ]
  },
  {
   "attachments": {},
   "cell_type": "markdown",
   "metadata": {},
   "source": [
    "**Each client:**\n",
    "\n",
    "1. Contains no more than 3 labels\n",
    "2. Each label has 8 to 20 samples\n",
    "3. There're at least 5 * #numclass clients"
   ]
  },
  {
   "cell_type": "code",
   "execution_count": null,
   "metadata": {},
   "outputs": [],
   "source": [
    "import numpy as np\n",
    "import os\n",
    "import math"
   ]
  },
  {
   "cell_type": "code",
   "execution_count": null,
   "metadata": {},
   "outputs": [],
   "source": [
    "total_labels = np.unique(training_data.targets).tolist()\n",
    "len(total_labels)\n",
    "print(total_labels)\n",
    "\n",
    "min_label_per_client = 1\n",
    "max_label_per_client = 3\n",
    "\n",
    "min_sample_per_client = 5\n",
    "max_sample_per_client = 20\n",
    "\n",
    "# num_clients = 5 * len(total_labels)\n",
    "num_clients = 100\n",
    "\n",
    "total_label = len(total_labels)\n",
    "label_list = [i for i in total_labels]\n",
    "label_per_client = 2\n",
    "\n",
    "labels = training_data.targets\n",
    "idxs = range(len(training_data))\n",
    "training_idxs_labels = np.vstack((idxs, labels)).T\n",
    "\n",
    "labels = testing_data.targets\n",
    "idxs = range(len(testing_data))\n",
    "testing_idxs_labels = np.vstack((idxs, labels)).T\n",
    "\n",
    "training_dict_client = {client_id:[] for client_id in range(num_clients)}\n",
    "testing_dict_client = {client_id:[] for client_id in range(num_clients)}\n",
    "\n",
    "client_labels = []\n",
    "not_passed_label_list = label_list.copy()\n",
    "\n",
    "for client_id in range(num_clients):\n",
    "    label_per_client = np.random.randint(min_label_per_client, max_label_per_client + 1)\n",
    "    this_set = np.random.choice(label_list, label_per_client, replace=False)\n",
    "    client_labels.append(list(this_set))\n",
    "    not_passed_label_list = list(set(not_passed_label_list) - set(this_set))\n",
    "\n",
    "if len(not_passed_label_list) > 0:\n",
    "    print(\"Uncover\", len(not_passed_label_list), \"labels !\")\n",
    "    exit(0)\n",
    "else:\n",
    "    print(\"Uncover\", len(not_passed_label_list), \"labels !\")\n",
    "\n",
    "samples_details = []\n",
    "\n",
    "for client_idx, client_label in zip(range(num_clients), client_labels):\n",
    "    sample_this_client = []\n",
    "    \n",
    "    for label in client_label:\n",
    "        sample_per_client = np.random.randint(min_sample_per_client, max_sample_per_client + 1)\n",
    "        sample_this_client.append(sample_per_client)\n",
    "        \n",
    "        idxes_1 = training_idxs_labels[training_idxs_labels[:,1] == label][:,0]\n",
    "        idxes_2 = testing_idxs_labels[testing_idxs_labels[:,1] == label][:,0]\n",
    "        \n",
    "        label_1_idxes = np.random.choice(idxes_1, sample_per_client, replace=False)\n",
    "        label_2_idxes = np.random.choice(idxes_2, int(sample_per_client/4), replace=False)\n",
    "        \n",
    "        training_dict_client[client_idx] += label_1_idxes.tolist()\n",
    "        testing_dict_client[client_idx] += label_2_idxes.tolist()\n",
    "        \n",
    "        training_idxs_labels[label_1_idxes] -= 100\n",
    "        testing_idxs_labels[label_2_idxes] -= 100\n",
    "    \n",
    "    samples_details.append(sample_this_client)\n",
    "\n",
    "\n",
    "dis_mtx = np.zeros([num_clients, total_label])\n",
    "for client_id in range(len(client_labels)):\n",
    "    client_label = client_labels[client_id]\n",
    "    client_samples = samples_details[client_id]\n",
    "    \n",
    "    for label, num_samples in zip(client_label, client_samples):\n",
    "        dis_mtx[client_id][total_labels.index(label)] = num_samples"
   ]
  },
  {
   "cell_type": "code",
   "execution_count": null,
   "metadata": {},
   "outputs": [],
   "source": [
    "dis_mtx"
   ]
  },
  {
   "cell_type": "code",
   "execution_count": null,
   "metadata": {},
   "outputs": [],
   "source": [
    "class NumpyEncoder(json.JSONEncoder):\n",
    "    \"\"\" Special json encoder for numpy types \"\"\"\n",
    "    def default(self, obj):\n",
    "        if isinstance(obj, np.integer):\n",
    "            return int(obj)\n",
    "        elif isinstance(obj, np.floating):\n",
    "            return float(obj)\n",
    "        elif isinstance(obj, np.ndarray):\n",
    "            return obj.tolist()\n",
    "        return json.JSONEncoder.default(self, obj)\n",
    "    \n",
    "savepath = f\"./dataset_idx/mnist/sparse/{num_clients}client\"\n",
    "if not Path(savepath).exists():\n",
    "    os.makedirs(savepath)\n",
    "    \n",
    "json.dump(training_dict_client, open(f\"{savepath}/mnist_sparse.json\", \"w\"), cls=NumpyEncoder)\n",
    "json.dump(testing_dict_client, open(f\"{savepath}/mnist_sparse_test.json\", \"w\"), cls=NumpyEncoder)\n",
    "np.savetxt(f\"{savepath}/mnist_sparse_stat.csv\", dis_mtx, fmt=\"%d\", delimiter=\",\")"
   ]
  },
  {
   "attachments": {},
   "cell_type": "markdown",
   "metadata": {},
   "source": [
    "#### Quantity skew"
   ]
  },
  {
   "cell_type": "code",
   "execution_count": 1,
   "metadata": {},
   "outputs": [],
   "source": [
    "import numpy as np\n",
    "import seaborn as sns\n",
    "import matplotlib.pyplot as plt\n",
    "\n",
    "num_clients=10\n",
    "num_class=10\n",
    "data_volume=50000\n",
    "per_class_volume=int(data_volume/num_class)\n",
    "\n",
    "sample_idx = [i for i in range(data_volume)]\n",
    "label_idx = []\n",
    "for i in range(num_class):\n",
    "    label_idx += [i] * per_class_volume\n",
    "\n",
    "num_shards=100\n",
    "per_shard_volume=int(data_volume/num_shards)\n",
    "per_client_max_shards=int(num_shards/num_clients)\n",
    "\n",
    "dis_mtx = np.zeros([num_clients, num_class])\n",
    "for client_id in range(num_clients):\n",
    "    this_client_shards = np.random.randint(1, per_client_max_shards)\n",
    "    this_client_sample_idxes = np.random.choice(sample_idx, size=this_client_shards * per_shard_volume, replace=False)\n",
    "    sample_idx = list(set(sample_idx) - set(this_client_sample_idxes))\n",
    "    \n",
    "    this_client_label_set = [label_idx[i] for i in this_client_sample_idxes]\n",
    "    labels, volumes = np.unique(this_client_label_set, return_counts=True)\n",
    "    for lab, vol in zip(labels, volumes):\n",
    "        dis_mtx[client_id][lab] += vol"
   ]
  },
  {
   "cell_type": "code",
   "execution_count": 18,
   "metadata": {},
   "outputs": [
    {
     "data": {
      "image/png": "[encoded data removed]",
      "text/plain": [
       "<Figure size 400x400 with 1 Axes>"
      ]
     },
     "metadata": {},
     "output_type": "display_data"
    }
   ],
   "source": [
    "plt.figure(figsize=(4,4))\n",
    "ax = sns.heatmap(dis_mtx, \n",
    "                vmin=0, vmax=np.ceil(np.max(dis_mtx)), \n",
    "                fmt=\".0f\", annot=True, \n",
    "                cmap=sns.color_palette(\"light:b\", as_cmap=True), cbar=False,\n",
    "                # cbar_kws = dict(use_gridspec=False,location=\"left\"),\n",
    "                mask=(dis_mtx==0))\n",
    "\n",
    "ax.set_yticklabels(labels=[i for i in range(num_clients)], rotation=0, fontsize=14)\n",
    "ax.set_xticklabels(labels=ax.get_xticklabels(), rotation=0, fontsize=14)\n",
    "ax.set_xlabel(\"Classes\", fontsize=20)\n",
    "ax.set_ylabel(\"Client ID\", fontsize=20)\n",
    "\n",
    "ax.spines['top'].set_visible(True)\n",
    "ax.spines['right'].set_visible(True)\n",
    "ax.spines['bottom'].set_visible(True)\n",
    "ax.spines['left'].set_visible(True)\n",
    "ax.set_title(\"a) Quantity skew\", fontsize=20, y=1.02)\n",
    "\n",
    "image_format = 'svg' # e.g .png, .svg, etc.\n",
    "image_name = 'quantity-skewed.svg'\n",
    "plt.tight_layout()\n",
    "plt.savefig(image_name, format=image_format, dpi=1200)"
   ]
  },
  {
   "cell_type": "code",
   "execution_count": null,
   "metadata": {},
   "outputs": [],
   "source": []
  },
  {
   "attachments": {},
   "cell_type": "markdown",
   "metadata": {},
   "source": [
    "#### Label skew"
   ]
  },
  {
   "cell_type": "code",
   "execution_count": 31,
   "metadata": {},
   "outputs": [
    {
     "data": {
      "text/plain": [
       "array([[  0.,   0.,   0.,   0.,   0.,   0.,   0., 100., 100.,   0.],\n",
       "       [ 50.,   0.,   0.,  50.,   0.,   0.,   0.,   0.,   0.,   0.],\n",
       "       [  0.,   0.,   0.,   0.,   0.,   0.,   0., 300.,   0., 300.],\n",
       "       [  0.,   0.,   0., 350.,   0.,   0.,   0.,   0.,   0., 350.],\n",
       "       [400.,   0.,   0.,   0., 400.,   0.,   0.,   0.,   0.,   0.],\n",
       "       [  0.,   0.,   0., 400.,   0.,   0., 400.,   0.,   0.,   0.],\n",
       "       [  0., 300., 300.,   0.,   0.,   0.,   0.,   0.,   0.,   0.],\n",
       "       [  0.,   0.,   0.,   0.,   0., 350.,   0.,   0., 350.,   0.],\n",
       "       [  0.,   0.,   0.,   0.,  50.,   0.,  50.,   0.,   0.,   0.],\n",
       "       [150.,   0.,   0.,   0.,   0.,   0., 150.,   0.,   0.,   0.]])"
      ]
     },
     "execution_count": 31,
     "metadata": {},
     "output_type": "execute_result"
    }
   ],
   "source": [
    "import numpy as np\n",
    "import seaborn as sns\n",
    "import matplotlib.pyplot as plt\n",
    "\n",
    "num_clients=10\n",
    "num_class=10\n",
    "data_volume=50000\n",
    "per_client_volume=data_volume/num_clients\n",
    "\n",
    "dis_mtx = np.zeros([num_clients, num_class])\n",
    "for client_id in range(num_clients):\n",
    "    this_client_numclass = np.random.randint(2,3)\n",
    "    this_client_label_set = np.random.choice([i for i in range(num_class)], size=this_client_numclass, replace=False)\n",
    "    this_client_sample_ratio = np.random.dirichlet([10 for _ in this_client_label_set], )\n",
    "    \n",
    "    for label in this_client_label_set:\n",
    "        dis_mtx[client_id][label] += this_client_shard * per_label_shard_volume\n",
    "\n",
    "dis_mtx"
   ]
  },
  {
   "cell_type": "code",
   "execution_count": 33,
   "metadata": {},
   "outputs": [
    {
     "data": {
      "image/png": "[encoded data removed]",
      "text/plain": [
       "<Figure size 400x400 with 1 Axes>"
      ]
     },
     "metadata": {},
     "output_type": "display_data"
    }
   ],
   "source": [
    "plt.figure(figsize=(4,4))\n",
    "ax = sns.heatmap(dis_mtx, \n",
    "                vmin=0, vmax=np.ceil(np.max(dis_mtx)), \n",
    "                fmt=\".0f\", annot=True, \n",
    "                cmap=sns.color_palette(\"light:b\", as_cmap=True), cbar=False,\n",
    "                mask=(dis_mtx==0))\n",
    "\n",
    "ax.set_yticklabels(labels=[i for i in range(num_clients)], rotation=0, fontsize=12)\n",
    "# ax.set_yticklabels(labels=ax.get_yticklabels(), rotation=0)\n",
    "ax.set_xlabel(\"Classes\", fontsize=16)\n",
    "ax.set_ylabel(\"Client Id\", fontsize=16)\n",
    "\n",
    "ax.spines['top'].set_visible(True)\n",
    "ax.spines['right'].set_visible(True)\n",
    "ax.spines['bottom'].set_visible(True)\n",
    "ax.spines['left'].set_visible(True)\n",
    "\n",
    "image_format = 'svg' # e.g .png, .svg, etc.\n",
    "image_name = 'label-skewed.svg'\n",
    "plt.tight_layout()\n",
    "plt.savefig(image_name, format=image_format, dpi=1200)"
   ]
  },
  {
   "attachments": {},
   "cell_type": "markdown",
   "metadata": {},
   "source": [
    "### Practical heterogeneity"
   ]
  },
  {
   "attachments": {},
   "cell_type": "markdown",
   "metadata": {},
   "source": [
    "#### Sparse and Scarce - old"
   ]
  },
  {
   "cell_type": "code",
   "execution_count": 19,
   "metadata": {},
   "outputs": [
    {
     "name": "stdout",
     "output_type": "stream",
     "text": [
      "[0, 1, 2, 3, 4, 5, 6, 7, 8, 9]\n",
      "min/max : 20/60\n",
      "[[ 0.  0.  0.  0.  0.  0.  0. 42.  0.  0.]\n",
      " [ 0.  0.  0.  0. 44.  0.  0.  0.  0.  1.]\n",
      " [15. 37.  0.  0.  0.  0.  0.  0.  0.  0.]\n",
      " [ 0.  0.  0.  0.  0.  0.  0. 35.  0.  0.]\n",
      " [ 0.  0.  0.  0.  0.  0.  0.  0. 28.  0.]\n",
      " [ 0.  0.  0.  0. 33.  0.  0.  0.  0.  0.]\n",
      " [ 0.  0.  0.  0. 17.  2.  2.  0.  0.  0.]\n",
      " [ 0.  0.  0.  1.  0. 23.  0.  0.  0.  0.]\n",
      " [ 0.  0.  1.  0.  0.  0.  0.  0.  0. 24.]\n",
      " [ 0. 16.  0.  0.  0.  6.  0.  0.  0.  0.]]\n",
      "Total data used: 327.0/50000 = 0.65%\n"
     ]
    }
   ],
   "source": [
    "import numpy as np\n",
    "import math\n",
    "import os\n",
    "\n",
    "total_labels = np.unique(training_data.targets).tolist()\n",
    "print(total_labels)\n",
    "\n",
    "\"\"\"\n",
    "Given the min/max data volume of any client is 20/60, we have:\n",
    "Table of dirichlet(alpha) w.r.t sparsity and number of classes\n",
    "\n",
    "        cf10    cf100   TINY    Image\n",
    "        10\t    100\t    200\t    1000\n",
    "0.975\tX.00\t0.41\t1.29    X.00\n",
    "0.950\tX.00\t1.28\t4.20    X.00\n",
    "0.925\tX.00\t2.55\t9.18    X.00\n",
    "0.900\tX.00\t4.24\t19.36\tX.00\n",
    "0.875\t0.06\t6.43 \tX.00\tX.00\n",
    "0.850\t0.13    9.50 \tX.00\tX.00\n",
    "\n",
    "\"\"\"\n",
    "\n",
    "alpha = 0.13\n",
    "s = 0.850\n",
    "dataset = \"cifar10\"\n",
    "\n",
    "min_sample_per_client = 20\n",
    "max_sample_per_client = 60\n",
    "\n",
    "print(\"min/max : {}/{}\".format(min_sample_per_client, max_sample_per_client))\n",
    "\n",
    "num_clients = 10\n",
    "\n",
    "total_label = len(total_labels)\n",
    "label_list = [i for i in total_labels]\n",
    "\n",
    "labels = training_data.targets\n",
    "idxs = range(len(training_data))\n",
    "training_idxs_labels = np.vstack((idxs, labels)).T\n",
    "\n",
    "labels = testing_data.targets\n",
    "idxs = range(len(testing_data))\n",
    "testing_idxs_labels = np.vstack((idxs, labels)).T\n",
    "\n",
    "training_dict_client = {client_id:[] for client_id in range(num_clients)}\n",
    "testing_dict_client = {client_id:[] for client_id in range(num_clients)}\n",
    "\n",
    "label_dist = np.random.dirichlet([alpha/total_label for i in range(total_label)], num_clients)\n",
    "label_nums = np.zeros([num_clients, total_label])\n",
    "\n",
    "for client_idx in range(num_clients):\n",
    "    local_label_dist = label_dist[client_idx].tolist()\n",
    "    sample_this_client = np.random.randint(min_sample_per_client, max_sample_per_client + 1)\n",
    "    \n",
    "    for label, proportion in zip(label_list, local_label_dist):\n",
    "        sample_this_label = round(proportion * sample_this_client)\n",
    "        if sample_this_label > 0:\n",
    "            label_nums[client_idx, label] = sample_this_label\n",
    "            \n",
    "            idxes_1 = training_idxs_labels[training_idxs_labels[:,1] == label][:,0]\n",
    "            idxes_2 = testing_idxs_labels[testing_idxs_labels[:,1] == label][:,0]\n",
    "                        \n",
    "            label_1_idxes = np.random.choice(idxes_1, sample_this_label, replace=False)\n",
    "            label_2_idxes = np.random.choice(idxes_2, max(5, int(np.ceil(sample_this_label/2))), replace=False)\n",
    "            \n",
    "            training_dict_client[client_idx] += label_1_idxes.tolist()\n",
    "            testing_dict_client[client_idx] += label_2_idxes.tolist()\n",
    "            \n",
    "            training_idxs_labels[label_1_idxes] -= 100\n",
    "            # testing_idxs_labels[label_2_idxes] -= 100\n",
    "\n",
    "\n",
    "coverred_labels = np.sum(label_nums, axis=0, keepdims=True)\n",
    "if (coverred_labels == 0).any():\n",
    "    # print(\"Not coverring all labels!\")\n",
    "    raise Exception(\"Not coverring all labels!\")\n",
    "\n",
    "print(\"Total data used: {}/{} = {}%\".format(np.sum(coverred_labels), len(training_data), round(100 * np.sum(coverred_labels)/len(training_data), 2)))\n",
    "class NumpyEncoder(json.JSONEncoder):\n",
    "    \"\"\" Special json encoder for numpy types \"\"\"\n",
    "    def default(self, obj):\n",
    "        if isinstance(obj, np.integer):\n",
    "            return int(obj)\n",
    "        elif isinstance(obj, np.floating):\n",
    "            return float(obj)\n",
    "        elif isinstance(obj, np.ndarray):\n",
    "            return obj.tolist()\n",
    "        return json.JSONEncoder.default(self, obj)\n",
    "    \n",
    "savepath = f\"./dataset_idx/{dataset}/dirichlet/sparsity_{s}/{num_clients}client\"\n",
    "if not Path(savepath).exists():\n",
    "    os.makedirs(savepath)\n",
    "    \n",
    "json.dump(training_dict_client, open(f\"{savepath}/train.json\", \"w\"), cls=NumpyEncoder)\n",
    "json.dump(testing_dict_client, open(f\"{savepath}/test.json\", \"w\"), cls=NumpyEncoder)\n",
    "np.savetxt(f\"{savepath}/stats.csv\", label_nums, fmt=\"%d\", delimiter=\",\")"
   ]
  },
  {
   "attachments": {},
   "cell_type": "markdown",
   "metadata": {},
   "source": [
    "#### Sparse and Scarse"
   ]
  },
  {
   "cell_type": "code",
   "execution_count": 3,
   "metadata": {},
   "outputs": [
    {
     "name": "stdout",
     "output_type": "stream",
     "text": [
      "[5869 3916 4110 4035 3283 3826 3009 4273 5675 5691] 0.86\n",
      "490 61 218.435 70.21321652652013\n",
      "[6679 4954 4713 4359 3513 3338 3349 4111 4634 4035] 0.85\n",
      "458 73 218.425 63.62722982340187\n",
      "[5936 4102 6281 4068 3458 3979 3957 4519 4044 3359] 0.85\n",
      "428 83 218.515 58.317748370457515\n",
      "[5044 3422 5146 3404 3382 2901 3618 7849 3556 5369] 0.85\n",
      "486 86 218.455 65.40334834700744\n",
      "[3814 5746 4992 6270 3709 3174 4529 3422 4196 3840] 0.85\n",
      "389 66 218.46 62.58321180636226\n",
      "[4336 4483 5503 3393 5123 5168 4827 3247 3602 4010] 0.85\n",
      "390 78 218.46 57.59851039740524\n",
      "[5747 4005 1930 3494 5821 3380 4967 3681 4664 6002] 0.86\n",
      "453 107 218.455 64.9642053364774\n",
      "[3883 2701 4147 4813 4852 4792 5344 3733 4679 4755] 0.85\n",
      "406 80 218.495 62.88648483577374\n",
      "[5374 5206 3917 2821 5077 4777 5125 3868 3914 3613] 0.86\n",
      "477 101 218.46 62.98061924116021\n",
      "[5574 3047 3041 4400 4990 3912 4576 4510 5858 3776] 0.85\n",
      "475 90 218.42 65.28264394155616\n",
      "[6246 6496 3768 3360 4351 3579 3056 4120 5244 3477] 0.86\n",
      "415 72 218.485 63.71027997897985\n",
      "[5069 4920 3615 5055 4666 4004 5450 3324 3700 3896] 0.86\n",
      "495 79 218.495 65.22246526312847\n",
      "[4652 4139 5583 4049 4621 6300 3239 4487 2869 3752] 0.85\n",
      "429 81 218.455 62.475498997607055\n",
      "[3101 4685 3915 3522 4361 5341 4943 4999 4579 4251] 0.86\n",
      "503 91 218.485 63.17705101538058\n",
      "[5383 4279 4041 4854 4329 4470 5012 3868 4167 3286] 0.85\n",
      "422 99 218.445 60.75769066546226\n",
      "[4326 2947 4200 5333 2107 4428 4936 6082 5122 4206] 0.85\n",
      "445 86 218.435 63.197276642273124\n",
      "[6302 5033 2393 5736 2816 4443 4553 5762 3327 3319] 0.85\n",
      "399 93 218.42 65.23644380252497\n",
      "[3472 6039 4616 4786 4264 3779 4723 2837 4810 4375] 0.85\n",
      "457 80 218.505 62.20643033481346\n",
      "[3606 4180 5091 4317 3834 5188 4125 5427 5032 2891] 0.85\n",
      "406 88 218.455 59.10962675402375\n",
      "[3995 4244 4566 4216 6186 5011 4279 3007 5538 2661] 0.85\n",
      "512 83 218.515 60.7008218642878\n",
      "[3778 4108 4093 4323 4671 5649 3239 3051 4849 5921] 0.85\n",
      "432 97 218.41 63.801190427765526\n",
      "[4410 3624 4328 4073 4490 4599 3620 3793 5391 5373] 0.86\n",
      "419 96 218.505 60.48999896677136\n",
      "[4545 4252 3544 4378 5139 5315 4157 4781 3548 4029] 0.85\n",
      "413 75 218.44 65.22358775780431\n",
      "[2983 5578 3143 3268 3852 5273 4253 4566 5183 5583] 0.85\n",
      "414 91 218.41 63.17311057720682\n",
      "[4976 4672 3863 5312 2977 5630 3942 3373 3145 5806] 0.85\n",
      "430 78 218.48 62.586576835612284\n",
      "[6288 3374 4302 4479 5258 5164 2972 3265 4222 4372] 0.86\n",
      "377 84 218.48 55.800982070210914\n",
      "[5010 4442 5053 5173 3750 4755 3240 3800 3817 4660] 0.86\n",
      "428 93 218.5 60.308208396535875\n",
      "[5485 3787 3208 5792 5012 3921 3659 5307 3279 4234] 0.85\n",
      "389 96 218.42 59.31942009156867\n",
      "[4594 4217 4034 3344 4522 3923 5047 5089 5425 3488] 0.85\n",
      "434 80 218.415 66.0868578084932\n",
      "[4875 4036 3856 3609 4118 4731 4613 4909 4510 4433] 0.85\n",
      "426 92 218.45 61.7572465383618\n",
      "Succeed generating data distribution after 30 trails\n",
      "Done plotting\n"
     ]
    },
    {
     "data": {
      "image/png": "[encoded data removed]",
      "text/plain": [
       "<Figure size 600x500 with 1 Axes>"
      ]
     },
     "metadata": {},
     "output_type": "display_data"
    }
   ],
   "source": [
    "total_datavol = len(training_data)\n",
    "u = 0.8\n",
    "alpha = 0.1\n",
    "num_clients = 200\n",
    "beta = num_clients * 10\n",
    "\n",
    "unique_labels = sorted(np.unique(training_data.targets))\n",
    "num_labels = len(unique_labels)\n",
    "per_class_max_volume = total_datavol / num_labels\n",
    "offset = 0.1 * u * total_datavol/num_clients\n",
    "# Generate data distribution matrix\n",
    "count = 0\n",
    "while True:\n",
    "    count += 1\n",
    "    volume_dist = np.random.dirichlet([beta/num_clients for i in range(num_clients)])\n",
    "    # volume_dist = np.random.normal(loc=1, scale=0.1, size=num_clients)/num_clients\n",
    "    volume_dist = offset + np.int64(volume_dist * total_datavol * u)\n",
    "    label_dist = np.random.dirichlet([alpha/num_labels for i in range(num_labels)], num_clients)\n",
    "    distribution = np.int64(label_dist * volume_dist.reshape(num_clients, 1))\n",
    "    sparsity = round(np.sum(distribution == 0)/(num_clients * num_labels), 2)\n",
    "    by_class_clientele_volume = np.sum(distribution, axis=0)\n",
    "    print(by_class_clientele_volume, sparsity)\n",
    "    by_client_volume = np.sum(distribution, axis=1)\n",
    "    print(np.max(by_client_volume), np.min(by_client_volume), np.mean(by_client_volume), np.std(by_client_volume))\n",
    "    \n",
    "    if not (by_class_clientele_volume > per_class_max_volume).any():\n",
    "        print(f\"Succeed generating data distribution after {count} trails\")\n",
    "        \n",
    "        # Distribute sample indices\n",
    "        per_label_indices = {}\n",
    "        for label in unique_labels:\n",
    "            # per_label_indices[label] = np.random.choice(np.where(training_data.targets == 0)[0].tolist(), \n",
    "            #                                             size=by_class_clientele_volume[label], \n",
    "            #                                             replace=False)\n",
    "            per_label_indices[label] = np.where(training_data.targets == label)[0].tolist()\n",
    "            \n",
    "        training_dict_client = {client_id:[] for client_id in range(num_clients)}\n",
    "        testing_dict_client = {client_id:[] for client_id in range(num_clients)}\n",
    "\n",
    "        for client_idx in range(num_clients):\n",
    "            local_per_label_volume = distribution[client_idx].tolist()\n",
    "            \n",
    "            for label in unique_labels:\n",
    "                this_label_vol = local_per_label_volume[label]\n",
    "                sample_idxs = np.random.choice(per_label_indices[label], this_label_vol, replace=False)\n",
    "                training_dict_client[client_idx] += sample_idxs.tolist()\n",
    "                per_label_indices[label] = list(set(per_label_indices[label]) - set(sample_idxs))\n",
    "            \n",
    "        savepath = f\"./dataset_idx/{dataset}/new/{num_clients}client/u{u}_alpha{alpha}_beta{beta}/\"\n",
    "        if not Path(savepath).exists():\n",
    "            os.makedirs(savepath)\n",
    "        \n",
    "        json.dump({\"u\": u, \"alpha\": alpha, \"beta\": beta, \"sparsity\": sparsity, \"N\": num_clients, \n",
    "                   \"label_stats\": by_class_clientele_volume, \n",
    "                   \"client_stats\": {\n",
    "                       \"volume_mean\": np.mean(np.sum(distribution, axis=1)),\n",
    "                       \"volume_std\": np.std(np.sum(distribution, axis=1))\n",
    "                       }\n",
    "                   }, open(f\"{savepath}/infor.json\", \"w\"), cls=NumpyEncoder)\n",
    "        \n",
    "        json.dump(training_dict_client, open(f\"{savepath}/train.json\", \"w\"), cls=NumpyEncoder)\n",
    "        json.dump(testing_dict_client, open(f\"{savepath}/test.json\", \"w\"), cls=NumpyEncoder)\n",
    "        np.savetxt(f\"{savepath}/stats.csv\", distribution, fmt=\"%d\", delimiter=\",\")\n",
    "        break\n",
    "    \n",
    "    elif count >= 10000:\n",
    "        print(f\"Failed after {count} trails\")\n",
    "        break\n",
    "\n",
    "\n",
    "import matplotlib.pyplot as plt\n",
    "plt.rcParams.update({\"font.size\": 14})\n",
    "\n",
    "plt_data = np.sum(distribution, axis=1)\n",
    "fig, ax = plt.subplots(figsize=(6,5))\n",
    "ax.hist(plt_data, color='#9999FF')\n",
    "ax.set_xlabel(\"Volume\", fontsize=20)\n",
    "ax.set_ylabel(\"Count\", fontsize=20)\n",
    "ax.set_xticks([10* i for i in range(0,int(np.max(plt_data)/10)+1, 2)])\n",
    "\n",
    "T = 50\n",
    "scarcity = np.sum(plt_data <= T)/num_clients\n",
    "ax.set_title(rf\"$\\sigma$={sparsity}, $\\gamma_{{{T}}}$={scarcity}, u={u}, $\\alpha$={alpha}, $\\beta$={beta}, N={num_clients}\", fontsize=14)\n",
    "fig.tight_layout()\n",
    "\n",
    "image_format = 'svg' # e.g .png, .svg, etc.\n",
    "image_name = f'{savepath}/volume-stats.svg'\n",
    "fig.savefig(image_name, format=image_format, dpi=1200)\n",
    "\n",
    "image_format = 'png' # e.g .png, .svg, etc.\n",
    "image_name = f'{savepath}/volume-stats.png'\n",
    "fig.savefig(image_name, format=image_format, dpi=1200)\n",
    "print(\"Done plotting\")"
   ]
  },
  {
   "attachments": {},
   "cell_type": "markdown",
   "metadata": {},
   "source": [
    "#### Dirichlet"
   ]
  },
  {
   "cell_type": "code",
   "execution_count": 24,
   "metadata": {},
   "outputs": [
    {
     "name": "stdout",
     "output_type": "stream",
     "text": [
      "[0, 1, 2, 3, 4, 5, 6, 7, 8, 9]\n"
     ]
    }
   ],
   "source": [
    "import numpy as np\n",
    "import math\n",
    "import os\n",
    "\n",
    "total_labels = np.unique(training_data.targets).tolist()\n",
    "print(total_labels)\n",
    "\n",
    "alpha = 0.13\n",
    "\n",
    "min_sample_per_client = 200\n",
    "max_sample_per_client = 600\n",
    "\n",
    "num_clients = 10\n",
    "\n",
    "total_label = len(total_labels)\n",
    "label_list = [i for i in total_labels]\n",
    "\n",
    "labels = training_data.targets\n",
    "idxs = range(len(training_data))\n",
    "training_idxs_labels = np.vstack((idxs, labels)).T\n",
    "\n",
    "labels = testing_data.targets\n",
    "idxs = range(len(testing_data))\n",
    "testing_idxs_labels = np.vstack((idxs, labels)).T\n",
    "\n",
    "training_dict_client = {client_id:[] for client_id in range(num_clients)}\n",
    "testing_dict_client = {client_id:[] for client_id in range(num_clients)}\n",
    "\n",
    "label_dist = np.random.dirichlet([alpha/total_label for i in range(total_label)], num_clients)\n",
    "label_nums = np.zeros([num_clients, total_label])\n",
    "\n",
    "for client_idx in range(num_clients):\n",
    "    local_label_dist = label_dist[client_idx].tolist()\n",
    "    sample_this_client = np.random.randint(min_sample_per_client, max_sample_per_client + 1)\n",
    "    \n",
    "    for label, proportion in zip(label_list, local_label_dist):\n",
    "        sample_this_label = round(proportion * sample_this_client)\n",
    "        if sample_this_label > 0:\n",
    "            label_nums[client_idx, label] = sample_this_label\n",
    "            \n",
    "            idxes_1 = training_idxs_labels[training_idxs_labels[:,1] == label][:,0]\n",
    "            idxes_2 = testing_idxs_labels[testing_idxs_labels[:,1] == label][:,0]\n",
    "            \n",
    "            label_1_idxes = np.random.choice(idxes_1, sample_this_label, replace=False)\n",
    "            label_2_idxes = np.random.choice(idxes_2, max(5, int(np.ceil(sample_this_label/2))), replace=False)\n",
    "            \n",
    "            training_dict_client[client_idx] += label_1_idxes.tolist()\n",
    "            testing_dict_client[client_idx] += label_2_idxes.tolist()\n",
    "            \n",
    "            training_idxs_labels[label_1_idxes] -= 100\n",
    "            testing_idxs_labels[label_2_idxes] -= 100\n",
    "\n",
    "coverred_labels = np.sum(label_nums, axis=0, keepdims=True)\n",
    "if (coverred_labels == 0).any():\n",
    "    # print(\"Not coverring all labels!\")\n",
    "    raise Exception(\"Not coverring all labels!\")\n",
    "\n",
    "class NumpyEncoder(json.JSONEncoder):\n",
    "    \"\"\" Special json encoder for numpy types \"\"\"\n",
    "    def default(self, obj):\n",
    "        if isinstance(obj, np.integer):\n",
    "            return int(obj)\n",
    "        elif isinstance(obj, np.floating):\n",
    "            return float(obj)\n",
    "        elif isinstance(obj, np.ndarray):\n",
    "            return obj.tolist()\n",
    "        return json.JSONEncoder.default(self, obj)\n",
    "    \n",
    "savepath = f\"./dataset_idx/cifar10/dirichlet/dir_{alpha}/{num_clients}client\"\n",
    "if not Path(savepath).exists():\n",
    "    os.makedirs(savepath)\n",
    "    \n",
    "json.dump(training_dict_client, open(f\"{savepath}/train.json\", \"w\"), cls=NumpyEncoder)\n",
    "json.dump(testing_dict_client, open(f\"{savepath}/test.json\", \"w\"), cls=NumpyEncoder)\n",
    "np.savetxt(f\"{savepath}/stats.csv\", label_nums, fmt=\"%d\", delimiter=\",\")"
   ]
  },
  {
   "cell_type": "code",
   "execution_count": 8,
   "metadata": {},
   "outputs": [
    {
     "data": {
      "text/plain": [
       "Text(0.5, 1.0, 'Client 10')"
      ]
     },
     "execution_count": 8,
     "metadata": {},
     "output_type": "execute_result"
    },
    {
     "data": {
      "image/png": "[encoded data removed]",
      "text/plain": [
       "<Figure size 640x480 with 2 Axes>"
      ]
     },
     "metadata": {},
     "output_type": "display_data"
    }
   ],
   "source": [
    "import matplotlib.pyplot as plt\n",
    "import numpy as np\n",
    "\n",
    "label_nums = np.loadtxt(\"./dataset_idx/cifar10/dirichlet/dir_0.01_sparse/100client/stats.csv\", delimiter=',')\n",
    "total_label = label_nums.shape[1]\n",
    "\n",
    "fig, axes = plt.subplot_mosaic(\"AAC;AAC\")\n",
    "fig.tight_layout(pad=1.5)\n",
    "\n",
    "label_stats = np.sum(label_nums > 0, axis=1, keepdims=True)\n",
    "unique, counts = np.unique(label_stats, return_counts=True)\n",
    "\n",
    "axes['A'].barh(y=[str(round(i/total_label * 100, 0)) + \"%\" for i in unique], width=counts)\n",
    "axes['A'].set_ylabel(\"Label coverage per client (%)\", fontsize=12)\n",
    "axes['A'].set_xlabel(\"Counts\", fontsize=12)\n",
    "\n",
    "client_id = 10\n",
    "bar_data_x = np.where(label_nums[client_id] > 0)[0]\n",
    "bar_data_h = label_nums[client_id][bar_data_x]\n",
    "axes['C'].barh(y=[str(i) for i in bar_data_x], width=bar_data_h)\n",
    "axes['C'].set_ylabel(\"Label\", fontsize=12)\n",
    "axes['C'].set_xticks(range(0, int(np.max(label_nums[client_id])) + 5, int(np.max(label_nums[client_id])/5)))\n",
    "axes['C'].set_xlabel(\"Sample size\", fontsize=12)\n",
    "axes['C'].set_title(\"Client {}\".format(client_id), fontsize=12)"
   ]
  },
  {
   "attachments": {},
   "cell_type": "markdown",
   "metadata": {},
   "source": [
    "### Knn-per's practical heterogeneity"
   ]
  },
  {
   "cell_type": "code",
   "execution_count": 3,
   "metadata": {},
   "outputs": [],
   "source": [
    "import random, time\n",
    "import numpy as np\n",
    "\n",
    "\n",
    "def iid_divide(l, g):\n",
    "    \"\"\"\n",
    "    https://github.com/TalwalkarLab/leaf/blob/master/data/utils/sample.py\n",
    "    divide list `l` among `g` groups\n",
    "    each group has either `int(len(l)/g)` or `int(len(l)/g)+1` elements\n",
    "    returns a list of groups\n",
    "    \"\"\"\n",
    "    num_elems = len(l)\n",
    "    group_size = int(len(l) / g)\n",
    "    num_big_groups = num_elems - g * group_size\n",
    "    num_small_groups = g - num_big_groups\n",
    "    glist = []\n",
    "    for i in range(num_small_groups):\n",
    "        glist.append(l[group_size * i: group_size * (i + 1)])\n",
    "    bi = group_size * num_small_groups\n",
    "    group_size += 1\n",
    "    for i in range(num_big_groups):\n",
    "        glist.append(l[bi + group_size * i:bi + group_size * (i + 1)])\n",
    "    return glist\n",
    "\n",
    "\n",
    "def split_list_by_indices(l, indices):\n",
    "    \"\"\"\n",
    "    divide list `l` given indices into `len(indices)` sub-lists\n",
    "    sub-list `i` starts from `indices[i]` and stops at `indices[i+1]`\n",
    "    returns a list of sub-lists\n",
    "    \"\"\"\n",
    "    res = []\n",
    "    current_index = 0\n",
    "    for index in indices:\n",
    "        res.append(l[current_index: index])\n",
    "        current_index = index\n",
    "\n",
    "    return res\n",
    "\n",
    "\n",
    "def by_labels_non_iid_split(dataset, n_classes, n_clients, n_clusters, alpha, frac, seed=1234):\n",
    "    \"\"\"\n",
    "    split classification dataset among `n_clients`. The dataset is split as follow:\n",
    "        1) classes are grouped into `n_clusters`\n",
    "        2) for each cluster `c`, samples are partitioned across clients using dirichlet distribution\n",
    "\n",
    "    Inspired by the split in \"Federated Learning with Matched Averaging\"__(https://arxiv.org/abs/2002.06440)\n",
    "\n",
    "    :param dataset:\n",
    "    :type dataset: torch.utils.Dataset\n",
    "    :param n_classes: number of classes present in `dataset`\n",
    "    :param n_clients: number of clients\n",
    "    :param n_clusters: number of clusters to consider; if it is `-1`, then `n_clusters = n_classes`\n",
    "    :param alpha: parameter controlling the diversity among clients\n",
    "    :param frac: fraction of dataset to use\n",
    "    :param seed:\n",
    "    :return: list (size `n_clients`) of subgroups, each subgroup is a list of indices.\n",
    "    \"\"\"\n",
    "    if n_clusters == -1:\n",
    "        n_clusters = n_classes\n",
    "\n",
    "    rng_seed = (seed if (seed is not None and seed >= 0) else int(time.time()))\n",
    "    rng = random.Random(rng_seed)\n",
    "    np.random.seed(rng_seed)\n",
    "\n",
    "    all_labels = list(range(n_classes))\n",
    "    rng.shuffle(all_labels)\n",
    "    clusters_labels = iid_divide(all_labels, n_clusters)\n",
    "\n",
    "    label2cluster = dict()  # maps label to its cluster\n",
    "    for group_idx, labels in enumerate(clusters_labels):\n",
    "        for label in labels:\n",
    "            label2cluster[label] = group_idx\n",
    "\n",
    "    # get subset\n",
    "    n_samples = int(len(dataset) * frac)\n",
    "    selected_indices = rng.sample(list(range(len(dataset))), n_samples)\n",
    "\n",
    "    clusters_sizes = np.zeros(n_clusters, dtype=int)\n",
    "    clusters = {k: [] for k in range(n_clusters)}\n",
    "    for idx in selected_indices:\n",
    "        _, label = dataset[idx]\n",
    "        group_id = label2cluster[label]\n",
    "        clusters_sizes[group_id] += 1\n",
    "        clusters[group_id].append(idx)\n",
    "\n",
    "    for _, cluster in clusters.items():\n",
    "        rng.shuffle(cluster)\n",
    "\n",
    "    clients_counts = np.zeros((n_clusters, n_clients), dtype=np.int64)  # number of samples by client from each cluster\n",
    "\n",
    "    for cluster_id in range(n_clusters):\n",
    "        weights = np.random.dirichlet(alpha=alpha * np.ones(n_clients))\n",
    "        clients_counts[cluster_id] = np.random.multinomial(clusters_sizes[cluster_id], weights)\n",
    "\n",
    "    clients_counts = np.cumsum(clients_counts, axis=1)\n",
    "\n",
    "    clients_indices = [[] for _ in range(n_clients)]\n",
    "    for cluster_id in range(n_clusters):\n",
    "        cluster_split = split_list_by_indices(clusters[cluster_id], clients_counts[cluster_id])\n",
    "\n",
    "        for client_id, indices in enumerate(cluster_split):\n",
    "            clients_indices[client_id] += indices\n",
    "\n",
    "    return clients_indices"
   ]
  },
  {
   "cell_type": "code",
   "execution_count": 6,
   "metadata": {},
   "outputs": [],
   "source": [
    "output = by_labels_non_iid_split(training_data, n_classes=10, n_clients=100, n_clusters=-1, alpha=0.1, frac=0.01, seed=1234)"
   ]
  },
  {
   "cell_type": "code",
   "execution_count": 7,
   "metadata": {},
   "outputs": [
    {
     "data": {
      "text/plain": [
       "[[],\n",
       " [29977, 53507],\n",
       " [59555, 4521, 44888, 3150, 26218],\n",
       " [37104],\n",
       " [4805, 55316],\n",
       " [4893],\n",
       " [25902, 59605, 9422, 56639, 31529, 39417, 50404, 53394, 31323],\n",
       " [],\n",
       " [],\n",
       " [15236],\n",
       " [],\n",
       " [44664, 44293],\n",
       " [7839, 10145],\n",
       " [19570],\n",
       " [],\n",
       " [16693, 43942, 15346, 54862],\n",
       " [7088, 28577],\n",
       " [],\n",
       " [5567],\n",
       " [],\n",
       " [3128],\n",
       " [20014, 47549, 53271, 50092],\n",
       " [54936],\n",
       " [],\n",
       " [50526, 10129],\n",
       " [],\n",
       " [8118, 49779, 28362],\n",
       " [37024, 13369],\n",
       " [57503],\n",
       " [6756, 11088, 45143, 29762, 27944, 40358, 34825],\n",
       " [],\n",
       " [1167],\n",
       " [50401, 15519, 55547, 50688, 55717, 11999, 2490, 31324, 10951, 49442],\n",
       " [],\n",
       " [],\n",
       " [44245, 2448, 9453, 33769, 58677],\n",
       " [9735, 21698, 13504, 30441, 573, 51187, 24729],\n",
       " [20513],\n",
       " [22394, 58153, 4493],\n",
       " [53925],\n",
       " [45883, 10651],\n",
       " [40847, 24939, 21665, 211],\n",
       " [],\n",
       " [12988, 15047, 56132, 39586, 9270, 57702, 19493, 1953, 26778],\n",
       " [23190, 10818, 52676],\n",
       " [],\n",
       " [1777, 2679, 36865, 4501, 43793, 24340],\n",
       " [27602, 31190, 25886, 31861],\n",
       " [],\n",
       " [31525, 21118, 4133, 34742, 25653, 59789, 32801, 34744, 5982, 29251, 51693],\n",
       " [9176, 4936],\n",
       " [29273, 17462, 54690, 42488, 22707, 13231, 38615],\n",
       " [2019,\n",
       "  59476,\n",
       "  20179,\n",
       "  52386,\n",
       "  57053,\n",
       "  52039,\n",
       "  28809,\n",
       "  3012,\n",
       "  13911,\n",
       "  7267,\n",
       "  54010,\n",
       "  43243,\n",
       "  14323],\n",
       " [39315, 52066],\n",
       " [42804],\n",
       " [],\n",
       " [],\n",
       " [52006, 54973, 33707],\n",
       " [],\n",
       " [38652, 34027, 31860],\n",
       " [3437, 1854, 55087, 46033, 48282, 43608],\n",
       " [51063, 46531],\n",
       " [],\n",
       " [15487, 14017, 17804, 39240, 26105, 28109],\n",
       " [9255,\n",
       "  4638,\n",
       "  18752,\n",
       "  35929,\n",
       "  56528,\n",
       "  29181,\n",
       "  36887,\n",
       "  30379,\n",
       "  34995,\n",
       "  44216,\n",
       "  49670,\n",
       "  43080,\n",
       "  27279,\n",
       "  21856,\n",
       "  47194],\n",
       " [],\n",
       " [24365],\n",
       " [],\n",
       " [],\n",
       " [6086, 59669, 53565],\n",
       " [10300, 41830, 378, 17884],\n",
       " [23780, 8683, 7829, 45157, 37998, 49485],\n",
       " [3986, 54969, 19678, 46939, 1763, 38198],\n",
       " [],\n",
       " [37426, 30533, 21397, 35224, 45591, 2594],\n",
       " [24027, 55081],\n",
       " [45454, 21041, 39313],\n",
       " [13573, 39174, 20773, 29713],\n",
       " [42118],\n",
       " [],\n",
       " [31092, 26751, 23675, 16328, 3244, 13677],\n",
       " [57297, 43686],\n",
       " [],\n",
       " [51307, 17667, 43410, 16870],\n",
       " [],\n",
       " [19819, 9091, 37945, 12564],\n",
       " [57028, 16852, 20588],\n",
       " [50914],\n",
       " [50680, 30961, 10030, 34720, 59701, 21873, 9498],\n",
       " [14378, 12751, 34161, 2634, 31899, 17917, 21904, 56274],\n",
       " [],\n",
       " [18432],\n",
       " [],\n",
       " [],\n",
       " [],\n",
       " [35067, 38483, 52821, 54649, 24189, 1859],\n",
       " [9537, 24209, 28479, 43300],\n",
       " [],\n",
       " [23370, 24982, 5431, 12164, 59649, 24889, 26831, 40105, 40845, 22690],\n",
       " [4340, 46671],\n",
       " [20496, 45749, 26886],\n",
       " [11622],\n",
       " [40927],\n",
       " [],\n",
       " [],\n",
       " [52855,\n",
       "  21743,\n",
       "  15943,\n",
       "  25856,\n",
       "  57530,\n",
       "  12052,\n",
       "  55085,\n",
       "  49345,\n",
       "  33793,\n",
       "  38760,\n",
       "  51956,\n",
       "  19212,\n",
       "  59899],\n",
       " [17531],\n",
       " [],\n",
       " [23694],\n",
       " [55172, 54286, 47230, 7895],\n",
       " [30856, 22258, 35886, 22681],\n",
       " [12753, 45308],\n",
       " [2970, 10301],\n",
       " [],\n",
       " [],\n",
       " [14096, 42680],\n",
       " [36525, 27938, 45835],\n",
       " [9923, 21260, 5144, 2615, 14034, 55503],\n",
       " [36466, 1142, 43729, 10128],\n",
       " [21200],\n",
       " [15861],\n",
       " [1189, 50086, 44909, 44217, 46049, 10748],\n",
       " [53527, 11208, 59506, 12162, 11139, 23100, 31798, 49386, 49464, 32970],\n",
       " [38211, 44744],\n",
       " [11448, 44287, 52516, 39353, 6638, 35205, 48707, 38176, 56865],\n",
       " [160, 52651],\n",
       " [],\n",
       " [42940,\n",
       "  6796,\n",
       "  25308,\n",
       "  28696,\n",
       "  57445,\n",
       "  56218,\n",
       "  32145,\n",
       "  53643,\n",
       "  2691,\n",
       "  58094,\n",
       "  18025,\n",
       "  30201,\n",
       "  47640],\n",
       " [],\n",
       " [32543, 45131, 57464, 27284, 48341, 33753],\n",
       " [],\n",
       " [31183, 9171, 1955, 22302, 17971, 22789, 54370],\n",
       " [47883,\n",
       "  4272,\n",
       "  58305,\n",
       "  18353,\n",
       "  19957,\n",
       "  17650,\n",
       "  29080,\n",
       "  18286,\n",
       "  33368,\n",
       "  23280,\n",
       "  30017,\n",
       "  34998],\n",
       " [14223, 4626, 38209],\n",
       " [],\n",
       " [],\n",
       " [55203, 50812],\n",
       " [7453, 13320, 8449, 48612],\n",
       " [],\n",
       " [],\n",
       " [],\n",
       " [37863, 1264, 34458, 40804, 11074],\n",
       " [41183],\n",
       " [10764],\n",
       " [38038, 38988, 4571, 59405],\n",
       " [58085],\n",
       " [40659],\n",
       " [],\n",
       " [4471, 21317, 32729, 38899, 26764, 41905, 54026],\n",
       " [38764, 54716, 3440, 43017, 51911],\n",
       " [],\n",
       " [],\n",
       " [25765, 24217, 3952],\n",
       " [9692, 52141, 54356, 57774],\n",
       " [18220, 38504],\n",
       " [20029, 19377, 38341],\n",
       " [25994, 54654, 19557, 38536, 12544, 26247],\n",
       " [38503, 29941, 55005],\n",
       " [38427],\n",
       " [55512],\n",
       " [17060, 15664, 51013],\n",
       " [39659, 58624],\n",
       " [20902, 13109, 23293, 59901],\n",
       " [24598],\n",
       " [22864,\n",
       "  59333,\n",
       "  44362,\n",
       "  54240,\n",
       "  22910,\n",
       "  24371,\n",
       "  30678,\n",
       "  9717,\n",
       "  31470,\n",
       "  55400,\n",
       "  27658,\n",
       "  59979],\n",
       " [44747,\n",
       "  17432,\n",
       "  24695,\n",
       "  59897,\n",
       "  28872,\n",
       "  35622,\n",
       "  47777,\n",
       "  34004,\n",
       "  53080,\n",
       "  16742,\n",
       "  33095,\n",
       "  32295,\n",
       "  18695,\n",
       "  4750],\n",
       " [],\n",
       " [],\n",
       " [14391, 10148, 32740],\n",
       " [3550],\n",
       " [],\n",
       " [30663, 19999, 46414, 22906, 46754, 2888, 39269, 30118],\n",
       " [18139, 2320, 39466, 52626, 38337],\n",
       " [],\n",
       " [11406],\n",
       " [8983, 34907, 4646, 58211],\n",
       " [44188],\n",
       " [111, 33208, 8580, 11419, 18136, 55328, 53364],\n",
       " [30673, 4996, 34713],\n",
       " [],\n",
       " [33441],\n",
       " [51576, 50965, 13440, 14937, 31430],\n",
       " [54268],\n",
       " [1038, 48073],\n",
       " [46193],\n",
       " [30987],\n",
       " [45983,\n",
       "  11554,\n",
       "  31735,\n",
       "  33189,\n",
       "  47461,\n",
       "  53591,\n",
       "  16372,\n",
       "  19197,\n",
       "  32889,\n",
       "  46779,\n",
       "  4784,\n",
       "  42011,\n",
       "  43798,\n",
       "  42650],\n",
       " [45420, 35018, 36974, 29365, 58933, 39988, 10834],\n",
       " [],\n",
       " [42957, 56693, 41408, 958, 18982, 55913, 38306, 36903, 4231, 25995],\n",
       " [],\n",
       " [33054],\n",
       " [43557, 5745],\n",
       " [18901, 24108, 44961, 19777, 12874, 31822],\n",
       " [35460, 49997, 24359, 35981, 27197, 19253],\n",
       " [5254, 42246, 55569, 35666, 53146, 45539, 34555],\n",
       " [35786, 2924],\n",
       " [40623, 34885],\n",
       " [36813, 22687, 32496, 22632, 49123, 52268, 33298, 53314],\n",
       " [16072, 49785, 7498, 5742, 17132, 37226, 5828]]"
      ]
     },
     "execution_count": 7,
     "metadata": {},
     "output_type": "execute_result"
    }
   ],
   "source": [
    "output"
   ]
  },
  {
   "attachments": {},
   "cell_type": "markdown",
   "metadata": {},
   "source": [
    "### By-class Dirichlet Non-iid"
   ]
  },
  {
   "cell_type": "code",
   "execution_count": 3,
   "metadata": {},
   "outputs": [],
   "source": [
    "import numpy as np\n",
    "import json\n",
    "\n",
    "class NumpyEncoder(json.JSONEncoder):\n",
    "    \"\"\" Special json encoder for numpy types \"\"\"\n",
    "    def default(self, obj):\n",
    "        if isinstance(obj, np.integer):\n",
    "            return int(obj)\n",
    "        elif isinstance(obj, np.floating):\n",
    "            return float(obj)\n",
    "        elif isinstance(obj, np.ndarray):\n",
    "            return obj.tolist()\n",
    "        return json.JSONEncoder.default(self, obj)"
   ]
  },
  {
   "cell_type": "code",
   "execution_count": 5,
   "metadata": {},
   "outputs": [
    {
     "name": "stdout",
     "output_type": "stream",
     "text": [
      "Success after 1 attempt(s). Stop!\n"
     ]
    }
   ],
   "source": [
    "import numpy as np\n",
    "import math\n",
    "import os\n",
    "\n",
    "\n",
    "total_labels = np.unique(training_data.targets).tolist()\n",
    "# print(total_labels)\n",
    "\n",
    "alpha = 50\n",
    "u = 0.02\n",
    "num_clients = 200\n",
    "num_desire = 150\n",
    "\n",
    "total_label = len(total_labels)\n",
    "label_list = [i for i in total_labels]\n",
    "\n",
    "labels = training_data.targets\n",
    "idxs = range(len(training_data))\n",
    "training_idxs_labels = np.vstack((idxs, labels)).T\n",
    "\n",
    "labels = testing_data.targets\n",
    "idxs = range(len(testing_data))\n",
    "testing_idxs_labels = np.vstack((idxs, labels)).T\n",
    "\n",
    "count = 0\n",
    "while True:\n",
    "    count += 1\n",
    "\n",
    "    label_dist = np.random.dirichlet([alpha/num_clients for i in range(num_clients)], total_label).T\n",
    "    by_class_volume = u * len(training_data) / total_label\n",
    "    label_dist = np.int64(by_class_volume * label_dist)\n",
    "    \n",
    "    client_volume = np.sum(label_dist, axis=1)\n",
    "    tmp = np.array([i + 1 for i in range(num_clients)]) * (client_volume > 0) - 1\n",
    "    result = label_dist[tmp[tmp>-1]]\n",
    "    \n",
    "    if result.shape[0] >= num_desire:\n",
    "        print(f\"Success after {count} attempt(s). Stop!\")\n",
    "        training_dict_client = {client_id:[] for client_id in range(num_desire)}\n",
    "        testing_dict_client = {client_id:[] for client_id in range(num_desire)}\n",
    "        \n",
    "        result = result[0:num_desire]\n",
    "        \n",
    "        for client_idx in range(num_desire):\n",
    "            local_label_dist = result[client_idx].tolist()\n",
    "            \n",
    "            for label, sample_this_label in enumerate(local_label_dist):                \n",
    "                if sample_this_label > 0:\n",
    "                    \n",
    "                    idxes_1 = training_idxs_labels[training_idxs_labels[:,1] == label][:,0]\n",
    "                    idxes_2 = testing_idxs_labels[testing_idxs_labels[:,1] == label][:,0]\n",
    "                    \n",
    "                    label_1_idxes = np.random.choice(idxes_1, sample_this_label, replace=False)\n",
    "                    label_2_idxes = np.random.choice(idxes_2, int(np.ceil(sample_this_label/2)), replace=False)\n",
    "                    \n",
    "                    training_dict_client[client_idx] += label_1_idxes.tolist()\n",
    "                    testing_dict_client[client_idx] += label_2_idxes.tolist()\n",
    "                    \n",
    "                    training_idxs_labels[label_1_idxes] -= 100\n",
    "                    testing_idxs_labels[label_2_idxes] -= 100\n",
    "        \n",
    "        sparsity = round(np.sum(result == 0)/(result.shape[0] * total_label), 2)\n",
    "        savepath = f\"./dataset_idx/cifar10/dirichlet/sparsity_{sparsity}/{num_desire}client\"\n",
    "        if not Path(savepath).exists():\n",
    "            os.makedirs(savepath)\n",
    "        \n",
    "        json.dump({\"u\": u, \"alpha\": alpha, \"sparsity\": sparsity, \"n_input\": num_clients, \"n_desire\": num_desire}, open(f\"{savepath}/infor.json\", \"w\"))\n",
    "        json.dump(training_dict_client, open(f\"{savepath}/train.json\", \"w\"), cls=NumpyEncoder)\n",
    "        json.dump(testing_dict_client, open(f\"{savepath}/test.json\", \"w\"), cls=NumpyEncoder)\n",
    "        np.savetxt(f\"{savepath}/stats.csv\", result, fmt=\"%d\", delimiter=\",\")\n",
    "        break\n",
    "        \n",
    "    elif count >= 10000:\n",
    "        print(f\"{count} attempts failed. Stop!\")\n",
    "        break"
   ]
  },
  {
   "attachments": {},
   "cell_type": "markdown",
   "metadata": {},
   "source": [
    "### Gen I.i.d data"
   ]
  },
  {
   "cell_type": "code",
   "execution_count": null,
   "metadata": {},
   "outputs": [],
   "source": [
    "num_clients = 30\n",
    "sample_per_client = 200\n",
    "\n",
    "training_dict_client = {client_id:[] for client_id in range(num_clients)}\n",
    "testing_dict_client = {client_id:[] for client_id in range(num_clients)}\n",
    "\n",
    "labels = training_data.targets\n",
    "idxs = range(len(training_data))\n",
    "training_idxs_labels = np.vstack((idxs, labels)).T\n",
    "\n",
    "labels = testing_data.targets\n",
    "idxs = range(len(testing_data))\n",
    "testing_idxs_labels = np.vstack((idxs, labels)).T\n",
    "\n",
    "\n",
    "for client_id in range(num_clients):    \n",
    "    idxes_1 = training_idxs_labels[:,0]\n",
    "    idxes_2 = testing_idxs_labels[:,0]\n",
    "    \n",
    "    label_1_idxes = np.random.choice(idxes_1, sample_per_client, replace=False)\n",
    "    label_2_idxes = np.random.choice(idxes_2, int(sample_per_client/4), replace=False)\n",
    "    \n",
    "    training_dict_client[client_id] += label_1_idxes.tolist()\n",
    "    testing_dict_client[client_id] += label_2_idxes.tolist()\n",
    "    \n",
    "    training_idxs_labels[label_1_idxes] -= 100\n",
    "    testing_idxs_labels[label_2_idxes] -= 100"
   ]
  },
  {
   "cell_type": "code",
   "execution_count": null,
   "metadata": {},
   "outputs": [],
   "source": [
    "class NumpyEncoder(json.JSONEncoder):\n",
    "    \"\"\" Special json encoder for numpy types \"\"\"\n",
    "    def default(self, obj):\n",
    "        if isinstance(obj, np.integer):\n",
    "            return int(obj)\n",
    "        elif isinstance(obj, np.floating):\n",
    "            return float(obj)\n",
    "        elif isinstance(obj, np.ndarray):\n",
    "            return obj.tolist()\n",
    "        return json.JSONEncoder.default(self, obj)\n",
    "    \n",
    "savepath = f\"./dataset_idx/mnist/iid/{num_clients}client\"\n",
    "if not Path(savepath).exists():\n",
    "    os.makedirs(savepath)\n",
    "    \n",
    "json.dump(training_dict_client, open(f\"{savepath}/mnist_iid.json\", \"w\"), cls=NumpyEncoder)\n",
    "json.dump(testing_dict_client, open(f\"{savepath}/mnist_iid_test.json\", \"w\"), cls=NumpyEncoder)"
   ]
  },
  {
   "attachments": {},
   "cell_type": "markdown",
   "metadata": {},
   "source": [
    "### Practical for tiny imagenet / medical"
   ]
  },
  {
   "cell_type": "code",
   "execution_count": 4,
   "metadata": {},
   "outputs": [
    {
     "name": "stdout",
     "output_type": "stream",
     "text": [
      "[0, 1, 2, 3, 4, 5, 6, 7, 8, 9, 10, 11, 12, 13, 14, 15, 16, 17, 18, 19, 20, 21, 22, 23, 24, 25, 26, 27, 28, 29, 30, 31, 32, 33, 34, 35, 36, 37, 38, 39, 40, 41, 42, 43, 44, 45, 46, 47, 48, 49, 50, 51, 52, 53, 54, 55, 56, 57, 58, 59, 60, 61, 62, 63, 64, 65, 66, 67, 68, 69, 70, 71, 72, 73, 74, 75, 76, 77, 78, 79, 80, 81, 82, 83, 84, 85, 86, 87, 88, 89, 90, 91, 92, 93, 94, 95, 96, 97, 98, 99, 100, 101, 102, 103, 104, 105, 106, 107, 108, 109, 110, 111, 112, 113, 114, 115, 116, 117, 118, 119, 120, 121, 122, 123, 124, 125, 126, 127, 128, 129, 130, 131, 132, 133, 134, 135, 136, 137, 138, 139, 140, 141, 142, 143, 144, 145, 146, 147, 148, 149, 150, 151, 152, 153, 154, 155, 156, 157, 158, 159, 160, 161, 162, 163, 164, 165, 166, 167, 168, 169, 170, 171, 172, 173, 174, 175, 176, 177, 178, 179, 180, 181, 182, 183, 184, 185, 186, 187, 188, 189, 190, 191, 192, 193, 194, 195, 196, 197, 198, 199]\n",
      "Total data used: 19080.0/80000\n"
     ]
    }
   ],
   "source": [
    "import numpy as np\n",
    "import math\n",
    "import os\n",
    "\n",
    "total_labels = np.unique(training_data.dataset.targets).tolist()\n",
    "print(total_labels)\n",
    "\n",
    "alpha = 5\n",
    "\n",
    "min_sample_per_client = 20\n",
    "max_sample_per_client = 60\n",
    "\n",
    "num_clients = 500\n",
    "\n",
    "total_label = len(total_labels)\n",
    "label_list = [i for i in total_labels]\n",
    "\n",
    "labels = np.array(training_data.dataset.targets)[training_data.indices].tolist()\n",
    "idxs = range(len(training_data))\n",
    "training_idxs_labels = np.vstack((idxs, labels)).T\n",
    "\n",
    "labels = np.array(testing_data.dataset.targets)[testing_data.indices].tolist()\n",
    "idxs = range(len(testing_data))\n",
    "testing_idxs_labels = np.vstack((idxs, labels)).T\n",
    "\n",
    "training_dict_client = {client_id:[] for client_id in range(num_clients)}\n",
    "testing_dict_client = {client_id:[] for client_id in range(num_clients)}\n",
    "\n",
    "label_dist = np.random.dirichlet([alpha/total_label for i in range(total_label)], num_clients)\n",
    "label_nums = np.zeros([num_clients, total_label])\n",
    "\n",
    "for client_idx in range(num_clients):\n",
    "    local_label_dist = label_dist[client_idx].tolist()\n",
    "    sample_this_client = np.random.randint(min_sample_per_client, max_sample_per_client + 1)\n",
    "    \n",
    "    for label, proportion in zip(label_list, local_label_dist):\n",
    "        sample_this_label = round(proportion * sample_this_client)\n",
    "        if sample_this_label > 0:\n",
    "            label_nums[client_idx, label] = sample_this_label\n",
    "            \n",
    "            idxes_1 = training_idxs_labels[training_idxs_labels[:,1] == label][:,0]\n",
    "            idxes_2 = testing_idxs_labels[testing_idxs_labels[:,1] == label][:,0]\n",
    "                        \n",
    "            label_1_idxes = np.random.choice(idxes_1, sample_this_label, replace=False)\n",
    "            label_2_idxes = np.random.choice(idxes_2, max(5, int(np.ceil(sample_this_label/2))), replace=False)\n",
    "            \n",
    "            training_dict_client[client_idx] += label_1_idxes.tolist()\n",
    "            testing_dict_client[client_idx] += label_2_idxes.tolist()\n",
    "            \n",
    "            training_idxs_labels[label_1_idxes] -= 100\n",
    "            # testing_idxs_labels[label_2_idxes] -= 100\n",
    "\n",
    "coverred_labels = np.sum(label_nums, axis=0, keepdims=True)\n",
    "if (coverred_labels == 0).any():\n",
    "    raise Exception(\"Not coverring all labels! {}\".format(coverred_labels))\n",
    "\n",
    "print(\"Total data used: {}/{}\".format(np.sum(coverred_labels), len(training_data)))\n",
    "class NumpyEncoder(json.JSONEncoder):\n",
    "    \"\"\" Special json encoder for numpy types \"\"\"\n",
    "    def default(self, obj):\n",
    "        if isinstance(obj, np.integer):\n",
    "            return int(obj)\n",
    "        elif isinstance(obj, np.floating):\n",
    "            return float(obj)\n",
    "        elif isinstance(obj, np.ndarray):\n",
    "            return obj.tolist()\n",
    "        return json.JSONEncoder.default(self, obj)\n",
    "    \n",
    "savepath = f\"./dataset_idx/tinyimagenet/dirichlet/dir_{alpha}_sparse/{num_clients}client\"\n",
    "if not Path(savepath).exists():\n",
    "    os.makedirs(savepath)\n",
    "    \n",
    "json.dump(training_dict_client, open(f\"{savepath}/train.json\", \"w\"), cls=NumpyEncoder)\n",
    "json.dump(testing_dict_client, open(f\"{savepath}/test.json\", \"w\"), cls=NumpyEncoder)\n",
    "np.savetxt(f\"{savepath}/stats.csv\", label_nums, fmt=\"%d\", delimiter=\",\")"
   ]
  },
  {
   "attachments": {},
   "cell_type": "markdown",
   "metadata": {},
   "source": []
  },
  {
   "cell_type": "code",
   "execution_count": 1,
   "metadata": {},
   "outputs": [],
   "source": [
    "import numpy as np\n",
    "import torch"
   ]
  },
  {
   "cell_type": "code",
   "execution_count": 2,
   "metadata": {},
   "outputs": [
    {
     "data": {
      "text/plain": [
       "tensor([ 0.3481,  0.8665, -0.7567, -0.3599,  1.7869, -0.7438,  0.6082,  0.5114,\n",
       "        -0.4556,  0.5690])"
      ]
     },
     "execution_count": 2,
     "metadata": {},
     "output_type": "execute_result"
    }
   ],
   "source": [
    "a = torch.randn([10])\n",
    "a"
   ]
  },
  {
   "cell_type": "code",
   "execution_count": 6,
   "metadata": {},
   "outputs": [
    {
     "data": {
      "text/plain": [
       "tensor([ 0.8665, -0.7567, -0.3599,  1.7869, -0.7438,  0.6082,  0.5114, -0.4556])"
      ]
     },
     "execution_count": 6,
     "metadata": {},
     "output_type": "execute_result"
    }
   ],
   "source": [
    "a[1:-1]"
   ]
  },
  {
   "cell_type": "code",
   "execution_count": 7,
   "metadata": {},
   "outputs": [
    {
     "data": {
      "text/plain": [
       "array([ 0.8664599 , -0.7566685 , -0.3598654 ,  1.7868515 , -0.74376106,\n",
       "        0.60816854,  0.51137835, -0.4555607 ], dtype=float32)"
      ]
     },
     "execution_count": 7,
     "metadata": {},
     "output_type": "execute_result"
    }
   ],
   "source": [
    "a_np = a[1:-1].numpy()\n",
    "a_np"
   ]
  },
  {
   "cell_type": "code",
   "execution_count": 10,
   "metadata": {},
   "outputs": [],
   "source": [
    "a_np[[1,2,3]] = 0"
   ]
  },
  {
   "cell_type": "code",
   "execution_count": 11,
   "metadata": {},
   "outputs": [
    {
     "data": {
      "text/plain": [
       "array([ 0.8664599 ,  0.        ,  0.        ,  0.        , -0.74376106,\n",
       "        0.60816854,  0.51137835, -0.4555607 ], dtype=float32)"
      ]
     },
     "execution_count": 11,
     "metadata": {},
     "output_type": "execute_result"
    }
   ],
   "source": [
    "a_np"
   ]
  },
  {
   "cell_type": "code",
   "execution_count": 14,
   "metadata": {},
   "outputs": [
    {
     "data": {
      "text/plain": [
       "array([0, 4, 5, 6, 7])"
      ]
     },
     "execution_count": 14,
     "metadata": {},
     "output_type": "execute_result"
    }
   ],
   "source": [
    "np.where(a_np != 0)[0]"
   ]
  },
  {
   "cell_type": "code",
   "execution_count": 19,
   "metadata": {},
   "outputs": [
    {
     "data": {
      "text/plain": [
       "array([0.71349951, 0.47656529, 0.30668635, 0.61404144, 0.06606552,\n",
       "       0.17665606, 0.9452477 , 0.48429536])"
      ]
     },
     "execution_count": 19,
     "metadata": {},
     "output_type": "execute_result"
    }
   ],
   "source": [
    "b = np.random.rand(8)\n",
    "b"
   ]
  },
  {
   "cell_type": "code",
   "execution_count": 20,
   "metadata": {},
   "outputs": [
    {
     "data": {
      "text/plain": [
       "array([0.71349951, 0.06606552, 0.17665606, 0.9452477 , 0.48429536])"
      ]
     },
     "execution_count": 20,
     "metadata": {},
     "output_type": "execute_result"
    }
   ],
   "source": [
    "b[np.where(a_np != 0)[0]]"
   ]
  },
  {
   "cell_type": "code",
   "execution_count": 23,
   "metadata": {},
   "outputs": [
    {
     "data": {
      "text/plain": [
       "7"
      ]
     },
     "execution_count": 23,
     "metadata": {},
     "output_type": "execute_result"
    }
   ],
   "source": [
    "np.cumsum(b).argmax()"
   ]
  }
 ],
 "metadata": {
  "kernelspec": {
   "display_name": "longnd",
   "language": "python",
   "name": "python3"
  },
  "language_info": {
   "codemirror_mode": {
    "name": "ipython",
    "version": 3
   },
   "file_extension": ".py",
   "mimetype": "text/x-python",
   "name": "python",
   "nbconvert_exporter": "python",
   "pygments_lexer": "ipython3",
   "version": "3.10.6"
  },
  "orig_nbformat": 4,
  "vscode": {
   "interpreter": {
    "hash": "9f784b053654bb8129a3cb1aa1762d7834caeb9ba8691a85058f59d7796858ce"
   }
  }
 },
 "nbformat": 4,
 "nbformat_minor": 2
}
