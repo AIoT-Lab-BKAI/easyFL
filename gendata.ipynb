{
 "cells": [
  {
   "cell_type": "code",
   "execution_count": 1,
   "metadata": {},
   "outputs": [],
   "source": [
    "from pathlib import Path\n",
    "import torch\n",
    "from torch.utils.data import DataLoader, Dataset, random_split\n",
    "from torchvision import datasets, transforms\n",
    "import json\n",
    "import numpy as np\n",
    "import os\n",
    "\n",
    "class NumpyEncoder(json.JSONEncoder):\n",
    "    \"\"\" Special json encoder for numpy types \"\"\"\n",
    "    def default(self, obj):\n",
    "        if isinstance(obj, np.integer):\n",
    "            return int(obj)\n",
    "        elif isinstance(obj, np.floating):\n",
    "            return float(obj)\n",
    "        elif isinstance(obj, np.ndarray):\n",
    "            return obj.tolist()\n",
    "        return json.JSONEncoder.default(self, obj)"
   ]
  },
  {
   "attachments": {},
   "cell_type": "markdown",
   "metadata": {},
   "source": [
    "## Dataset"
   ]
  },
  {
   "attachments": {},
   "cell_type": "markdown",
   "metadata": {},
   "source": [
    "### MNIST"
   ]
  },
  {
   "cell_type": "code",
   "execution_count": 5,
   "metadata": {},
   "outputs": [],
   "source": [
    "training_data = datasets.MNIST(\n",
    "    root=\"./benchmark/mnist/data/\",\n",
    "    train=True,\n",
    "    download=False,\n",
    "    transform=transforms.Compose([transforms.ToTensor(), transforms.Normalize((0.1307,), (0.3081,))]),\n",
    ")\n",
    "\n",
    "testing_data = datasets.MNIST(\n",
    "    root=\"./benchmark/mnist/data/\",\n",
    "    train=False,\n",
    "    download=False,\n",
    "    transform=transforms.Compose([transforms.ToTensor(), transforms.Normalize((0.1307,), (0.3081,))]),\n",
    ")\n",
    "\n",
    "dataset=\"mnist\""
   ]
  },
  {
   "attachments": {},
   "cell_type": "markdown",
   "metadata": {},
   "source": [
    "### EMNIST"
   ]
  },
  {
   "cell_type": "code",
   "execution_count": null,
   "metadata": {},
   "outputs": [],
   "source": [
    "training_data = datasets.EMNIST(\n",
    "    root=\"./benchmark/emnist/data/\",\n",
    "    split=\"letters\",\n",
    "    train=True,\n",
    "    download=False,\n",
    "    transform=transforms.Compose([transforms.ToTensor(), transforms.Normalize((0.1307,), (0.3081,))]),\n",
    ")\n",
    "\n",
    "testing_data = datasets.EMNIST(\n",
    "    root=\"./benchmark/emnist/data/\",\n",
    "    split=\"letters\",\n",
    "    train=False,\n",
    "    download=False,\n",
    "    transform=transforms.Compose([transforms.ToTensor(), transforms.Normalize((0.1307,), (0.3081,))]),\n",
    ")\n",
    "\n",
    "dataset=\"emnist\""
   ]
  },
  {
   "attachments": {},
   "cell_type": "markdown",
   "metadata": {},
   "source": [
    "### CIFAR10"
   ]
  },
  {
   "cell_type": "code",
   "execution_count": 2,
   "metadata": {},
   "outputs": [],
   "source": [
    "training_data = datasets.CIFAR10(\n",
    "    root=\"./benchmark/cifar10/data/\",\n",
    "    train=True,\n",
    "    download=False,\n",
    "    transform=transforms.Compose([transforms.ToTensor(), transforms.Normalize((0.4914, 0.4822, 0.4465), (0.2023, 0.1994, 0.2010))]),\n",
    ")\n",
    "\n",
    "testing_data = datasets.CIFAR10(\n",
    "    root=\"./benchmark/cifar10/data/\",\n",
    "    train=False,\n",
    "    download=False,\n",
    "    transform=transforms.Compose([transforms.ToTensor(), transforms.Normalize((0.4914, 0.4822, 0.4465), (0.2023, 0.1994, 0.2010))]),\n",
    ")\n",
    "\n",
    "dataset=\"cifar10\""
   ]
  },
  {
   "attachments": {},
   "cell_type": "markdown",
   "metadata": {},
   "source": [
    "### Fashion MNIST"
   ]
  },
  {
   "cell_type": "code",
   "execution_count": null,
   "metadata": {},
   "outputs": [],
   "source": [
    "training_data = datasets.FashionMNIST(\n",
    "    root=\"./benchmark/fmnist/data\", \n",
    "    train=True, \n",
    "    download=True, \n",
    "    transform=transforms.Compose([transforms.ToTensor(), transforms.Normalize((0.1307,), (0.3081,))])\n",
    ")\n",
    "\n",
    "testing_data = datasets.FashionMNIST(\n",
    "    root=\"./benchmark/fmnist/data\", \n",
    "    train=False, \n",
    "    download=True, \n",
    "    transform=transforms.Compose([transforms.ToTensor(), transforms.Normalize((0.1307,), (0.3081,))])\n",
    ")"
   ]
  },
  {
   "attachments": {},
   "cell_type": "markdown",
   "metadata": {},
   "source": [
    "### CIFAR100"
   ]
  },
  {
   "cell_type": "code",
   "execution_count": 2,
   "metadata": {},
   "outputs": [],
   "source": [
    "training_data = datasets.CIFAR100(\n",
    "    root=\"../PersonalizedFL/myPFL/benchmark/cifar100/data/\",\n",
    "    train=True,\n",
    "    download=False,\n",
    "    transform=transforms.Compose([transforms.ToTensor(), transforms.Normalize((0.4914, 0.4822, 0.4465), (0.2023, 0.1994, 0.2010))]),\n",
    ")\n",
    "\n",
    "testing_data = datasets.CIFAR100(\n",
    "    root=\"../PersonalizedFL/myPFL/benchmark/cifar100/data/\",\n",
    "    train=False,\n",
    "    download=False,\n",
    "    transform=transforms.Compose([transforms.ToTensor(), transforms.Normalize((0.4914, 0.4822, 0.4465), (0.2023, 0.1994, 0.2010))]),\n",
    ")\n",
    "\n",
    "dataset=\"cifar100\""
   ]
  },
  {
   "attachments": {},
   "cell_type": "markdown",
   "metadata": {},
   "source": [
    "### ImageNet"
   ]
  },
  {
   "cell_type": "code",
   "execution_count": null,
   "metadata": {},
   "outputs": [],
   "source": [
    "training_data = datasets.ImageNet(\n",
    "    root=\"./benchmark/cifar100/data/\",\n",
    "    train=True,\n",
    "    download=False,\n",
    "    transform=transforms.Compose([transforms.ToTensor(), transforms.Normalize((0.4914, 0.4822, 0.4465), (0.2023, 0.1994, 0.2010))]),\n",
    ")\n",
    "\n",
    "testing_data = datasets.ImageNet(\n",
    "    root=\"./benchmark/cifar100/data/\",\n",
    "    train=False,\n",
    "    download=True,\n",
    "    transform=transforms.Compose([transforms.ToTensor(), transforms.Normalize((0.4914, 0.4822, 0.4465), (0.2023, 0.1994, 0.2010))]),\n",
    ")"
   ]
  },
  {
   "attachments": {},
   "cell_type": "markdown",
   "metadata": {},
   "source": [
    "### TINY-ImageNet"
   ]
  },
  {
   "cell_type": "code",
   "execution_count": 2,
   "metadata": {},
   "outputs": [],
   "source": [
    "data_folder = \"../datasets/data/tiny-imagenet-200/train\"\n",
    "\n",
    "transform = transforms.Compose([transforms.Resize((224, 224)), transforms.ToTensor(), transforms.Normalize(mean=[0.5, 0.5, 0.5], std=[0.5, 0.5, 0.5])])\n",
    "total_data = datasets.ImageFolder(data_folder, transform=transform)\n",
    "training_data, testing_data = random_split(total_data, [80000, 20000], generator=torch.Generator().manual_seed(200200))"
   ]
  },
  {
   "attachments": {},
   "cell_type": "markdown",
   "metadata": {},
   "source": [
    "### Medical-Mnist"
   ]
  },
  {
   "cell_type": "code",
   "execution_count": 2,
   "metadata": {},
   "outputs": [],
   "source": [
    "from torchvision import datasets, transforms\n",
    "import torchvision\n",
    "from torch.utils.data import random_split\n",
    "import os\n",
    "import torch\n",
    "\n",
    "\n",
    "transform=transforms.Compose([\n",
    "    transforms.RandomRotation(10),      # rotate +/- 10 degrees\n",
    "    transforms.RandomHorizontalFlip(),  # reverse 50% of images\n",
    "    transforms.Resize(224),             # resize shortest side to 224 pixels\n",
    "    transforms.CenterCrop(224),         # crop longest side to 224 pixels at center\n",
    "    transforms.ToTensor(),\n",
    "    transforms.Normalize([0.485, 0.456, 0.406],\n",
    "                        [0.229, 0.224, 0.225])\n",
    "])\n",
    "\n",
    "data_folder=\"../datasets/data/medical-mnist\"\n",
    "dataset=datasets.ImageFolder(root=data_folder,transform=transform)\n",
    "training_data, testing_data = random_split(dataset, [40000, len(dataset) - 40000], generator=torch.Generator().manual_seed(200200))"
   ]
  },
  {
   "attachments": {},
   "cell_type": "markdown",
   "metadata": {},
   "source": [
    "### Brain-mri"
   ]
  },
  {
   "cell_type": "code",
   "execution_count": 2,
   "metadata": {},
   "outputs": [],
   "source": [
    "from torchvision import datasets, transforms\n",
    "import torchvision\n",
    "from torch.utils.data import random_split\n",
    "import os, torch"
   ]
  },
  {
   "cell_type": "code",
   "execution_count": 3,
   "metadata": {},
   "outputs": [],
   "source": [
    "data_folder=\"../datasets/data/brain-tumor-mri-dataset\"\n",
    "transform= transforms.Compose([\n",
    "    transforms.Resize(size= (128,128)),\n",
    "    transforms.ToTensor(),\n",
    "])\n",
    "training_data = datasets.ImageFolder(root=os.path.join(data_folder, \"Training\"), transform=transform, target_transform = None)\n",
    "testing_data = datasets.ImageFolder(root=os.path.join(data_folder, \"Testing\"), transform=transform)"
   ]
  },
  {
   "attachments": {},
   "cell_type": "markdown",
   "metadata": {},
   "source": [
    "## Division algorithm"
   ]
  },
  {
   "attachments": {},
   "cell_type": "markdown",
   "metadata": {},
   "source": [
    "### Pathological heterogeneity"
   ]
  },
  {
   "attachments": {},
   "cell_type": "markdown",
   "metadata": {},
   "source": [
    "**Each client:**\n",
    "\n",
    "1. Contains no more than 3 labels\n",
    "2. Each label has 8 to 20 samples\n",
    "3. There're at least 5 * #numclass clients"
   ]
  },
  {
   "cell_type": "code",
   "execution_count": 3,
   "metadata": {},
   "outputs": [],
   "source": [
    "import numpy as np\n",
    "import os\n",
    "import math"
   ]
  },
  {
   "cell_type": "code",
   "execution_count": 4,
   "metadata": {},
   "outputs": [
    {
     "name": "stdout",
     "output_type": "stream",
     "text": [
      "[0, 1, 2, 3, 4, 5, 6, 7, 8, 9]\n",
      "Uncover 0 labels !\n"
     ]
    }
   ],
   "source": [
    "total_labels = np.unique(training_data.targets).tolist()\n",
    "len(total_labels)\n",
    "print(total_labels)\n",
    "\n",
    "min_label_per_client = 2\n",
    "max_label_per_client = 4\n",
    "\n",
    "min_sample_per_client = 10\n",
    "max_sample_per_client = 50\n",
    "\n",
    "# num_clients = 5 * len(total_labels)\n",
    "num_clients = 100\n",
    "\n",
    "total_label = len(total_labels)\n",
    "label_list = [i for i in total_labels]\n",
    "label_per_client = 2\n",
    "\n",
    "labels = training_data.targets\n",
    "idxs = range(len(training_data))\n",
    "training_idxs_labels = np.vstack((idxs, labels)).T\n",
    "\n",
    "labels = testing_data.targets\n",
    "idxs = range(len(testing_data))\n",
    "testing_idxs_labels = np.vstack((idxs, labels)).T\n",
    "\n",
    "training_dict_client = {client_id:[] for client_id in range(num_clients)}\n",
    "testing_dict_client = {client_id:[] for client_id in range(num_clients)}\n",
    "\n",
    "client_labels = []\n",
    "not_passed_label_list = label_list.copy()\n",
    "\n",
    "for client_id in range(num_clients):\n",
    "    label_per_client = np.random.randint(min_label_per_client, max_label_per_client + 1)\n",
    "    this_set = np.random.choice(label_list, label_per_client, replace=False)\n",
    "    client_labels.append(list(this_set))\n",
    "    not_passed_label_list = list(set(not_passed_label_list) - set(this_set))\n",
    "\n",
    "if len(not_passed_label_list) > 0:\n",
    "    print(\"Uncover\", len(not_passed_label_list), \"labels !\")\n",
    "    exit(0)\n",
    "else:\n",
    "    print(\"Uncover\", len(not_passed_label_list), \"labels !\")\n",
    "\n",
    "samples_details = []\n",
    "\n",
    "for client_idx, client_label in zip(range(num_clients), client_labels):\n",
    "    sample_this_client = []\n",
    "    \n",
    "    for label in client_label:\n",
    "        sample_per_client = np.random.randint(min_sample_per_client, max_sample_per_client + 1)\n",
    "        sample_this_client.append(sample_per_client)\n",
    "        \n",
    "        idxes_1 = training_idxs_labels[training_idxs_labels[:,1] == label][:,0]\n",
    "        idxes_2 = testing_idxs_labels[testing_idxs_labels[:,1] == label][:,0]\n",
    "        \n",
    "        label_1_idxes = np.random.choice(idxes_1, sample_per_client, replace=False)\n",
    "        label_2_idxes = np.random.choice(idxes_2, int(sample_per_client/4), replace=False)\n",
    "        \n",
    "        training_dict_client[client_idx] += label_1_idxes.tolist()\n",
    "        testing_dict_client[client_idx] += label_2_idxes.tolist()\n",
    "        \n",
    "        training_idxs_labels[label_1_idxes] -= 100\n",
    "        testing_idxs_labels[label_2_idxes] -= 100\n",
    "    \n",
    "    samples_details.append(sample_this_client)\n",
    "\n",
    "\n",
    "dis_mtx = np.zeros([num_clients, total_label])\n",
    "for client_id in range(len(client_labels)):\n",
    "    client_label = client_labels[client_id]\n",
    "    client_samples = samples_details[client_id]\n",
    "    \n",
    "    for label, num_samples in zip(client_label, client_samples):\n",
    "        dis_mtx[client_id][total_labels.index(label)] = num_samples"
   ]
  },
  {
   "cell_type": "code",
   "execution_count": 5,
   "metadata": {},
   "outputs": [
    {
     "data": {
      "text/plain": [
       "array([[ 0.,  0.,  0., 27., 47.,  0., 37.,  0.,  0.,  0.],\n",
       "       [ 0.,  0.,  0., 32.,  0.,  0., 39.,  0., 48., 11.],\n",
       "       [ 0., 22.,  0.,  0.,  0., 15.,  0.,  0.,  0.,  0.],\n",
       "       [ 0.,  0.,  0., 12., 33.,  0.,  0.,  0.,  0., 39.],\n",
       "       [30.,  0.,  0.,  0.,  0.,  0.,  0.,  0., 39., 36.],\n",
       "       [30.,  0., 49., 28.,  0.,  0.,  0.,  0.,  0.,  0.],\n",
       "       [14.,  0., 41.,  0.,  0.,  0.,  0.,  0.,  0.,  0.],\n",
       "       [ 0.,  0., 42.,  0.,  0.,  0.,  0.,  0., 50., 49.],\n",
       "       [23.,  0.,  0., 38.,  0.,  0., 23., 37.,  0.,  0.],\n",
       "       [ 0.,  0.,  0., 30.,  0.,  0.,  0.,  0.,  0., 20.],\n",
       "       [ 0.,  0.,  0.,  0.,  0.,  0., 39.,  0., 15., 39.],\n",
       "       [ 0.,  0.,  0., 24.,  0.,  0.,  0., 37., 28.,  0.],\n",
       "       [ 0.,  0., 37., 11.,  0., 13.,  0.,  0.,  0.,  0.],\n",
       "       [22.,  0.,  0.,  0.,  0.,  0.,  0., 42.,  0.,  0.],\n",
       "       [ 0., 43.,  0., 22.,  0.,  0.,  0.,  0.,  0.,  0.],\n",
       "       [ 0.,  0., 45.,  0.,  0., 29., 19.,  0.,  0., 21.],\n",
       "       [ 0.,  0.,  0., 14.,  0.,  0.,  0.,  0., 25., 50.],\n",
       "       [ 0., 26.,  0.,  0., 26.,  0.,  0.,  0.,  0., 28.],\n",
       "       [11.,  0.,  0.,  0., 27.,  0.,  0.,  0., 20., 18.],\n",
       "       [ 0., 14.,  0., 24.,  0.,  0.,  0.,  0.,  0.,  0.],\n",
       "       [ 0.,  0., 24.,  0., 41., 44.,  0.,  0.,  0.,  0.],\n",
       "       [22.,  0.,  0., 16.,  0.,  0.,  0.,  0.,  0., 21.],\n",
       "       [ 0.,  0.,  0., 31.,  0., 32.,  0.,  0.,  0., 45.],\n",
       "       [ 0.,  0.,  0.,  0., 10.,  0.,  0., 15.,  0.,  0.],\n",
       "       [18., 47., 30.,  0., 35.,  0.,  0.,  0.,  0.,  0.],\n",
       "       [ 0.,  0.,  0., 24., 31., 36.,  0.,  0.,  0., 30.],\n",
       "       [ 0., 47.,  0.,  0.,  0.,  0.,  0., 26.,  0.,  0.],\n",
       "       [ 0.,  0.,  0.,  0.,  0., 33.,  0.,  0.,  0., 44.],\n",
       "       [ 0., 17.,  0.,  0.,  0.,  0.,  0.,  0.,  0., 44.],\n",
       "       [38.,  0.,  0.,  0.,  0., 25.,  0.,  0.,  0.,  0.],\n",
       "       [31.,  0.,  0.,  0.,  0.,  0., 18.,  0.,  0.,  0.],\n",
       "       [ 0., 22.,  0.,  0.,  0., 36.,  0.,  0.,  0.,  0.],\n",
       "       [23., 14., 39.,  0.,  0.,  0.,  0., 10.,  0.,  0.],\n",
       "       [ 0.,  0., 17., 17.,  0., 12.,  0.,  0.,  0.,  0.],\n",
       "       [ 0.,  0., 13.,  0., 17.,  0.,  0.,  0., 29.,  0.],\n",
       "       [ 0.,  0., 46., 14., 46.,  0.,  0.,  0.,  0.,  0.],\n",
       "       [ 0.,  0.,  0.,  0.,  0.,  0.,  0., 24.,  0., 12.],\n",
       "       [ 0.,  0., 49.,  0., 47., 47.,  0.,  0., 36.,  0.],\n",
       "       [ 0.,  0., 28.,  0.,  0., 42.,  0.,  0.,  0.,  0.],\n",
       "       [ 0.,  0., 47.,  0., 16., 47., 47.,  0.,  0.,  0.],\n",
       "       [18.,  0.,  0., 11.,  0., 25.,  0.,  0.,  0.,  0.],\n",
       "       [38., 23.,  0.,  0.,  0.,  0.,  0.,  0.,  0., 19.],\n",
       "       [ 0., 42.,  0.,  0., 33.,  0.,  0.,  0.,  0.,  0.],\n",
       "       [ 0.,  0.,  0., 23.,  0., 11.,  0., 30.,  0.,  0.],\n",
       "       [47.,  0.,  0., 45.,  0.,  0., 50.,  0.,  0.,  0.],\n",
       "       [31.,  0., 41.,  0.,  0.,  0., 17.,  0.,  0.,  0.],\n",
       "       [28.,  0.,  0., 36.,  0.,  0.,  0., 38.,  0., 36.],\n",
       "       [47., 17.,  0.,  0.,  0., 12.,  0., 34.,  0.,  0.],\n",
       "       [ 0.,  0.,  0., 21.,  0.,  0.,  0., 34., 37.,  0.],\n",
       "       [33.,  0., 30.,  0., 42.,  0.,  0., 35.,  0.,  0.],\n",
       "       [32., 48.,  0.,  0.,  0., 16.,  0., 41.,  0.,  0.],\n",
       "       [24.,  0.,  0., 33.,  0., 33., 20.,  0.,  0.,  0.],\n",
       "       [34.,  0.,  0.,  0.,  0., 47.,  0., 15.,  0.,  0.],\n",
       "       [ 0.,  0.,  0.,  0., 17.,  0.,  0.,  0., 26.,  0.],\n",
       "       [ 0., 41., 29.,  0.,  0.,  0.,  0.,  0.,  0.,  0.],\n",
       "       [ 0.,  0., 19., 33.,  0.,  0.,  0., 20.,  0.,  0.],\n",
       "       [ 0.,  0.,  0., 22.,  0.,  0.,  0.,  0., 50.,  0.],\n",
       "       [13., 19.,  0., 44.,  0.,  0., 25.,  0.,  0.,  0.],\n",
       "       [ 0.,  0.,  0.,  0.,  0.,  0., 28.,  0., 31.,  0.],\n",
       "       [18.,  0.,  0.,  0.,  0.,  0., 40., 25.,  0., 47.],\n",
       "       [ 0., 37.,  0.,  0., 14.,  0.,  0.,  0.,  0.,  0.],\n",
       "       [ 0., 15.,  0.,  0.,  0., 16.,  0.,  0.,  0., 19.],\n",
       "       [12.,  0.,  0.,  0.,  0.,  0., 36., 41., 43.,  0.],\n",
       "       [34.,  0.,  0.,  0., 12., 32.,  0., 33.,  0.,  0.],\n",
       "       [ 0.,  0.,  0., 37., 24.,  0.,  0.,  0., 31.,  0.],\n",
       "       [ 0.,  0.,  0.,  0., 46.,  0., 37.,  0.,  0.,  0.],\n",
       "       [ 0.,  0., 38.,  0.,  0.,  0., 32., 22.,  0., 33.],\n",
       "       [29., 46.,  0., 49.,  0.,  0.,  0.,  0.,  0., 25.],\n",
       "       [ 0.,  0.,  0., 46.,  0.,  0., 13.,  0., 34.,  0.],\n",
       "       [ 0.,  0.,  0.,  0., 37., 18.,  0., 20.,  0., 42.],\n",
       "       [31.,  0.,  0.,  0.,  0.,  0., 20.,  0., 48.,  0.],\n",
       "       [39., 32., 41.,  0.,  0.,  0.,  0.,  0., 20.,  0.],\n",
       "       [ 0.,  0., 14., 19., 43.,  0.,  0.,  0.,  0., 26.],\n",
       "       [ 0., 34.,  0.,  0.,  0.,  0.,  0., 45.,  0.,  0.],\n",
       "       [ 0.,  0., 19.,  0.,  0., 25.,  0., 21.,  0.,  0.],\n",
       "       [ 0.,  0.,  0.,  0., 12.,  0., 18.,  0., 10., 18.],\n",
       "       [22.,  0.,  0.,  0.,  0.,  0., 16.,  0., 27., 30.],\n",
       "       [ 0.,  0., 24., 15.,  0.,  0.,  0.,  0., 28., 28.],\n",
       "       [ 0., 21.,  0.,  0.,  0., 30., 29.,  0.,  0.,  0.],\n",
       "       [ 0.,  0.,  0.,  0.,  0., 29., 22., 46., 13.,  0.],\n",
       "       [ 0., 14., 23.,  0.,  0.,  0.,  0.,  0.,  0.,  0.],\n",
       "       [44.,  0.,  0.,  0.,  0., 41.,  0.,  0.,  0.,  0.],\n",
       "       [ 0., 19., 38.,  0., 37.,  0.,  0.,  0.,  0., 22.],\n",
       "       [31.,  0.,  0.,  0.,  0.,  0.,  0.,  0., 35., 33.],\n",
       "       [ 0.,  0.,  0.,  0., 24.,  0.,  0.,  0.,  0., 35.],\n",
       "       [48., 40.,  0.,  0.,  0., 16.,  0.,  0.,  0., 43.],\n",
       "       [ 0., 40.,  0., 28.,  0., 34.,  0.,  0., 48.,  0.],\n",
       "       [ 0., 10.,  0.,  0., 33., 12.,  0.,  0.,  0.,  0.],\n",
       "       [ 0., 46.,  0.,  0.,  0., 11.,  0.,  0.,  0., 16.],\n",
       "       [ 0., 14.,  0.,  0., 47.,  0.,  0., 16.,  0., 16.],\n",
       "       [ 0.,  0.,  0.,  0.,  0.,  0., 22.,  0., 45.,  0.],\n",
       "       [ 0.,  0.,  0., 33.,  0., 27.,  0.,  0.,  0., 16.],\n",
       "       [ 0.,  0.,  0.,  0., 31., 14., 24.,  0.,  0.,  0.],\n",
       "       [ 0.,  0.,  0.,  0., 38., 46., 18.,  0.,  0.,  0.],\n",
       "       [ 0., 47.,  0.,  0.,  0.,  0., 24., 38.,  0.,  0.],\n",
       "       [ 0.,  0., 40., 41.,  0.,  0.,  0.,  0.,  0.,  0.],\n",
       "       [ 0.,  0.,  0.,  0.,  0.,  0., 35., 25., 28.,  0.],\n",
       "       [ 0., 38.,  0., 25.,  0.,  0.,  0., 15.,  0., 20.],\n",
       "       [ 0.,  0.,  0.,  0.,  0., 42.,  0., 46., 16.,  0.],\n",
       "       [ 0., 29.,  0.,  0.,  0.,  0., 17.,  0.,  0., 29.]])"
      ]
     },
     "execution_count": 5,
     "metadata": {},
     "output_type": "execute_result"
    }
   ],
   "source": [
    "dis_mtx"
   ]
  },
  {
   "cell_type": "code",
   "execution_count": 6,
   "metadata": {},
   "outputs": [],
   "source": [
    "class NumpyEncoder(json.JSONEncoder):\n",
    "    \"\"\" Special json encoder for numpy types \"\"\"\n",
    "    def default(self, obj):\n",
    "        if isinstance(obj, np.integer):\n",
    "            return int(obj)\n",
    "        elif isinstance(obj, np.floating):\n",
    "            return float(obj)\n",
    "        elif isinstance(obj, np.ndarray):\n",
    "            return obj.tolist()\n",
    "        return json.JSONEncoder.default(self, obj)\n",
    "\n",
    "dataset_name = \"cifar10\"    \n",
    "savepath = f\"./dataset_idx/{dataset_name}/sparse/{num_clients}client\"\n",
    "if not Path(savepath).exists():\n",
    "    os.makedirs(savepath)\n",
    "    \n",
    "json.dump(training_dict_client, open(f\"{savepath}/train.json\", \"w\"), cls=NumpyEncoder)\n",
    "# json.dump(testing_dict_client, open(f\"{savepath}/test.json\", \"w\"), cls=NumpyEncoder)\n",
    "np.savetxt(f\"{savepath}/{dataset_name}_sparse_stat.csv\", dis_mtx, fmt=\"%d\", delimiter=\",\")"
   ]
  },
  {
   "attachments": {},
   "cell_type": "markdown",
   "metadata": {},
   "source": [
    "#### Quantity skew"
   ]
  },
  {
   "cell_type": "code",
   "execution_count": 1,
   "metadata": {},
   "outputs": [],
   "source": [
    "import numpy as np\n",
    "import seaborn as sns\n",
    "import matplotlib.pyplot as plt\n",
    "\n",
    "num_clients=10\n",
    "num_class=10\n",
    "data_volume=50000\n",
    "per_class_volume=int(data_volume/num_class)\n",
    "\n",
    "sample_idx = [i for i in range(data_volume)]\n",
    "label_idx = []\n",
    "for i in range(num_class):\n",
    "    label_idx += [i] * per_class_volume\n",
    "\n",
    "num_shards=100\n",
    "per_shard_volume=int(data_volume/num_shards)\n",
    "per_client_max_shards=int(num_shards/num_clients)\n",
    "\n",
    "dis_mtx = np.zeros([num_clients, num_class])\n",
    "for client_id in range(num_clients):\n",
    "    this_client_shards = np.random.randint(1, per_client_max_shards)\n",
    "    this_client_sample_idxes = np.random.choice(sample_idx, size=this_client_shards * per_shard_volume, replace=False)\n",
    "    sample_idx = list(set(sample_idx) - set(this_client_sample_idxes))\n",
    "    \n",
    "    this_client_label_set = [label_idx[i] for i in this_client_sample_idxes]\n",
    "    labels, volumes = np.unique(this_client_label_set, return_counts=True)\n",
    "    for lab, vol in zip(labels, volumes):\n",
    "        dis_mtx[client_id][lab] += vol"
   ]
  },
  {
   "cell_type": "code",
   "execution_count": 18,
   "metadata": {},
   "outputs": [
    {
     "data": {
      "image/png": "[encoded data removed]",
      "text/plain": [
       "<Figure size 400x400 with 1 Axes>"
      ]
     },
     "metadata": {},
     "output_type": "display_data"
    }
   ],
   "source": [
    "plt.figure(figsize=(4,4))\n",
    "ax = sns.heatmap(dis_mtx, \n",
    "                vmin=0, vmax=np.ceil(np.max(dis_mtx)), \n",
    "                fmt=\".0f\", annot=True, \n",
    "                cmap=sns.color_palette(\"light:b\", as_cmap=True), cbar=False,\n",
    "                # cbar_kws = dict(use_gridspec=False,location=\"left\"),\n",
    "                mask=(dis_mtx==0))\n",
    "\n",
    "ax.set_yticklabels(labels=[i for i in range(num_clients)], rotation=0, fontsize=14)\n",
    "ax.set_xticklabels(labels=ax.get_xticklabels(), rotation=0, fontsize=14)\n",
    "ax.set_xlabel(\"Classes\", fontsize=20)\n",
    "ax.set_ylabel(\"Client ID\", fontsize=20)\n",
    "\n",
    "ax.spines['top'].set_visible(True)\n",
    "ax.spines['right'].set_visible(True)\n",
    "ax.spines['bottom'].set_visible(True)\n",
    "ax.spines['left'].set_visible(True)\n",
    "ax.set_title(\"a) Quantity skew\", fontsize=20, y=1.02)\n",
    "\n",
    "image_format = 'svg' # e.g .png, .svg, etc.\n",
    "image_name = 'quantity-skewed.svg'\n",
    "plt.tight_layout()\n",
    "plt.savefig(image_name, format=image_format, dpi=1200)"
   ]
  },
  {
   "cell_type": "code",
   "execution_count": null,
   "metadata": {},
   "outputs": [],
   "source": []
  },
  {
   "attachments": {},
   "cell_type": "markdown",
   "metadata": {},
   "source": [
    "#### Label skew"
   ]
  },
  {
   "cell_type": "code",
   "execution_count": 31,
   "metadata": {},
   "outputs": [
    {
     "data": {
      "text/plain": [
       "array([[  0.,   0.,   0.,   0.,   0.,   0.,   0., 100., 100.,   0.],\n",
       "       [ 50.,   0.,   0.,  50.,   0.,   0.,   0.,   0.,   0.,   0.],\n",
       "       [  0.,   0.,   0.,   0.,   0.,   0.,   0., 300.,   0., 300.],\n",
       "       [  0.,   0.,   0., 350.,   0.,   0.,   0.,   0.,   0., 350.],\n",
       "       [400.,   0.,   0.,   0., 400.,   0.,   0.,   0.,   0.,   0.],\n",
       "       [  0.,   0.,   0., 400.,   0.,   0., 400.,   0.,   0.,   0.],\n",
       "       [  0., 300., 300.,   0.,   0.,   0.,   0.,   0.,   0.,   0.],\n",
       "       [  0.,   0.,   0.,   0.,   0., 350.,   0.,   0., 350.,   0.],\n",
       "       [  0.,   0.,   0.,   0.,  50.,   0.,  50.,   0.,   0.,   0.],\n",
       "       [150.,   0.,   0.,   0.,   0.,   0., 150.,   0.,   0.,   0.]])"
      ]
     },
     "execution_count": 31,
     "metadata": {},
     "output_type": "execute_result"
    }
   ],
   "source": [
    "import numpy as np\n",
    "import seaborn as sns\n",
    "import matplotlib.pyplot as plt\n",
    "\n",
    "num_clients=10\n",
    "num_class=10\n",
    "data_volume=50000\n",
    "per_client_volume=data_volume/num_clients\n",
    "\n",
    "dis_mtx = np.zeros([num_clients, num_class])\n",
    "for client_id in range(num_clients):\n",
    "    this_client_numclass = np.random.randint(2,3)\n",
    "    this_client_label_set = np.random.choice([i for i in range(num_class)], size=this_client_numclass, replace=False)\n",
    "    this_client_sample_ratio = np.random.dirichlet([10 for _ in this_client_label_set], )\n",
    "    \n",
    "    for label in this_client_label_set:\n",
    "        dis_mtx[client_id][label] += this_client_shard * per_label_shard_volume\n",
    "\n",
    "dis_mtx"
   ]
  },
  {
   "cell_type": "code",
   "execution_count": 33,
   "metadata": {},
   "outputs": [
    {
     "data": {
      "image/png": "[encoded data removed]",
      "text/plain": [
       "<Figure size 400x400 with 1 Axes>"
      ]
     },
     "metadata": {},
     "output_type": "display_data"
    }
   ],
   "source": [
    "plt.figure(figsize=(4,4))\n",
    "ax = sns.heatmap(dis_mtx, \n",
    "                vmin=0, vmax=np.ceil(np.max(dis_mtx)), \n",
    "                fmt=\".0f\", annot=True, \n",
    "                cmap=sns.color_palette(\"light:b\", as_cmap=True), cbar=False,\n",
    "                mask=(dis_mtx==0))\n",
    "\n",
    "ax.set_yticklabels(labels=[i for i in range(num_clients)], rotation=0, fontsize=12)\n",
    "# ax.set_yticklabels(labels=ax.get_yticklabels(), rotation=0)\n",
    "ax.set_xlabel(\"Classes\", fontsize=16)\n",
    "ax.set_ylabel(\"Client Id\", fontsize=16)\n",
    "\n",
    "ax.spines['top'].set_visible(True)\n",
    "ax.spines['right'].set_visible(True)\n",
    "ax.spines['bottom'].set_visible(True)\n",
    "ax.spines['left'].set_visible(True)\n",
    "\n",
    "image_format = 'svg' # e.g .png, .svg, etc.\n",
    "image_name = 'label-skewed.svg'\n",
    "plt.tight_layout()\n",
    "plt.savefig(image_name, format=image_format, dpi=1200)"
   ]
  },
  {
   "attachments": {},
   "cell_type": "markdown",
   "metadata": {},
   "source": [
    "### Practical heterogeneity"
   ]
  },
  {
   "attachments": {},
   "cell_type": "markdown",
   "metadata": {},
   "source": [
    "#### Sparse and Scarce - old"
   ]
  },
  {
   "cell_type": "code",
   "execution_count": 19,
   "metadata": {},
   "outputs": [
    {
     "name": "stdout",
     "output_type": "stream",
     "text": [
      "[0, 1, 2, 3, 4, 5, 6, 7, 8, 9]\n",
      "min/max : 20/60\n",
      "[[ 0.  0.  0.  0.  0.  0.  0. 42.  0.  0.]\n",
      " [ 0.  0.  0.  0. 44.  0.  0.  0.  0.  1.]\n",
      " [15. 37.  0.  0.  0.  0.  0.  0.  0.  0.]\n",
      " [ 0.  0.  0.  0.  0.  0.  0. 35.  0.  0.]\n",
      " [ 0.  0.  0.  0.  0.  0.  0.  0. 28.  0.]\n",
      " [ 0.  0.  0.  0. 33.  0.  0.  0.  0.  0.]\n",
      " [ 0.  0.  0.  0. 17.  2.  2.  0.  0.  0.]\n",
      " [ 0.  0.  0.  1.  0. 23.  0.  0.  0.  0.]\n",
      " [ 0.  0.  1.  0.  0.  0.  0.  0.  0. 24.]\n",
      " [ 0. 16.  0.  0.  0.  6.  0.  0.  0.  0.]]\n",
      "Total data used: 327.0/50000 = 0.65%\n"
     ]
    }
   ],
   "source": [
    "import numpy as np\n",
    "import math\n",
    "import os\n",
    "\n",
    "total_labels = np.unique(training_data.targets).tolist()\n",
    "print(total_labels)\n",
    "\n",
    "\"\"\"\n",
    "Given the min/max data volume of any client is 20/60, we have:\n",
    "Table of dirichlet(alpha) w.r.t sparsity and number of classes\n",
    "\n",
    "        cf10    cf100   TINY    Image\n",
    "        10\t    100\t    200\t    1000\n",
    "0.975\tX.00\t0.41\t1.29    X.00\n",
    "0.950\tX.00\t1.28\t4.20    X.00\n",
    "0.925\tX.00\t2.55\t9.18    X.00\n",
    "0.900\tX.00\t4.24\t19.36\tX.00\n",
    "0.875\t0.06\t6.43 \tX.00\tX.00\n",
    "0.850\t0.13    9.50 \tX.00\tX.00\n",
    "\n",
    "\"\"\"\n",
    "\n",
    "alpha = 0.13\n",
    "s = 0.850\n",
    "dataset = \"cifar10\"\n",
    "\n",
    "min_sample_per_client = 20\n",
    "max_sample_per_client = 60\n",
    "\n",
    "print(\"min/max : {}/{}\".format(min_sample_per_client, max_sample_per_client))\n",
    "\n",
    "num_clients = 10\n",
    "\n",
    "total_label = len(total_labels)\n",
    "label_list = [i for i in total_labels]\n",
    "\n",
    "labels = training_data.targets\n",
    "idxs = range(len(training_data))\n",
    "training_idxs_labels = np.vstack((idxs, labels)).T\n",
    "\n",
    "labels = testing_data.targets\n",
    "idxs = range(len(testing_data))\n",
    "testing_idxs_labels = np.vstack((idxs, labels)).T\n",
    "\n",
    "training_dict_client = {client_id:[] for client_id in range(num_clients)}\n",
    "testing_dict_client = {client_id:[] for client_id in range(num_clients)}\n",
    "\n",
    "label_dist = np.random.dirichlet([alpha/total_label for i in range(total_label)], num_clients)\n",
    "label_nums = np.zeros([num_clients, total_label])\n",
    "\n",
    "for client_idx in range(num_clients):\n",
    "    local_label_dist = label_dist[client_idx].tolist()\n",
    "    sample_this_client = np.random.randint(min_sample_per_client, max_sample_per_client + 1)\n",
    "    \n",
    "    for label, proportion in zip(label_list, local_label_dist):\n",
    "        sample_this_label = round(proportion * sample_this_client)\n",
    "        if sample_this_label > 0:\n",
    "            label_nums[client_idx, label] = sample_this_label\n",
    "            \n",
    "            idxes_1 = training_idxs_labels[training_idxs_labels[:,1] == label][:,0]\n",
    "            idxes_2 = testing_idxs_labels[testing_idxs_labels[:,1] == label][:,0]\n",
    "                        \n",
    "            label_1_idxes = np.random.choice(idxes_1, sample_this_label, replace=False)\n",
    "            label_2_idxes = np.random.choice(idxes_2, max(5, int(np.ceil(sample_this_label/2))), replace=False)\n",
    "            \n",
    "            training_dict_client[client_idx] += label_1_idxes.tolist()\n",
    "            testing_dict_client[client_idx] += label_2_idxes.tolist()\n",
    "            \n",
    "            training_idxs_labels[label_1_idxes] -= 100\n",
    "            # testing_idxs_labels[label_2_idxes] -= 100\n",
    "\n",
    "\n",
    "coverred_labels = np.sum(label_nums, axis=0, keepdims=True)\n",
    "if (coverred_labels == 0).any():\n",
    "    # print(\"Not coverring all labels!\")\n",
    "    raise Exception(\"Not coverring all labels!\")\n",
    "\n",
    "print(\"Total data used: {}/{} = {}%\".format(np.sum(coverred_labels), len(training_data), round(100 * np.sum(coverred_labels)/len(training_data), 2)))\n",
    "class NumpyEncoder(json.JSONEncoder):\n",
    "    \"\"\" Special json encoder for numpy types \"\"\"\n",
    "    def default(self, obj):\n",
    "        if isinstance(obj, np.integer):\n",
    "            return int(obj)\n",
    "        elif isinstance(obj, np.floating):\n",
    "            return float(obj)\n",
    "        elif isinstance(obj, np.ndarray):\n",
    "            return obj.tolist()\n",
    "        return json.JSONEncoder.default(self, obj)\n",
    "    \n",
    "savepath = f\"./dataset_idx/{dataset}/dirichlet/sparsity_{s}/{num_clients}client\"\n",
    "if not Path(savepath).exists():\n",
    "    os.makedirs(savepath)\n",
    "    \n",
    "json.dump(training_dict_client, open(f\"{savepath}/train.json\", \"w\"), cls=NumpyEncoder)\n",
    "json.dump(testing_dict_client, open(f\"{savepath}/test.json\", \"w\"), cls=NumpyEncoder)\n",
    "np.savetxt(f\"{savepath}/stats.csv\", label_nums, fmt=\"%d\", delimiter=\",\")"
   ]
  },
  {
   "attachments": {},
   "cell_type": "markdown",
   "metadata": {},
   "source": [
    "#### Sparse and Scarse"
   ]
  },
  {
   "cell_type": "code",
   "execution_count": 3,
   "metadata": {},
   "outputs": [
    {
     "name": "stdout",
     "output_type": "stream",
     "text": [
      "per_class_max_volume: 5000.0\n",
      "Succeed generating data distribution after 1 trails\n",
      "Done plotting\n"
     ]
    },
    {
     "data": {
      "image/png": "[encoded data removed]",
      "text/plain": [
       "<Figure size 600x500 with 2 Axes>"
      ]
     },
     "metadata": {},
     "output_type": "display_data"
    }
   ],
   "source": [
    "total_datavol = len(training_data)\n",
    "u = 0.5\n",
    "alpha = 100\n",
    "num_clients = 200\n",
    "beta = num_clients * 10\n",
    "\n",
    "unique_labels = sorted(np.unique(training_data.targets))\n",
    "num_labels = len(unique_labels)\n",
    "per_class_max_volume = total_datavol / num_labels\n",
    "print(\"per_class_max_volume:\", per_class_max_volume)\n",
    "offset = 0.1 * u * total_datavol/num_clients\n",
    "# Generate data distribution matrix\n",
    "count = 0\n",
    "while True:\n",
    "    count += 1\n",
    "    volume_dist = np.random.dirichlet([beta/num_clients for i in range(num_clients)])\n",
    "    volume_dist = offset + np.int64(volume_dist * total_datavol * u)\n",
    "    label_dist = np.random.dirichlet([alpha/num_labels for i in range(num_labels)], num_clients)\n",
    "    distribution = np.int64(label_dist * volume_dist.reshape(num_clients, 1))\n",
    "    sparsity = round(np.sum(distribution == 0)/(num_clients * num_labels), 2)\n",
    "    by_class_clientele_volume = np.sum(distribution, axis=0)\n",
    "    by_client_volume = np.sum(distribution, axis=1)\n",
    "    \n",
    "    if not (by_class_clientele_volume > per_class_max_volume).any():\n",
    "        print(f\"Succeed generating data distribution after {count} trails\")\n",
    "        \n",
    "        # Distribute sample indices\n",
    "        per_label_indices = {}\n",
    "        for label in unique_labels:\n",
    "            # per_label_indices[label] = np.random.choice(np.where(training_data.targets == 0)[0].tolist(), \n",
    "            #                                             size=by_class_clientele_volume[label], \n",
    "            #                                             replace=False)\n",
    "            per_label_indices[label] = np.where(training_data.targets == label)[0].tolist()\n",
    "            \n",
    "        training_dict_client = {client_id:[] for client_id in range(num_clients)}\n",
    "        testing_dict_client = {client_id:[] for client_id in range(num_clients)}\n",
    "\n",
    "        for client_idx in range(num_clients):\n",
    "            local_per_label_volume = distribution[client_idx].tolist()\n",
    "            \n",
    "            for label in unique_labels:\n",
    "                this_label_vol = local_per_label_volume[label]\n",
    "                sample_idxs = np.random.choice(per_label_indices[label], this_label_vol, replace=False)\n",
    "                training_dict_client[client_idx] += sample_idxs.tolist()\n",
    "                per_label_indices[label] = list(set(per_label_indices[label]) - set(sample_idxs))\n",
    "            \n",
    "        savepath = f\"./dataset_idx/{dataset}/new/{num_clients}client/u{u}_alpha{alpha}_beta{beta}/\"\n",
    "        if not Path(savepath).exists():\n",
    "            os.makedirs(savepath)\n",
    "        \n",
    "        json.dump({\"u\": u, \"alpha\": alpha, \"beta\": beta, \"sparsity\": sparsity, \"N\": num_clients, \n",
    "                   \"label_stats\": by_class_clientele_volume, \n",
    "                   \"client_stats\": {\n",
    "                       \"volume_mean\": np.mean(np.sum(distribution, axis=1)),\n",
    "                       \"volume_std\": np.std(np.sum(distribution, axis=1))\n",
    "                       }\n",
    "                   }, open(f\"{savepath}/infor.json\", \"w\"), cls=NumpyEncoder)\n",
    "        \n",
    "        json.dump(training_dict_client, open(f\"{savepath}/train.json\", \"w\"), cls=NumpyEncoder)\n",
    "        json.dump(testing_dict_client, open(f\"{savepath}/test.json\", \"w\"), cls=NumpyEncoder)\n",
    "        np.savetxt(f\"{savepath}/stats.csv\", distribution, fmt=\"%d\", delimiter=\",\")\n",
    "        break\n",
    "    \n",
    "    elif count >= 10000:\n",
    "        print(f\"Failed after {count} trails\")\n",
    "        break\n",
    "\n",
    "\n",
    "import matplotlib.pyplot as plt\n",
    "plt.rcParams.update({\"font.size\": 14})\n",
    "\n",
    "plt_data = np.sum(distribution, axis=1)\n",
    "fig, ax = plt.subplots(figsize=(6,5))\n",
    "p = ax.hist(plt_data, color='#9999FF')\n",
    "ax.set_xlabel(\"Volume\", fontsize=16)\n",
    "ax.set_ylabel(\"Count\", fontsize=16)\n",
    "# ax.set_xticks([10* i for i in range(0,int(np.max(plt_data)/10)+1, 2)])\n",
    "\n",
    "# T = 50\n",
    "# ax.axvline(x=T, color='red', linewidth=0.5, linestyle='-.')\n",
    "\n",
    "ax2 = ax.twinx()\n",
    "val, freq = np.unique(plt_data, return_counts=True)\n",
    "ax2.plot(val, 100 * np.cumsum(freq)/num_clients, \n",
    "         linestyle='-', marker = 'o', \n",
    "         fillstyle='none', color='red', linewidth=0.5, markersize=4)\n",
    "\n",
    "ax2.set_ylabel(\"Cumulative Count (Percentage)\", fontsize=16, color='red')\n",
    "ax2.set_ylim(0,105)\n",
    "# ax2.text(x=48, y=50, s=f'T = {T}', rotation=90,\n",
    "#          fontdict={\n",
    "#         'family': 'serif',\n",
    "#         'color':  'red',\n",
    "#         # 'weight': 'bold',\n",
    "#         'style': 'italic',\n",
    "#         'size': 14,\n",
    "#         })\n",
    "\n",
    "fig.tight_layout()\n",
    "\n",
    "image_format = 'svg' # e.g .png, .svg, etc.\n",
    "image_name = f'{savepath}/volume-stats.svg'\n",
    "fig.savefig(image_name, format=image_format, dpi=1200)\n",
    "\n",
    "image_format = 'png' # e.g .png, .svg, etc.\n",
    "image_name = f'{savepath}/volume-stats.png'\n",
    "fig.savefig(image_name, format=image_format, dpi=1200)\n",
    "print(\"Done plotting\")"
   ]
  },
  {
   "attachments": {},
   "cell_type": "markdown",
   "metadata": {},
   "source": [
    "#### Dirichlet"
   ]
  },
  {
   "cell_type": "code",
   "execution_count": 24,
   "metadata": {},
   "outputs": [
    {
     "name": "stdout",
     "output_type": "stream",
     "text": [
      "[0, 1, 2, 3, 4, 5, 6, 7, 8, 9]\n"
     ]
    }
   ],
   "source": [
    "import numpy as np\n",
    "import math\n",
    "import os\n",
    "\n",
    "total_labels = np.unique(training_data.targets).tolist()\n",
    "print(total_labels)\n",
    "\n",
    "alpha = 0.13\n",
    "\n",
    "min_sample_per_client = 200\n",
    "max_sample_per_client = 600\n",
    "\n",
    "num_clients = 10\n",
    "\n",
    "total_label = len(total_labels)\n",
    "label_list = [i for i in total_labels]\n",
    "\n",
    "labels = training_data.targets\n",
    "idxs = range(len(training_data))\n",
    "training_idxs_labels = np.vstack((idxs, labels)).T\n",
    "\n",
    "labels = testing_data.targets\n",
    "idxs = range(len(testing_data))\n",
    "testing_idxs_labels = np.vstack((idxs, labels)).T\n",
    "\n",
    "training_dict_client = {client_id:[] for client_id in range(num_clients)}\n",
    "testing_dict_client = {client_id:[] for client_id in range(num_clients)}\n",
    "\n",
    "label_dist = np.random.dirichlet([alpha/total_label for i in range(total_label)], num_clients)\n",
    "label_nums = np.zeros([num_clients, total_label])\n",
    "\n",
    "for client_idx in range(num_clients):\n",
    "    local_label_dist = label_dist[client_idx].tolist()\n",
    "    sample_this_client = np.random.randint(min_sample_per_client, max_sample_per_client + 1)\n",
    "    \n",
    "    for label, proportion in zip(label_list, local_label_dist):\n",
    "        sample_this_label = round(proportion * sample_this_client)\n",
    "        if sample_this_label > 0:\n",
    "            label_nums[client_idx, label] = sample_this_label\n",
    "            \n",
    "            idxes_1 = training_idxs_labels[training_idxs_labels[:,1] == label][:,0]\n",
    "            idxes_2 = testing_idxs_labels[testing_idxs_labels[:,1] == label][:,0]\n",
    "            \n",
    "            label_1_idxes = np.random.choice(idxes_1, sample_this_label, replace=False)\n",
    "            label_2_idxes = np.random.choice(idxes_2, max(5, int(np.ceil(sample_this_label/2))), replace=False)\n",
    "            \n",
    "            training_dict_client[client_idx] += label_1_idxes.tolist()\n",
    "            testing_dict_client[client_idx] += label_2_idxes.tolist()\n",
    "            \n",
    "            training_idxs_labels[label_1_idxes] -= 100\n",
    "            testing_idxs_labels[label_2_idxes] -= 100\n",
    "\n",
    "coverred_labels = np.sum(label_nums, axis=0, keepdims=True)\n",
    "if (coverred_labels == 0).any():\n",
    "    # print(\"Not coverring all labels!\")\n",
    "    raise Exception(\"Not coverring all labels!\")\n",
    "\n",
    "class NumpyEncoder(json.JSONEncoder):\n",
    "    \"\"\" Special json encoder for numpy types \"\"\"\n",
    "    def default(self, obj):\n",
    "        if isinstance(obj, np.integer):\n",
    "            return int(obj)\n",
    "        elif isinstance(obj, np.floating):\n",
    "            return float(obj)\n",
    "        elif isinstance(obj, np.ndarray):\n",
    "            return obj.tolist()\n",
    "        return json.JSONEncoder.default(self, obj)\n",
    "    \n",
    "savepath = f\"./dataset_idx/cifar10/dirichlet/dir_{alpha}/{num_clients}client\"\n",
    "if not Path(savepath).exists():\n",
    "    os.makedirs(savepath)\n",
    "    \n",
    "json.dump(training_dict_client, open(f\"{savepath}/train.json\", \"w\"), cls=NumpyEncoder)\n",
    "json.dump(testing_dict_client, open(f\"{savepath}/test.json\", \"w\"), cls=NumpyEncoder)\n",
    "np.savetxt(f\"{savepath}/stats.csv\", label_nums, fmt=\"%d\", delimiter=\",\")"
   ]
  },
  {
   "cell_type": "code",
   "execution_count": 8,
   "metadata": {},
   "outputs": [
    {
     "data": {
      "text/plain": [
       "Text(0.5, 1.0, 'Client 10')"
      ]
     },
     "execution_count": 8,
     "metadata": {},
     "output_type": "execute_result"
    },
    {
     "data": {
      "image/png": "[encoded data removed]",
      "text/plain": [
       "<Figure size 640x480 with 2 Axes>"
      ]
     },
     "metadata": {},
     "output_type": "display_data"
    }
   ],
   "source": [
    "import matplotlib.pyplot as plt\n",
    "import numpy as np\n",
    "\n",
    "label_nums = np.loadtxt(\"./dataset_idx/cifar10/dirichlet/dir_0.01_sparse/100client/stats.csv\", delimiter=',')\n",
    "total_label = label_nums.shape[1]\n",
    "\n",
    "fig, axes = plt.subplot_mosaic(\"AAC;AAC\")\n",
    "fig.tight_layout(pad=1.5)\n",
    "\n",
    "label_stats = np.sum(label_nums > 0, axis=1, keepdims=True)\n",
    "unique, counts = np.unique(label_stats, return_counts=True)\n",
    "\n",
    "axes['A'].barh(y=[str(round(i/total_label * 100, 0)) + \"%\" for i in unique], width=counts)\n",
    "axes['A'].set_ylabel(\"Label coverage per client (%)\", fontsize=12)\n",
    "axes['A'].set_xlabel(\"Counts\", fontsize=12)\n",
    "\n",
    "client_id = 10\n",
    "bar_data_x = np.where(label_nums[client_id] > 0)[0]\n",
    "bar_data_h = label_nums[client_id][bar_data_x]\n",
    "axes['C'].barh(y=[str(i) for i in bar_data_x], width=bar_data_h)\n",
    "axes['C'].set_ylabel(\"Label\", fontsize=12)\n",
    "axes['C'].set_xticks(range(0, int(np.max(label_nums[client_id])) + 5, int(np.max(label_nums[client_id])/5)))\n",
    "axes['C'].set_xlabel(\"Sample size\", fontsize=12)\n",
    "axes['C'].set_title(\"Client {}\".format(client_id), fontsize=12)"
   ]
  },
  {
   "attachments": {},
   "cell_type": "markdown",
   "metadata": {},
   "source": [
    "### Knn-per's practical heterogeneity"
   ]
  },
  {
   "cell_type": "code",
   "execution_count": 3,
   "metadata": {},
   "outputs": [],
   "source": [
    "import random, time\n",
    "import numpy as np\n",
    "\n",
    "\n",
    "def iid_divide(l, g):\n",
    "    \"\"\"\n",
    "    https://github.com/TalwalkarLab/leaf/blob/master/data/utils/sample.py\n",
    "    divide list `l` among `g` groups\n",
    "    each group has either `int(len(l)/g)` or `int(len(l)/g)+1` elements\n",
    "    returns a list of groups\n",
    "    \"\"\"\n",
    "    num_elems = len(l)\n",
    "    group_size = int(len(l) / g)\n",
    "    num_big_groups = num_elems - g * group_size\n",
    "    num_small_groups = g - num_big_groups\n",
    "    glist = []\n",
    "    for i in range(num_small_groups):\n",
    "        glist.append(l[group_size * i: group_size * (i + 1)])\n",
    "    bi = group_size * num_small_groups\n",
    "    group_size += 1\n",
    "    for i in range(num_big_groups):\n",
    "        glist.append(l[bi + group_size * i:bi + group_size * (i + 1)])\n",
    "    return glist\n",
    "\n",
    "\n",
    "def split_list_by_indices(l, indices):\n",
    "    \"\"\"\n",
    "    divide list `l` given indices into `len(indices)` sub-lists\n",
    "    sub-list `i` starts from `indices[i]` and stops at `indices[i+1]`\n",
    "    returns a list of sub-lists\n",
    "    \"\"\"\n",
    "    res = []\n",
    "    current_index = 0\n",
    "    for index in indices:\n",
    "        res.append(l[current_index: index])\n",
    "        current_index = index\n",
    "\n",
    "    return res\n",
    "\n",
    "\n",
    "def by_labels_non_iid_split(dataset, n_classes, n_clients, n_clusters, alpha, frac, seed=1234):\n",
    "    \"\"\"\n",
    "    split classification dataset among `n_clients`. The dataset is split as follow:\n",
    "        1) classes are grouped into `n_clusters`\n",
    "        2) for each cluster `c`, samples are partitioned across clients using dirichlet distribution\n",
    "\n",
    "    Inspired by the split in \"Federated Learning with Matched Averaging\"__(https://arxiv.org/abs/2002.06440)\n",
    "\n",
    "    :param dataset:\n",
    "    :type dataset: torch.utils.Dataset\n",
    "    :param n_classes: number of classes present in `dataset`\n",
    "    :param n_clients: number of clients\n",
    "    :param n_clusters: number of clusters to consider; if it is `-1`, then `n_clusters = n_classes`\n",
    "    :param alpha: parameter controlling the diversity among clients\n",
    "    :param frac: fraction of dataset to use\n",
    "    :param seed:\n",
    "    :return: list (size `n_clients`) of subgroups, each subgroup is a list of indices.\n",
    "    \"\"\"\n",
    "    if n_clusters == -1:\n",
    "        n_clusters = n_classes\n",
    "\n",
    "    rng_seed = (seed if (seed is not None and seed >= 0) else int(time.time()))\n",
    "    rng = random.Random(rng_seed)\n",
    "    np.random.seed(rng_seed)\n",
    "\n",
    "    all_labels = list(range(n_classes))\n",
    "    rng.shuffle(all_labels)\n",
    "    clusters_labels = iid_divide(all_labels, n_clusters)\n",
    "\n",
    "    label2cluster = dict()  # maps label to its cluster\n",
    "    for group_idx, labels in enumerate(clusters_labels):\n",
    "        for label in labels:\n",
    "            label2cluster[label] = group_idx\n",
    "\n",
    "    # get subset\n",
    "    n_samples = int(len(dataset) * frac)\n",
    "    selected_indices = rng.sample(list(range(len(dataset))), n_samples)\n",
    "\n",
    "    clusters_sizes = np.zeros(n_clusters, dtype=int)\n",
    "    clusters = {k: [] for k in range(n_clusters)}\n",
    "    for idx in selected_indices:\n",
    "        _, label = dataset[idx]\n",
    "        group_id = label2cluster[label]\n",
    "        clusters_sizes[group_id] += 1\n",
    "        clusters[group_id].append(idx)\n",
    "\n",
    "    for _, cluster in clusters.items():\n",
    "        rng.shuffle(cluster)\n",
    "\n",
    "    clients_counts = np.zeros((n_clusters, n_clients), dtype=np.int64)  # number of samples by client from each cluster\n",
    "\n",
    "    for cluster_id in range(n_clusters):\n",
    "        weights = np.random.dirichlet(alpha=alpha * np.ones(n_clients))\n",
    "        clients_counts[cluster_id] = np.random.multinomial(clusters_sizes[cluster_id], weights)\n",
    "\n",
    "    clients_counts = np.cumsum(clients_counts, axis=1)\n",
    "\n",
    "    clients_indices = [[] for _ in range(n_clients)]\n",
    "    for cluster_id in range(n_clusters):\n",
    "        cluster_split = split_list_by_indices(clusters[cluster_id], clients_counts[cluster_id])\n",
    "\n",
    "        for client_id, indices in enumerate(cluster_split):\n",
    "            clients_indices[client_id] += indices\n",
    "\n",
    "    return clients_indices"
   ]
  },
  {
   "cell_type": "code",
   "execution_count": 8,
   "metadata": {},
   "outputs": [
    {
     "data": {
      "image/png": "[encoded data removed]",
      "text/plain": [
       "<Figure size 600x600 with 1 Axes>"
      ]
     },
     "metadata": {},
     "output_type": "display_data"
    }
   ],
   "source": [
    "u = 0.01\n",
    "alpha = 0.2\n",
    "n_clusters = 4\n",
    "n_clients = 10\n",
    "\n",
    "output = by_labels_non_iid_split(training_data, n_classes=10, n_clients=n_clients, n_clusters=n_clusters, alpha=alpha, frac=u, seed=1234)\n",
    "\n",
    "savepath = f\"./dataset_idx/{dataset}/new/{n_clients}clients/{n_clusters}clusters/u{u}_alpha{alpha}/\"\n",
    "if not Path(savepath).exists():\n",
    "    os.makedirs(savepath)\n",
    "\n",
    "training_dict_client = {}\n",
    "for i in range(len(output)):\n",
    "    training_dict_client[i] = output[i]\n",
    "\n",
    "json.dump(training_dict_client, open(f\"{savepath}/train.json\", \"w\"), cls=NumpyEncoder)\n",
    "\n",
    "tmp = []\n",
    "for i in output:\n",
    "    tmp.append(len(i))\n",
    "    \n",
    "import matplotlib.pyplot as plt\n",
    "\n",
    "plt.figure(figsize=(6,6))\n",
    "plt.hist(tmp, bins=n_clients)\n",
    "plt.xlabel(\"Volume\", fontsize=14)\n",
    "plt.ylabel(\"Count\", fontsize=14)\n",
    "plt.tight_layout()\n",
    "plt.savefig(savepath + 'stats.png')"
   ]
  },
  {
   "cell_type": "code",
   "execution_count": 10,
   "metadata": {},
   "outputs": [
    {
     "name": "stdout",
     "output_type": "stream",
     "text": [
      "$\\Delta$\n"
     ]
    }
   ],
   "source": [
    "print(rf'$\\Delta$')"
   ]
  },
  {
   "attachments": {},
   "cell_type": "markdown",
   "metadata": {},
   "source": [
    "### By-class Dirichlet Non-iid"
   ]
  },
  {
   "cell_type": "code",
   "execution_count": 3,
   "metadata": {},
   "outputs": [],
   "source": [
    "import numpy as np\n",
    "import json\n",
    "\n",
    "class NumpyEncoder(json.JSONEncoder):\n",
    "    \"\"\" Special json encoder for numpy types \"\"\"\n",
    "    def default(self, obj):\n",
    "        if isinstance(obj, np.integer):\n",
    "            return int(obj)\n",
    "        elif isinstance(obj, np.floating):\n",
    "            return float(obj)\n",
    "        elif isinstance(obj, np.ndarray):\n",
    "            return obj.tolist()\n",
    "        return json.JSONEncoder.default(self, obj)"
   ]
  },
  {
   "cell_type": "code",
   "execution_count": 5,
   "metadata": {},
   "outputs": [
    {
     "name": "stdout",
     "output_type": "stream",
     "text": [
      "Success after 1 attempt(s). Stop!\n"
     ]
    }
   ],
   "source": [
    "import numpy as np\n",
    "import math\n",
    "import os\n",
    "\n",
    "\n",
    "total_labels = np.unique(training_data.targets).tolist()\n",
    "# print(total_labels)\n",
    "\n",
    "alpha = 50\n",
    "u = 0.02\n",
    "num_clients = 200\n",
    "num_desire = 150\n",
    "\n",
    "total_label = len(total_labels)\n",
    "label_list = [i for i in total_labels]\n",
    "\n",
    "labels = training_data.targets\n",
    "idxs = range(len(training_data))\n",
    "training_idxs_labels = np.vstack((idxs, labels)).T\n",
    "\n",
    "labels = testing_data.targets\n",
    "idxs = range(len(testing_data))\n",
    "testing_idxs_labels = np.vstack((idxs, labels)).T\n",
    "\n",
    "count = 0\n",
    "while True:\n",
    "    count += 1\n",
    "\n",
    "    label_dist = np.random.dirichlet([alpha/num_clients for i in range(num_clients)], total_label).T\n",
    "    by_class_volume = u * len(training_data) / total_label\n",
    "    label_dist = np.int64(by_class_volume * label_dist)\n",
    "    \n",
    "    client_volume = np.sum(label_dist, axis=1)\n",
    "    tmp = np.array([i + 1 for i in range(num_clients)]) * (client_volume > 0) - 1\n",
    "    result = label_dist[tmp[tmp>-1]]\n",
    "    \n",
    "    if result.shape[0] >= num_desire:\n",
    "        print(f\"Success after {count} attempt(s). Stop!\")\n",
    "        training_dict_client = {client_id:[] for client_id in range(num_desire)}\n",
    "        testing_dict_client = {client_id:[] for client_id in range(num_desire)}\n",
    "        \n",
    "        result = result[0:num_desire]\n",
    "        \n",
    "        for client_idx in range(num_desire):\n",
    "            local_label_dist = result[client_idx].tolist()\n",
    "            \n",
    "            for label, sample_this_label in enumerate(local_label_dist):                \n",
    "                if sample_this_label > 0:\n",
    "                    \n",
    "                    idxes_1 = training_idxs_labels[training_idxs_labels[:,1] == label][:,0]\n",
    "                    idxes_2 = testing_idxs_labels[testing_idxs_labels[:,1] == label][:,0]\n",
    "                    \n",
    "                    label_1_idxes = np.random.choice(idxes_1, sample_this_label, replace=False)\n",
    "                    label_2_idxes = np.random.choice(idxes_2, int(np.ceil(sample_this_label/2)), replace=False)\n",
    "                    \n",
    "                    training_dict_client[client_idx] += label_1_idxes.tolist()\n",
    "                    testing_dict_client[client_idx] += label_2_idxes.tolist()\n",
    "                    \n",
    "                    training_idxs_labels[label_1_idxes] -= 100\n",
    "                    testing_idxs_labels[label_2_idxes] -= 100\n",
    "        \n",
    "        sparsity = round(np.sum(result == 0)/(result.shape[0] * total_label), 2)\n",
    "        savepath = f\"./dataset_idx/cifar10/dirichlet/sparsity_{sparsity}/{num_desire}client\"\n",
    "        if not Path(savepath).exists():\n",
    "            os.makedirs(savepath)\n",
    "        \n",
    "        json.dump({\"u\": u, \"alpha\": alpha, \"sparsity\": sparsity, \"n_input\": num_clients, \"n_desire\": num_desire}, open(f\"{savepath}/infor.json\", \"w\"))\n",
    "        json.dump(training_dict_client, open(f\"{savepath}/train.json\", \"w\"), cls=NumpyEncoder)\n",
    "        json.dump(testing_dict_client, open(f\"{savepath}/test.json\", \"w\"), cls=NumpyEncoder)\n",
    "        np.savetxt(f\"{savepath}/stats.csv\", result, fmt=\"%d\", delimiter=\",\")\n",
    "        break\n",
    "        \n",
    "    elif count >= 10000:\n",
    "        print(f\"{count} attempts failed. Stop!\")\n",
    "        break"
   ]
  },
  {
   "attachments": {},
   "cell_type": "markdown",
   "metadata": {},
   "source": [
    "### Gen I.i.d data"
   ]
  },
  {
   "cell_type": "code",
   "execution_count": null,
   "metadata": {},
   "outputs": [],
   "source": [
    "num_clients = 30\n",
    "sample_per_client = 200\n",
    "\n",
    "training_dict_client = {client_id:[] for client_id in range(num_clients)}\n",
    "testing_dict_client = {client_id:[] for client_id in range(num_clients)}\n",
    "\n",
    "labels = training_data.targets\n",
    "idxs = range(len(training_data))\n",
    "training_idxs_labels = np.vstack((idxs, labels)).T\n",
    "\n",
    "labels = testing_data.targets\n",
    "idxs = range(len(testing_data))\n",
    "testing_idxs_labels = np.vstack((idxs, labels)).T\n",
    "\n",
    "\n",
    "for client_id in range(num_clients):    \n",
    "    idxes_1 = training_idxs_labels[:,0]\n",
    "    idxes_2 = testing_idxs_labels[:,0]\n",
    "    \n",
    "    label_1_idxes = np.random.choice(idxes_1, sample_per_client, replace=False)\n",
    "    label_2_idxes = np.random.choice(idxes_2, int(sample_per_client/4), replace=False)\n",
    "    \n",
    "    training_dict_client[client_id] += label_1_idxes.tolist()\n",
    "    testing_dict_client[client_id] += label_2_idxes.tolist()\n",
    "    \n",
    "    training_idxs_labels[label_1_idxes] -= 100\n",
    "    testing_idxs_labels[label_2_idxes] -= 100"
   ]
  },
  {
   "cell_type": "code",
   "execution_count": null,
   "metadata": {},
   "outputs": [],
   "source": [
    "class NumpyEncoder(json.JSONEncoder):\n",
    "    \"\"\" Special json encoder for numpy types \"\"\"\n",
    "    def default(self, obj):\n",
    "        if isinstance(obj, np.integer):\n",
    "            return int(obj)\n",
    "        elif isinstance(obj, np.floating):\n",
    "            return float(obj)\n",
    "        elif isinstance(obj, np.ndarray):\n",
    "            return obj.tolist()\n",
    "        return json.JSONEncoder.default(self, obj)\n",
    "    \n",
    "savepath = f\"./dataset_idx/mnist/iid/{num_clients}client\"\n",
    "if not Path(savepath).exists():\n",
    "    os.makedirs(savepath)\n",
    "    \n",
    "json.dump(training_dict_client, open(f\"{savepath}/mnist_iid.json\", \"w\"), cls=NumpyEncoder)\n",
    "json.dump(testing_dict_client, open(f\"{savepath}/mnist_iid_test.json\", \"w\"), cls=NumpyEncoder)"
   ]
  },
  {
   "attachments": {},
   "cell_type": "markdown",
   "metadata": {},
   "source": [
    "### Practical for tiny imagenet / medical"
   ]
  },
  {
   "cell_type": "code",
   "execution_count": 4,
   "metadata": {},
   "outputs": [
    {
     "name": "stdout",
     "output_type": "stream",
     "text": [
      "[0, 1, 2, 3, 4, 5, 6, 7, 8, 9, 10, 11, 12, 13, 14, 15, 16, 17, 18, 19, 20, 21, 22, 23, 24, 25, 26, 27, 28, 29, 30, 31, 32, 33, 34, 35, 36, 37, 38, 39, 40, 41, 42, 43, 44, 45, 46, 47, 48, 49, 50, 51, 52, 53, 54, 55, 56, 57, 58, 59, 60, 61, 62, 63, 64, 65, 66, 67, 68, 69, 70, 71, 72, 73, 74, 75, 76, 77, 78, 79, 80, 81, 82, 83, 84, 85, 86, 87, 88, 89, 90, 91, 92, 93, 94, 95, 96, 97, 98, 99, 100, 101, 102, 103, 104, 105, 106, 107, 108, 109, 110, 111, 112, 113, 114, 115, 116, 117, 118, 119, 120, 121, 122, 123, 124, 125, 126, 127, 128, 129, 130, 131, 132, 133, 134, 135, 136, 137, 138, 139, 140, 141, 142, 143, 144, 145, 146, 147, 148, 149, 150, 151, 152, 153, 154, 155, 156, 157, 158, 159, 160, 161, 162, 163, 164, 165, 166, 167, 168, 169, 170, 171, 172, 173, 174, 175, 176, 177, 178, 179, 180, 181, 182, 183, 184, 185, 186, 187, 188, 189, 190, 191, 192, 193, 194, 195, 196, 197, 198, 199]\n",
      "Total data used: 19080.0/80000\n"
     ]
    }
   ],
   "source": [
    "import numpy as np\n",
    "import math\n",
    "import os\n",
    "\n",
    "total_labels = np.unique(training_data.dataset.targets).tolist()\n",
    "print(total_labels)\n",
    "\n",
    "alpha = 5\n",
    "\n",
    "min_sample_per_client = 20\n",
    "max_sample_per_client = 60\n",
    "\n",
    "num_clients = 500\n",
    "\n",
    "total_label = len(total_labels)\n",
    "label_list = [i for i in total_labels]\n",
    "\n",
    "labels = np.array(training_data.dataset.targets)[training_data.indices].tolist()\n",
    "idxs = range(len(training_data))\n",
    "training_idxs_labels = np.vstack((idxs, labels)).T\n",
    "\n",
    "labels = np.array(testing_data.dataset.targets)[testing_data.indices].tolist()\n",
    "idxs = range(len(testing_data))\n",
    "testing_idxs_labels = np.vstack((idxs, labels)).T\n",
    "\n",
    "training_dict_client = {client_id:[] for client_id in range(num_clients)}\n",
    "testing_dict_client = {client_id:[] for client_id in range(num_clients)}\n",
    "\n",
    "label_dist = np.random.dirichlet([alpha/total_label for i in range(total_label)], num_clients)\n",
    "label_nums = np.zeros([num_clients, total_label])\n",
    "\n",
    "for client_idx in range(num_clients):\n",
    "    local_label_dist = label_dist[client_idx].tolist()\n",
    "    sample_this_client = np.random.randint(min_sample_per_client, max_sample_per_client + 1)\n",
    "    \n",
    "    for label, proportion in zip(label_list, local_label_dist):\n",
    "        sample_this_label = round(proportion * sample_this_client)\n",
    "        if sample_this_label > 0:\n",
    "            label_nums[client_idx, label] = sample_this_label\n",
    "            \n",
    "            idxes_1 = training_idxs_labels[training_idxs_labels[:,1] == label][:,0]\n",
    "            idxes_2 = testing_idxs_labels[testing_idxs_labels[:,1] == label][:,0]\n",
    "                        \n",
    "            label_1_idxes = np.random.choice(idxes_1, sample_this_label, replace=False)\n",
    "            label_2_idxes = np.random.choice(idxes_2, max(5, int(np.ceil(sample_this_label/2))), replace=False)\n",
    "            \n",
    "            training_dict_client[client_idx] += label_1_idxes.tolist()\n",
    "            testing_dict_client[client_idx] += label_2_idxes.tolist()\n",
    "            \n",
    "            training_idxs_labels[label_1_idxes] -= 100\n",
    "            # testing_idxs_labels[label_2_idxes] -= 100\n",
    "\n",
    "coverred_labels = np.sum(label_nums, axis=0, keepdims=True)\n",
    "if (coverred_labels == 0).any():\n",
    "    raise Exception(\"Not coverring all labels! {}\".format(coverred_labels))\n",
    "\n",
    "print(\"Total data used: {}/{}\".format(np.sum(coverred_labels), len(training_data)))\n",
    "class NumpyEncoder(json.JSONEncoder):\n",
    "    \"\"\" Special json encoder for numpy types \"\"\"\n",
    "    def default(self, obj):\n",
    "        if isinstance(obj, np.integer):\n",
    "            return int(obj)\n",
    "        elif isinstance(obj, np.floating):\n",
    "            return float(obj)\n",
    "        elif isinstance(obj, np.ndarray):\n",
    "            return obj.tolist()\n",
    "        return json.JSONEncoder.default(self, obj)\n",
    "    \n",
    "savepath = f\"./dataset_idx/tinyimagenet/dirichlet/dir_{alpha}_sparse/{num_clients}client\"\n",
    "if not Path(savepath).exists():\n",
    "    os.makedirs(savepath)\n",
    "    \n",
    "json.dump(training_dict_client, open(f\"{savepath}/train.json\", \"w\"), cls=NumpyEncoder)\n",
    "json.dump(testing_dict_client, open(f\"{savepath}/test.json\", \"w\"), cls=NumpyEncoder)\n",
    "np.savetxt(f\"{savepath}/stats.csv\", label_nums, fmt=\"%d\", delimiter=\",\")"
   ]
  },
  {
   "attachments": {},
   "cell_type": "markdown",
   "metadata": {},
   "source": []
  },
  {
   "cell_type": "code",
   "execution_count": 1,
   "metadata": {},
   "outputs": [],
   "source": [
    "import numpy as np\n",
    "import torch"
   ]
  },
  {
   "cell_type": "code",
   "execution_count": 2,
   "metadata": {},
   "outputs": [
    {
     "data": {
      "text/plain": [
       "tensor([ 0.3481,  0.8665, -0.7567, -0.3599,  1.7869, -0.7438,  0.6082,  0.5114,\n",
       "        -0.4556,  0.5690])"
      ]
     },
     "execution_count": 2,
     "metadata": {},
     "output_type": "execute_result"
    }
   ],
   "source": [
    "a = torch.randn([10])\n",
    "a"
   ]
  },
  {
   "cell_type": "code",
   "execution_count": 6,
   "metadata": {},
   "outputs": [
    {
     "data": {
      "text/plain": [
       "tensor([ 0.8665, -0.7567, -0.3599,  1.7869, -0.7438,  0.6082,  0.5114, -0.4556])"
      ]
     },
     "execution_count": 6,
     "metadata": {},
     "output_type": "execute_result"
    }
   ],
   "source": [
    "a[1:-1]"
   ]
  },
  {
   "cell_type": "code",
   "execution_count": 7,
   "metadata": {},
   "outputs": [
    {
     "data": {
      "text/plain": [
       "array([ 0.8664599 , -0.7566685 , -0.3598654 ,  1.7868515 , -0.74376106,\n",
       "        0.60816854,  0.51137835, -0.4555607 ], dtype=float32)"
      ]
     },
     "execution_count": 7,
     "metadata": {},
     "output_type": "execute_result"
    }
   ],
   "source": [
    "a_np = a[1:-1].numpy()\n",
    "a_np"
   ]
  },
  {
   "cell_type": "code",
   "execution_count": 10,
   "metadata": {},
   "outputs": [],
   "source": [
    "a_np[[1,2,3]] = 0"
   ]
  },
  {
   "cell_type": "code",
   "execution_count": 11,
   "metadata": {},
   "outputs": [
    {
     "data": {
      "text/plain": [
       "array([ 0.8664599 ,  0.        ,  0.        ,  0.        , -0.74376106,\n",
       "        0.60816854,  0.51137835, -0.4555607 ], dtype=float32)"
      ]
     },
     "execution_count": 11,
     "metadata": {},
     "output_type": "execute_result"
    }
   ],
   "source": [
    "a_np"
   ]
  },
  {
   "cell_type": "code",
   "execution_count": 14,
   "metadata": {},
   "outputs": [
    {
     "data": {
      "text/plain": [
       "array([0, 4, 5, 6, 7])"
      ]
     },
     "execution_count": 14,
     "metadata": {},
     "output_type": "execute_result"
    }
   ],
   "source": [
    "np.where(a_np != 0)[0]"
   ]
  },
  {
   "cell_type": "code",
   "execution_count": 19,
   "metadata": {},
   "outputs": [
    {
     "data": {
      "text/plain": [
       "array([0.71349951, 0.47656529, 0.30668635, 0.61404144, 0.06606552,\n",
       "       0.17665606, 0.9452477 , 0.48429536])"
      ]
     },
     "execution_count": 19,
     "metadata": {},
     "output_type": "execute_result"
    }
   ],
   "source": [
    "b = np.random.rand(8)\n",
    "b"
   ]
  },
  {
   "cell_type": "code",
   "execution_count": 20,
   "metadata": {},
   "outputs": [
    {
     "data": {
      "text/plain": [
       "array([0.71349951, 0.06606552, 0.17665606, 0.9452477 , 0.48429536])"
      ]
     },
     "execution_count": 20,
     "metadata": {},
     "output_type": "execute_result"
    }
   ],
   "source": [
    "b[np.where(a_np != 0)[0]]"
   ]
  },
  {
   "cell_type": "code",
   "execution_count": 23,
   "metadata": {},
   "outputs": [
    {
     "data": {
      "text/plain": [
       "7"
      ]
     },
     "execution_count": 23,
     "metadata": {},
     "output_type": "execute_result"
    }
   ],
   "source": [
    "np.cumsum(b).argmax()"
   ]
  }
 ],
 "metadata": {
  "kernelspec": {
   "display_name": "longnd",
   "language": "python",
   "name": "python3"
  },
  "language_info": {
   "codemirror_mode": {
    "name": "ipython",
    "version": 3
   },
   "file_extension": ".py",
   "mimetype": "text/x-python",
   "name": "python",
   "nbconvert_exporter": "python",
   "pygments_lexer": "ipython3",
   "version": "3.10.12"
  },
  "orig_nbformat": 4,
  "vscode": {
   "interpreter": {
    "hash": "9f784b053654bb8129a3cb1aa1762d7834caeb9ba8691a85058f59d7796858ce"
   }
  }
 },
 "nbformat": 4,
 "nbformat_minor": 2
}
