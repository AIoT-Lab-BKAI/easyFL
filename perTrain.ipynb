{
 "cells": [
  {
   "cell_type": "code",
   "execution_count": 9,
   "metadata": {},
   "outputs": [],
   "source": [
    "from torch.utils.data import DataLoader\n",
    "from benchmark.toolkits import CustomDataset\n",
    "from benchmark.mnist.model.mlp import Model\n",
    "import torch, json, os, numpy as np, copy\n",
    "from torchvision import datasets, transforms"
   ]
  },
  {
   "cell_type": "code",
   "execution_count": 2,
   "metadata": {},
   "outputs": [],
   "source": [
    "training_data = datasets.MNIST(\n",
    "    root=\"./benchmark/mnist/data\",\n",
    "    train=True,\n",
    "    download=False,\n",
    "    transform=transforms.Compose([transforms.ToTensor(), transforms.Normalize((0.1307,), (0.3081,))]),\n",
    ")\n",
    "testing_data = datasets.MNIST(\n",
    "    root=\"./benchmark/mnist/data\",\n",
    "    train=False,\n",
    "    download=False,\n",
    "    transform=transforms.Compose([transforms.ToTensor(), transforms.Normalize((0.1307,), (0.3081,))]),\n",
    ")"
   ]
  },
  {
   "cell_type": "code",
   "execution_count": 3,
   "metadata": {},
   "outputs": [],
   "source": [
    "training_data = datasets.CIFAR10(\n",
    "    \"./benchmark/cifar10/data\", \n",
    "    train=True, \n",
    "    download=False, \n",
    "    transform=transforms.Compose([transforms.ToTensor(), transforms.Normalize((0.4914, 0.4822, 0.4465), (0.2023, 0.1994, 0.2010))])\n",
    ")\n",
    "testing_data = datasets.CIFAR10(\n",
    "    \"./benchmark/cifar10/data\",  \n",
    "    train=False, \n",
    "    download=False, \n",
    "    transform=transforms.Compose([transforms.ToTensor(), transforms.Normalize((0.4914, 0.4822, 0.4465), (0.2023, 0.1994, 0.2010))])\n",
    ")"
   ]
  },
  {
   "cell_type": "code",
   "execution_count": 3,
   "metadata": {},
   "outputs": [],
   "source": [
    "device = 'cuda:3'"
   ]
  },
  {
   "cell_type": "code",
   "execution_count": 4,
   "metadata": {},
   "outputs": [],
   "source": [
    "def train(dataloader, model, loss_fn, optimizer, device):   \n",
    "    model.train()\n",
    "    losses = []\n",
    "        \n",
    "    for batch, (X, y) in enumerate(dataloader):\n",
    "        X, y = X.to(device), y.to(device)\n",
    "\n",
    "        # Compute prediction error\n",
    "        pred = model(X)\n",
    "        loss = loss_fn(pred, y)\n",
    "        \n",
    "        # Backpropagation\n",
    "        optimizer.zero_grad()\n",
    "        loss.backward()\n",
    "        optimizer.step()\n",
    "\n",
    "        losses.append(loss.item())\n",
    "        \n",
    "    return losses\n",
    "\n",
    "\n",
    "def test(model, testing_data, device=\"cuda\"):\n",
    "    test_loader = DataLoader(testing_data, batch_size=32, shuffle=True, drop_last=False)\n",
    "    model = model.to(device)\n",
    "\n",
    "    loss_fn = torch.nn.CrossEntropyLoss()\n",
    "\n",
    "    size = len(test_loader.dataset)\n",
    "    num_batches = len(test_loader)\n",
    "    model.eval()\n",
    "    test_loss, correct = 0, 0\n",
    "\n",
    "    with torch.no_grad():\n",
    "        for X, y in test_loader:\n",
    "            X, y = X.to(device), y.to(device)\n",
    "            pred = model(X)\n",
    "            test_loss += loss_fn(pred, y).item()\n",
    "            correct += (pred.argmax(1) == y).type(torch.float).sum().item()\n",
    "\n",
    "    test_loss /= num_batches\n",
    "    correct /= size\n",
    "    return correct"
   ]
  },
  {
   "cell_type": "code",
   "execution_count": 5,
   "metadata": {},
   "outputs": [],
   "source": [
    "folder = \"./dataset_idx/mnist/sparse/100client\""
   ]
  },
  {
   "cell_type": "code",
   "execution_count": 6,
   "metadata": {},
   "outputs": [],
   "source": [
    "def read_data(folder_path):\n",
    "    training_jsons = json.load(open(f\"{folder_path}/mnist_sparse.json\", 'r'))\n",
    "    testing_jsons = json.load(open(f\"{folder_path}/mnist_sparse_test.json\", 'r'))\n",
    "    \n",
    "    training_set = []\n",
    "    testing_set = []\n",
    "    \n",
    "    num_client = 0\n",
    "    for client_id in training_jsons.keys():\n",
    "        num_client += 1\n",
    "        training_set.append(CustomDataset(training_data, training_jsons[client_id]))\n",
    "        testing_set.append(CustomDataset(testing_data, testing_jsons[client_id]))\n",
    "        \n",
    "    singleset_json = []\n",
    "    for client_id in training_jsons.keys():\n",
    "        singleset_json += training_jsons[client_id]\n",
    "    singleset = CustomDataset(training_data, singleset_json)\n",
    "        \n",
    "    return num_client, training_set, testing_set, singleset"
   ]
  },
  {
   "cell_type": "code",
   "execution_count": 7,
   "metadata": {},
   "outputs": [],
   "source": [
    "num_client, training_set, testing_set, singleset = read_data(folder)"
   ]
  },
  {
   "cell_type": "code",
   "execution_count": 10,
   "metadata": {},
   "outputs": [
    {
     "name": "stdout",
     "output_type": "stream",
     "text": [
      "    Client 0 training... Done! Aver. round loss: 0.468, acc 0.975\n",
      "    Client 1 training... Done! Aver. round loss: 0.386, acc 1.000\n",
      "    Client 2 training... Done! Aver. round loss: 0.191, acc 1.000\n",
      "    Client 3 training... Done! Aver. round loss: 0.471, acc 0.840\n",
      "    Client 4 training... Done! Aver. round loss: 0.578, acc 0.867\n",
      "    Client 5 training... Done! Aver. round loss: 0.499, acc 0.833\n",
      "    Client 6 training... Done! Aver. round loss: 0.508, acc 0.780\n",
      "    Client 7 training... Done! Aver. round loss: 0.279, acc 1.000\n",
      "    Client 8 training... Done! Aver. round loss: 0.536, acc 0.897\n",
      "    Client 9 training... Done! Aver. round loss: 0.663, acc 0.837\n",
      "    Client 10 training... Done! Aver. round loss: 0.320, acc 0.975\n",
      "    Client 11 training... Done! Aver. round loss: 0.268, acc 1.000\n",
      "    Client 12 training... Done! Aver. round loss: 0.679, acc 0.820\n",
      "    Client 13 training... Done! Aver. round loss: 0.267, acc 1.000\n",
      "    Client 14 training... Done! Aver. round loss: 0.617, acc 0.687\n",
      "    Client 15 training... Done! Aver. round loss: 0.473, acc 0.840\n",
      "    Client 16 training... Done! Aver. round loss: 0.324, acc 0.943\n",
      "    Client 17 training... Done! Aver. round loss: 0.572, acc 0.790\n",
      "    Client 18 training... Done! Aver. round loss: 0.439, acc 0.920\n",
      "    Client 19 training... Done! Aver. round loss: 0.545, acc 0.867\n",
      "    Client 20 training... Done! Aver. round loss: 0.656, acc 0.727\n",
      "    Client 21 training... Done! Aver. round loss: 0.361, acc 1.000\n",
      "    Client 22 training... Done! Aver. round loss: 0.386, acc 1.000\n",
      "    Client 23 training... Done! Aver. round loss: 0.645, acc 0.870\n",
      "    Client 24 training... Done! Aver. round loss: 0.307, acc 1.000\n",
      "    Client 25 training... Done! Aver. round loss: 0.507, acc 0.897\n",
      "    Client 26 training... Done! Aver. round loss: 0.374, acc 0.920\n",
      "    Client 27 training... Done! Aver. round loss: 0.317, acc 1.000\n",
      "    Client 28 training... Done! Aver. round loss: 0.421, acc 1.000\n",
      "    Client 29 training... Done! Aver. round loss: 0.412, acc 0.935\n",
      "    Client 30 training... Done! Aver. round loss: 0.406, acc 0.903\n",
      "    Client 31 training... Done! Aver. round loss: 0.310, acc 0.995\n",
      "    Client 32 training... Done! Aver. round loss: 0.509, acc 0.817\n",
      "    Client 33 training... Done! Aver. round loss: 0.520, acc 0.835\n",
      "    Client 34 training... Done! Aver. round loss: 0.623, acc 1.000\n",
      "    Client 35 training... Done! Aver. round loss: 0.503, acc 0.913\n",
      "    Client 36 training... Done! Aver. round loss: 0.486, acc 0.700\n",
      "    Client 37 training... Done! Aver. round loss: 0.461, acc 0.815\n",
      "    Client 38 training... Done! Aver. round loss: 0.546, acc 0.915\n",
      "    Client 39 training... Done! Aver. round loss: 0.442, acc 1.000\n",
      "    Client 40 training... Done! Aver. round loss: 0.314, acc 1.000\n",
      "    Client 41 training... Done! Aver. round loss: 0.461, acc 0.933\n",
      "    Client 42 training... Done! Aver. round loss: 0.241, acc 1.000\n",
      "    Client 43 training... Done! Aver. round loss: 0.350, acc 0.940\n",
      "    Client 44 training... Done! Aver. round loss: 0.506, acc 1.000\n",
      "    Client 45 training... Done! Aver. round loss: 0.376, acc 0.985\n",
      "    Client 46 training... Done! Aver. round loss: 0.477, acc 1.000\n",
      "    Client 47 training... Done! Aver. round loss: 0.405, acc 0.970\n",
      "    Client 48 training... Done! Aver. round loss: 0.327, acc 0.890\n",
      "    Client 49 training... Done! Aver. round loss: 0.499, acc 0.840\n",
      "    Client 50 training... Done! Aver. round loss: 0.303, acc 1.000\n",
      "    Client 51 training... Done! Aver. round loss: 0.437, acc 0.923\n",
      "    Client 52 training... Done! Aver. round loss: 0.390, acc 0.887\n",
      "    Client 53 training... Done! Aver. round loss: 0.595, acc 0.800\n",
      "    Client 54 training... Done! Aver. round loss: 0.437, acc 1.000\n",
      "    Client 55 training... Done! Aver. round loss: 0.553, acc 0.950\n",
      "    Client 56 training... Done! Aver. round loss: 0.495, acc 0.875\n",
      "    Client 57 training... Done! Aver. round loss: 0.419, acc 0.963\n",
      "    Client 58 training... Done! Aver. round loss: 0.599, acc 0.897\n",
      "    Client 59 training... Done! Aver. round loss: 0.557, acc 0.733\n",
      "    Client 60 training... Done! Aver. round loss: 0.316, acc 1.000\n",
      "    Client 61 training... Done! Aver. round loss: 0.536, acc 0.965\n",
      "    Client 62 training... Done! Aver. round loss: 0.309, acc 1.000\n",
      "    Client 63 training... Done! Aver. round loss: 0.520, acc 1.000\n",
      "    Client 64 training... Done! Aver. round loss: 0.161, acc 1.000\n",
      "    Client 65 training... Done! Aver. round loss: 0.455, acc 1.000\n",
      "    Client 66 training... Done! Aver. round loss: 0.390, acc 0.960\n",
      "    Client 67 training... Done! Aver. round loss: 0.407, acc 0.970\n",
      "    Client 68 training... Done! Aver. round loss: 0.305, acc 0.935\n",
      "    Client 69 training... Done! Aver. round loss: 0.370, acc 0.965\n",
      "    Client 70 training... Done! Aver. round loss: 0.493, acc 1.000\n",
      "    Client 71 training... Done! Aver. round loss: 0.288, acc 1.000\n",
      "    Client 72 training... Done! Aver. round loss: 0.620, acc 0.940\n",
      "    Client 73 training... Done! Aver. round loss: 0.373, acc 1.000\n",
      "    Client 74 training... Done! Aver. round loss: 0.372, acc 0.967\n",
      "    Client 75 training... Done! Aver. round loss: 0.458, acc 0.875\n",
      "    Client 76 training... Done! Aver. round loss: 0.628, acc 0.737\n",
      "    Client 77 training... Done! Aver. round loss: 0.475, acc 1.000\n",
      "    Client 78 training... Done! Aver. round loss: 0.533, acc 0.905\n",
      "    Client 79 training... Done! Aver. round loss: 0.379, acc 0.893\n",
      "    Client 80 training... Done! Aver. round loss: 0.699, acc 0.710\n",
      "    Client 81 training... Done! Aver. round loss: 0.439, acc 1.000\n",
      "    Client 82 training... Done! Aver. round loss: 0.389, acc 0.843\n",
      "    Client 83 training... Done! Aver. round loss: 0.541, acc 0.850\n",
      "    Client 84 training... Done! Aver. round loss: 0.378, acc 0.890\n",
      "    Client 85 training... Done! Aver. round loss: 0.421, acc 1.000\n",
      "    Client 86 training... Done! Aver. round loss: 0.326, acc 0.975\n",
      "    Client 87 training... Done! Aver. round loss: 0.508, acc 0.887\n",
      "    Client 88 training... Done! Aver. round loss: 0.506, acc 0.950\n",
      "    Client 89 training... Done! Aver. round loss: 0.272, acc 1.000\n",
      "    Client 90 training... Done! Aver. round loss: 0.497, acc 0.840\n",
      "    Client 91 training... Done! Aver. round loss: 0.278, acc 1.000\n",
      "    Client 92 training... Done! Aver. round loss: 0.391, acc 0.925\n",
      "    Client 93 training... Done! Aver. round loss: 0.368, acc 0.957\n",
      "    Client 94 training... Done! Aver. round loss: 0.498, acc 0.975\n",
      "    Client 95 training... Done! Aver. round loss: 0.555, acc 0.923\n",
      "    Client 96 training... Done! Aver. round loss: 0.554, acc 1.000\n",
      "    Client 97 training... Done! Aver. round loss: 0.383, acc 0.960\n",
      "    Client 98 training... Done! Aver. round loss: 0.308, acc 1.000\n",
      "    Client 99 training... Done! Aver. round loss: 0.525, acc 0.963\n"
     ]
    }
   ],
   "source": [
    "global_model = Model().to(device)\n",
    "batch_size = 4\n",
    "epochs = 200\n",
    "accs = []\n",
    "\n",
    "for client_id in range(num_client):\n",
    "    print(\"    Client {} training... \".format(client_id), end=\"\")\n",
    "    # Training process\n",
    "    my_training_dataset = training_set[client_id]\n",
    "    my_testing_dataset = testing_set[client_id]\n",
    "    \n",
    "    local_model = copy.deepcopy(global_model).to(device)\n",
    "    \n",
    "    train_dataloader = DataLoader(my_training_dataset, batch_size=batch_size, shuffle=True, drop_last=False)\n",
    "    loss_fn = torch.nn.CrossEntropyLoss()\n",
    "    optimizer = torch.optim.SGD(local_model.parameters(), lr=1e-3)\n",
    "    \n",
    "    epoch_loss = []\n",
    "    for t in range(epochs):\n",
    "        epoch_loss.append(np.mean(train(train_dataloader, local_model, loss_fn, optimizer, device)))\n",
    "        \n",
    "    # Testing the local_model to its own data\n",
    "    acc = test(local_model, my_testing_dataset, device=device)\n",
    "    print(f\"Done! Aver. round loss: {np.mean(epoch_loss):>.3f}, acc {acc:>.3f}\")\n",
    "    accs.append(acc)"
   ]
  },
  {
   "cell_type": "code",
   "execution_count": 11,
   "metadata": {},
   "outputs": [
    {
     "data": {
      "text/plain": [
       "(0.9245833333333333, 0.08167087574187291)"
      ]
     },
     "execution_count": 11,
     "metadata": {},
     "output_type": "execute_result"
    }
   ],
   "source": [
    "np.mean(accs), np.std(accs)"
   ]
  }
 ],
 "metadata": {
  "kernelspec": {
   "display_name": "pytorch",
   "language": "python",
   "name": "python3"
  },
  "language_info": {
   "codemirror_mode": {
    "name": "ipython",
    "version": 3
   },
   "file_extension": ".py",
   "mimetype": "text/x-python",
   "name": "python",
   "nbconvert_exporter": "python",
   "pygments_lexer": "ipython3",
   "version": "3.10.6"
  },
  "orig_nbformat": 4,
  "vscode": {
   "interpreter": {
    "hash": "4dbc9917bcaa9a9fa434c727723b90f93ecc3435121eacd019fcd02c268a833c"
   }
  }
 },
 "nbformat": 4,
 "nbformat_minor": 2
}
